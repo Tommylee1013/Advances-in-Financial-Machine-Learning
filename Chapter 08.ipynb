{
 "cells": [
  {
   "cell_type": "code",
   "execution_count": 2,
   "metadata": {
    "collapsed": true,
    "ExecuteTime": {
     "end_time": "2023-05-17T06:44:15.375554Z",
     "start_time": "2023-05-17T06:44:14.013330Z"
    },
    "id": "tdBT-BaasXL2"
   },
   "outputs": [],
   "source": [
    "import numpy as np, pandas as pd, matplotlib.pyplot as plt\n",
    "import seaborn as sns\n",
    "import FinancialMachineLearning as fml"
   ]
  },
  {
   "cell_type": "markdown",
   "source": [
    "### Chapter 8. Feature Importances\n",
    "#### Exercise 1\n",
    "8.6절의 코드를 사용하여 다음을 수행하라\n",
    "\n",
    "**(a)** Data Set$(X,y)$을 생성하라"
   ],
   "metadata": {
    "collapsed": false,
    "id": "ot7CeDBmsXL6"
   }
  },
  {
   "cell_type": "code",
   "execution_count": 3,
   "outputs": [],
   "source": [
    "trnsX, cont = fml.getTestData(n_features = 40, n_informative = 10, n_redundant = 10, n_samples = 10000)"
   ],
   "metadata": {
    "ExecuteTime": {
     "end_time": "2023-05-17T06:44:15.547785Z",
     "start_time": "2023-05-17T06:44:15.376574Z"
    },
    "id": "Fg2XYfAQsXL7"
   }
  },
  {
   "cell_type": "markdown",
   "source": [
    "**(b)** PCA변환을 $X$에 적용하라. 이를 $\\dot{X}$라 표기한다."
   ],
   "metadata": {
    "collapsed": false,
    "id": "WQvhvztrsXL9"
   }
  },
  {
   "cell_type": "code",
   "source": [
    "pca_X = fml.orthoFeats(trnsX)"
   ],
   "metadata": {
    "id": "y7e2zjD8Q-ul"
   },
   "execution_count": 15,
   "outputs": []
  },
  {
   "cell_type": "markdown",
   "source": [
    "**(c)** $(\\dot{X},y)$에 MDI, MDA, SFI특성 중요도를 계산하라. 여기서 기본 추정기는 Random Forest이다."
   ],
   "metadata": {
    "id": "kRMVHN8uRLGQ"
   }
  },
  {
   "cell_type": "code",
   "execution_count": 23,
   "outputs": [],
   "source": [
    "MDI_imp, MDI_oob, MDI_oos = fml.featImportance(pd.DataFrame(pca_X, index = trnsX.index), cont, method = 'MDI')"
   ],
   "metadata": {
    "is_executing": true,
    "ExecuteTime": {
     "start_time": "2023-05-17T06:44:15.588156Z"
    },
    "id": "ggdk4U_9sXL9"
   }
  },
  {
   "cell_type": "code",
   "source": [
    "MDA_imp, MDA_oob, MDA_oos = fml.featImportance(pd.DataFrame(pca_X, index = trnsX.index), cont, method = 'MDA')"
   ],
   "metadata": {
    "id": "KwDOFwiHSwmn"
   },
   "execution_count": 24,
   "outputs": []
  },
  {
   "cell_type": "code",
   "source": [
    "SFI_imp, SFI_oob, SFI_oos = fml.featImportance(pd.DataFrame(pca_X, index = trnsX.index), cont, method = 'SFI')"
   ],
   "metadata": {
    "colab": {
     "base_uri": "https://localhost:8080/"
    },
    "id": "AvN4nX47TAfS",
    "outputId": "3cf00570-8e15-4e8d-9d1d-57b46e9f170d"
   },
   "execution_count": 25,
   "outputs": [
    {
     "output_type": "stream",
     "name": "stderr",
     "text": [
      "2023-05-17 15:31:37.407401 100.0% auxFeatImpSFI done after 10.59 minutes. Remaining 0.0 minutes.\n"
     ]
    }
   ]
  },
  {
   "cell_type": "code",
   "source": [
    "fml.plotFeatImportance('./testFunc/', MDI_imp, MDI_oob, MDI_oos, 'MDI', tag='MDI', simNum=0)"
   ],
   "metadata": {
    "id": "gP5A9D7SOkKF"
   },
   "execution_count": 27,
   "outputs": []
  },
  {
   "cell_type": "code",
   "source": [
    "fml.plotFeatImportance('./testFunc/', SFI_imp, SFI_oob, SFI_oos, 'SFI', tag='SFI', simNum=2)"
   ],
   "metadata": {
    "id": "4kf0y9i-XIE0"
   },
   "execution_count": 31,
   "outputs": []
  },
  {
   "cell_type": "markdown",
   "source": [
    "**(d)** 세 가지 기법이 주요 특성에 대해 서로 일치하는가? 그 이유는 무엇인가?\n",
    "\n",
    "일치하지 않는다. 아마 대체 효과와 결합 효과 때문에 일치하지 않는 것으로 보인다"
   ],
   "metadata": {
    "id": "yrPWtHxVX2lB"
   }
  },
  {
   "cell_type": "markdown",
   "source": [
    "#### Exercise 2\n",
    "Exercise 1에서 새로운 데이터셋$(\\ddot{X},y)$을 생성하라. 여기서 $\\ddot{X}$는 $\\dot{X}$와 $X$의 특성의 합집합이다"
   ],
   "metadata": {
    "id": "T2rfLzvkYEKy"
   }
  },
  {
   "cell_type": "code",
   "source": [
    "X2 = trnsX.join(pd.DataFrame(pca_X, index = trnsX.index))\n",
    "X2"
   ],
   "metadata": {
    "colab": {
     "base_uri": "https://localhost:8080/",
     "height": 641
    },
    "id": "lAIgAUG0XN82",
    "outputId": "185429fc-1713-44bf-b0bc-346564f53065"
   },
   "execution_count": 33,
   "outputs": [
    {
     "output_type": "execute_result",
     "data": {
      "text/plain": [
       "                 I_0       I_1       I_2       I_3       I_4       I_5  \\\n",
       "1985-01-17  2.843740  0.456554  0.171107 -4.511382  0.278990 -3.474726   \n",
       "1985-01-18  3.561541 -1.566097  3.342813 -1.938909  2.075749 -3.486711   \n",
       "1985-01-21  7.699248 -3.030124 -0.859302 -0.033351  1.113719 -0.877844   \n",
       "1985-01-22 -0.149801 -3.182187  2.695894  1.359997  2.992416 -0.417971   \n",
       "1985-01-23 -2.157903  0.046380  0.697217 -1.012036  1.856002 -2.311465   \n",
       "...              ...       ...       ...       ...       ...       ...   \n",
       "2023-05-11  2.489902 -0.523701  0.618210 -1.837222  1.905865  0.051481   \n",
       "2023-05-12 -0.742495  1.595855  2.173729  1.420993 -1.619853  1.952217   \n",
       "2023-05-15 -0.420406 -0.650531  3.524902 -0.608855 -0.823038  0.070312   \n",
       "2023-05-16 -0.697229 -1.974764  0.438944 -0.208492 -0.279182 -1.887733   \n",
       "2023-05-17 -3.142547 -4.576872 -1.192787  4.092471 -0.913382 -0.214720   \n",
       "\n",
       "                 I_6       I_7       I_8       I_9  ...        18        19  \\\n",
       "1985-01-17  2.955550  2.698865  1.542440  2.198168  ... -1.944196  0.481867   \n",
       "1985-01-18  0.494908  0.309615  1.059439 -0.792433  ...  0.769808  1.209847   \n",
       "1985-01-21  2.344033  4.089113  2.287786  0.611413  ...  0.449401 -0.567609   \n",
       "1985-01-22 -1.214058  1.268313 -3.720913 -2.580578  ... -2.320637 -0.228787   \n",
       "1985-01-23  2.715493  0.444433 -1.921790 -2.472372  ...  2.428816 -0.200491   \n",
       "...              ...       ...       ...       ...  ...       ...       ...   \n",
       "2023-05-11 -2.072887  1.133835  0.055833 -1.655887  ... -0.012629 -0.897007   \n",
       "2023-05-12 -2.131979 -2.340327 -1.629928  0.080561  ... -2.498961  0.622727   \n",
       "2023-05-15 -1.619873 -1.560697 -0.939518 -1.471037  ...  0.618730  1.144909   \n",
       "2023-05-16 -1.931841 -1.163289 -0.111943 -0.732073  ... -0.480852 -0.497127   \n",
       "2023-05-17 -2.212020 -1.341850 -0.225639 -1.141243  ... -0.584750 -0.585692   \n",
       "\n",
       "                  20        21        22        23        24        25  \\\n",
       "1985-01-17 -0.060209  0.277116  0.534618 -0.986281  0.384909  0.801349   \n",
       "1985-01-18  0.564018  0.825132 -0.753131  0.379044  0.456504 -1.176804   \n",
       "1985-01-21  0.040427  0.911582 -0.271040  0.410972 -2.323971 -0.226183   \n",
       "1985-01-22 -1.007314  1.230794 -0.694026 -1.360371  0.970620 -1.304913   \n",
       "1985-01-23  1.533220  0.077449 -1.194174  0.406989  1.561206  0.957596   \n",
       "...              ...       ...       ...       ...       ...       ...   \n",
       "2023-05-11  0.777704 -0.402416 -0.767057  0.485479  0.443525 -1.686910   \n",
       "2023-05-12  0.203980  1.316665  1.627275 -0.254474 -1.629678 -1.386866   \n",
       "2023-05-15  0.400469  0.172555  0.815435 -0.095934  0.136252 -1.221835   \n",
       "2023-05-16  0.908814 -0.013389  0.311419 -0.795188 -0.079691 -0.956303   \n",
       "2023-05-17 -1.492803  0.023177  2.445435 -2.012327  0.770383 -0.419848   \n",
       "\n",
       "                  26        27  \n",
       "1985-01-17 -0.828607  1.121230  \n",
       "1985-01-18  0.593204 -0.354478  \n",
       "1985-01-21 -2.398908  0.385578  \n",
       "1985-01-22  1.543305  0.018166  \n",
       "1985-01-23  0.192124  2.333219  \n",
       "...              ...       ...  \n",
       "2023-05-11  0.679251 -0.280012  \n",
       "2023-05-12 -0.053074 -1.266145  \n",
       "2023-05-15 -0.544944 -0.801909  \n",
       "2023-05-16  0.119475 -0.286195  \n",
       "2023-05-17 -0.988445 -0.762731  \n",
       "\n",
       "[10000 rows x 68 columns]"
      ],
      "text/html": [
       "\n",
       "  <div id=\"df-11cb9cd2-b7ac-4b3f-8520-00b980a1006d\">\n",
       "    <div class=\"colab-df-container\">\n",
       "      <div>\n",
       "<style scoped>\n",
       "    .dataframe tbody tr th:only-of-type {\n",
       "        vertical-align: middle;\n",
       "    }\n",
       "\n",
       "    .dataframe tbody tr th {\n",
       "        vertical-align: top;\n",
       "    }\n",
       "\n",
       "    .dataframe thead th {\n",
       "        text-align: right;\n",
       "    }\n",
       "</style>\n",
       "<table border=\"1\" class=\"dataframe\">\n",
       "  <thead>\n",
       "    <tr style=\"text-align: right;\">\n",
       "      <th></th>\n",
       "      <th>I_0</th>\n",
       "      <th>I_1</th>\n",
       "      <th>I_2</th>\n",
       "      <th>I_3</th>\n",
       "      <th>I_4</th>\n",
       "      <th>I_5</th>\n",
       "      <th>I_6</th>\n",
       "      <th>I_7</th>\n",
       "      <th>I_8</th>\n",
       "      <th>I_9</th>\n",
       "      <th>...</th>\n",
       "      <th>18</th>\n",
       "      <th>19</th>\n",
       "      <th>20</th>\n",
       "      <th>21</th>\n",
       "      <th>22</th>\n",
       "      <th>23</th>\n",
       "      <th>24</th>\n",
       "      <th>25</th>\n",
       "      <th>26</th>\n",
       "      <th>27</th>\n",
       "    </tr>\n",
       "  </thead>\n",
       "  <tbody>\n",
       "    <tr>\n",
       "      <th>1985-01-17</th>\n",
       "      <td>2.843740</td>\n",
       "      <td>0.456554</td>\n",
       "      <td>0.171107</td>\n",
       "      <td>-4.511382</td>\n",
       "      <td>0.278990</td>\n",
       "      <td>-3.474726</td>\n",
       "      <td>2.955550</td>\n",
       "      <td>2.698865</td>\n",
       "      <td>1.542440</td>\n",
       "      <td>2.198168</td>\n",
       "      <td>...</td>\n",
       "      <td>-1.944196</td>\n",
       "      <td>0.481867</td>\n",
       "      <td>-0.060209</td>\n",
       "      <td>0.277116</td>\n",
       "      <td>0.534618</td>\n",
       "      <td>-0.986281</td>\n",
       "      <td>0.384909</td>\n",
       "      <td>0.801349</td>\n",
       "      <td>-0.828607</td>\n",
       "      <td>1.121230</td>\n",
       "    </tr>\n",
       "    <tr>\n",
       "      <th>1985-01-18</th>\n",
       "      <td>3.561541</td>\n",
       "      <td>-1.566097</td>\n",
       "      <td>3.342813</td>\n",
       "      <td>-1.938909</td>\n",
       "      <td>2.075749</td>\n",
       "      <td>-3.486711</td>\n",
       "      <td>0.494908</td>\n",
       "      <td>0.309615</td>\n",
       "      <td>1.059439</td>\n",
       "      <td>-0.792433</td>\n",
       "      <td>...</td>\n",
       "      <td>0.769808</td>\n",
       "      <td>1.209847</td>\n",
       "      <td>0.564018</td>\n",
       "      <td>0.825132</td>\n",
       "      <td>-0.753131</td>\n",
       "      <td>0.379044</td>\n",
       "      <td>0.456504</td>\n",
       "      <td>-1.176804</td>\n",
       "      <td>0.593204</td>\n",
       "      <td>-0.354478</td>\n",
       "    </tr>\n",
       "    <tr>\n",
       "      <th>1985-01-21</th>\n",
       "      <td>7.699248</td>\n",
       "      <td>-3.030124</td>\n",
       "      <td>-0.859302</td>\n",
       "      <td>-0.033351</td>\n",
       "      <td>1.113719</td>\n",
       "      <td>-0.877844</td>\n",
       "      <td>2.344033</td>\n",
       "      <td>4.089113</td>\n",
       "      <td>2.287786</td>\n",
       "      <td>0.611413</td>\n",
       "      <td>...</td>\n",
       "      <td>0.449401</td>\n",
       "      <td>-0.567609</td>\n",
       "      <td>0.040427</td>\n",
       "      <td>0.911582</td>\n",
       "      <td>-0.271040</td>\n",
       "      <td>0.410972</td>\n",
       "      <td>-2.323971</td>\n",
       "      <td>-0.226183</td>\n",
       "      <td>-2.398908</td>\n",
       "      <td>0.385578</td>\n",
       "    </tr>\n",
       "    <tr>\n",
       "      <th>1985-01-22</th>\n",
       "      <td>-0.149801</td>\n",
       "      <td>-3.182187</td>\n",
       "      <td>2.695894</td>\n",
       "      <td>1.359997</td>\n",
       "      <td>2.992416</td>\n",
       "      <td>-0.417971</td>\n",
       "      <td>-1.214058</td>\n",
       "      <td>1.268313</td>\n",
       "      <td>-3.720913</td>\n",
       "      <td>-2.580578</td>\n",
       "      <td>...</td>\n",
       "      <td>-2.320637</td>\n",
       "      <td>-0.228787</td>\n",
       "      <td>-1.007314</td>\n",
       "      <td>1.230794</td>\n",
       "      <td>-0.694026</td>\n",
       "      <td>-1.360371</td>\n",
       "      <td>0.970620</td>\n",
       "      <td>-1.304913</td>\n",
       "      <td>1.543305</td>\n",
       "      <td>0.018166</td>\n",
       "    </tr>\n",
       "    <tr>\n",
       "      <th>1985-01-23</th>\n",
       "      <td>-2.157903</td>\n",
       "      <td>0.046380</td>\n",
       "      <td>0.697217</td>\n",
       "      <td>-1.012036</td>\n",
       "      <td>1.856002</td>\n",
       "      <td>-2.311465</td>\n",
       "      <td>2.715493</td>\n",
       "      <td>0.444433</td>\n",
       "      <td>-1.921790</td>\n",
       "      <td>-2.472372</td>\n",
       "      <td>...</td>\n",
       "      <td>2.428816</td>\n",
       "      <td>-0.200491</td>\n",
       "      <td>1.533220</td>\n",
       "      <td>0.077449</td>\n",
       "      <td>-1.194174</td>\n",
       "      <td>0.406989</td>\n",
       "      <td>1.561206</td>\n",
       "      <td>0.957596</td>\n",
       "      <td>0.192124</td>\n",
       "      <td>2.333219</td>\n",
       "    </tr>\n",
       "    <tr>\n",
       "      <th>...</th>\n",
       "      <td>...</td>\n",
       "      <td>...</td>\n",
       "      <td>...</td>\n",
       "      <td>...</td>\n",
       "      <td>...</td>\n",
       "      <td>...</td>\n",
       "      <td>...</td>\n",
       "      <td>...</td>\n",
       "      <td>...</td>\n",
       "      <td>...</td>\n",
       "      <td>...</td>\n",
       "      <td>...</td>\n",
       "      <td>...</td>\n",
       "      <td>...</td>\n",
       "      <td>...</td>\n",
       "      <td>...</td>\n",
       "      <td>...</td>\n",
       "      <td>...</td>\n",
       "      <td>...</td>\n",
       "      <td>...</td>\n",
       "      <td>...</td>\n",
       "    </tr>\n",
       "    <tr>\n",
       "      <th>2023-05-11</th>\n",
       "      <td>2.489902</td>\n",
       "      <td>-0.523701</td>\n",
       "      <td>0.618210</td>\n",
       "      <td>-1.837222</td>\n",
       "      <td>1.905865</td>\n",
       "      <td>0.051481</td>\n",
       "      <td>-2.072887</td>\n",
       "      <td>1.133835</td>\n",
       "      <td>0.055833</td>\n",
       "      <td>-1.655887</td>\n",
       "      <td>...</td>\n",
       "      <td>-0.012629</td>\n",
       "      <td>-0.897007</td>\n",
       "      <td>0.777704</td>\n",
       "      <td>-0.402416</td>\n",
       "      <td>-0.767057</td>\n",
       "      <td>0.485479</td>\n",
       "      <td>0.443525</td>\n",
       "      <td>-1.686910</td>\n",
       "      <td>0.679251</td>\n",
       "      <td>-0.280012</td>\n",
       "    </tr>\n",
       "    <tr>\n",
       "      <th>2023-05-12</th>\n",
       "      <td>-0.742495</td>\n",
       "      <td>1.595855</td>\n",
       "      <td>2.173729</td>\n",
       "      <td>1.420993</td>\n",
       "      <td>-1.619853</td>\n",
       "      <td>1.952217</td>\n",
       "      <td>-2.131979</td>\n",
       "      <td>-2.340327</td>\n",
       "      <td>-1.629928</td>\n",
       "      <td>0.080561</td>\n",
       "      <td>...</td>\n",
       "      <td>-2.498961</td>\n",
       "      <td>0.622727</td>\n",
       "      <td>0.203980</td>\n",
       "      <td>1.316665</td>\n",
       "      <td>1.627275</td>\n",
       "      <td>-0.254474</td>\n",
       "      <td>-1.629678</td>\n",
       "      <td>-1.386866</td>\n",
       "      <td>-0.053074</td>\n",
       "      <td>-1.266145</td>\n",
       "    </tr>\n",
       "    <tr>\n",
       "      <th>2023-05-15</th>\n",
       "      <td>-0.420406</td>\n",
       "      <td>-0.650531</td>\n",
       "      <td>3.524902</td>\n",
       "      <td>-0.608855</td>\n",
       "      <td>-0.823038</td>\n",
       "      <td>0.070312</td>\n",
       "      <td>-1.619873</td>\n",
       "      <td>-1.560697</td>\n",
       "      <td>-0.939518</td>\n",
       "      <td>-1.471037</td>\n",
       "      <td>...</td>\n",
       "      <td>0.618730</td>\n",
       "      <td>1.144909</td>\n",
       "      <td>0.400469</td>\n",
       "      <td>0.172555</td>\n",
       "      <td>0.815435</td>\n",
       "      <td>-0.095934</td>\n",
       "      <td>0.136252</td>\n",
       "      <td>-1.221835</td>\n",
       "      <td>-0.544944</td>\n",
       "      <td>-0.801909</td>\n",
       "    </tr>\n",
       "    <tr>\n",
       "      <th>2023-05-16</th>\n",
       "      <td>-0.697229</td>\n",
       "      <td>-1.974764</td>\n",
       "      <td>0.438944</td>\n",
       "      <td>-0.208492</td>\n",
       "      <td>-0.279182</td>\n",
       "      <td>-1.887733</td>\n",
       "      <td>-1.931841</td>\n",
       "      <td>-1.163289</td>\n",
       "      <td>-0.111943</td>\n",
       "      <td>-0.732073</td>\n",
       "      <td>...</td>\n",
       "      <td>-0.480852</td>\n",
       "      <td>-0.497127</td>\n",
       "      <td>0.908814</td>\n",
       "      <td>-0.013389</td>\n",
       "      <td>0.311419</td>\n",
       "      <td>-0.795188</td>\n",
       "      <td>-0.079691</td>\n",
       "      <td>-0.956303</td>\n",
       "      <td>0.119475</td>\n",
       "      <td>-0.286195</td>\n",
       "    </tr>\n",
       "    <tr>\n",
       "      <th>2023-05-17</th>\n",
       "      <td>-3.142547</td>\n",
       "      <td>-4.576872</td>\n",
       "      <td>-1.192787</td>\n",
       "      <td>4.092471</td>\n",
       "      <td>-0.913382</td>\n",
       "      <td>-0.214720</td>\n",
       "      <td>-2.212020</td>\n",
       "      <td>-1.341850</td>\n",
       "      <td>-0.225639</td>\n",
       "      <td>-1.141243</td>\n",
       "      <td>...</td>\n",
       "      <td>-0.584750</td>\n",
       "      <td>-0.585692</td>\n",
       "      <td>-1.492803</td>\n",
       "      <td>0.023177</td>\n",
       "      <td>2.445435</td>\n",
       "      <td>-2.012327</td>\n",
       "      <td>0.770383</td>\n",
       "      <td>-0.419848</td>\n",
       "      <td>-0.988445</td>\n",
       "      <td>-0.762731</td>\n",
       "    </tr>\n",
       "  </tbody>\n",
       "</table>\n",
       "<p>10000 rows × 68 columns</p>\n",
       "</div>\n",
       "      <button class=\"colab-df-convert\" onclick=\"convertToInteractive('df-11cb9cd2-b7ac-4b3f-8520-00b980a1006d')\"\n",
       "              title=\"Convert this dataframe to an interactive table.\"\n",
       "              style=\"display:none;\">\n",
       "        \n",
       "  <svg xmlns=\"http://www.w3.org/2000/svg\" height=\"24px\"viewBox=\"0 0 24 24\"\n",
       "       width=\"24px\">\n",
       "    <path d=\"M0 0h24v24H0V0z\" fill=\"none\"/>\n",
       "    <path d=\"M18.56 5.44l.94 2.06.94-2.06 2.06-.94-2.06-.94-.94-2.06-.94 2.06-2.06.94zm-11 1L8.5 8.5l.94-2.06 2.06-.94-2.06-.94L8.5 2.5l-.94 2.06-2.06.94zm10 10l.94 2.06.94-2.06 2.06-.94-2.06-.94-.94-2.06-.94 2.06-2.06.94z\"/><path d=\"M17.41 7.96l-1.37-1.37c-.4-.4-.92-.59-1.43-.59-.52 0-1.04.2-1.43.59L10.3 9.45l-7.72 7.72c-.78.78-.78 2.05 0 2.83L4 21.41c.39.39.9.59 1.41.59.51 0 1.02-.2 1.41-.59l7.78-7.78 2.81-2.81c.8-.78.8-2.07 0-2.86zM5.41 20L4 18.59l7.72-7.72 1.47 1.35L5.41 20z\"/>\n",
       "  </svg>\n",
       "      </button>\n",
       "      \n",
       "  <style>\n",
       "    .colab-df-container {\n",
       "      display:flex;\n",
       "      flex-wrap:wrap;\n",
       "      gap: 12px;\n",
       "    }\n",
       "\n",
       "    .colab-df-convert {\n",
       "      background-color: #E8F0FE;\n",
       "      border: none;\n",
       "      border-radius: 50%;\n",
       "      cursor: pointer;\n",
       "      display: none;\n",
       "      fill: #1967D2;\n",
       "      height: 32px;\n",
       "      padding: 0 0 0 0;\n",
       "      width: 32px;\n",
       "    }\n",
       "\n",
       "    .colab-df-convert:hover {\n",
       "      background-color: #E2EBFA;\n",
       "      box-shadow: 0px 1px 2px rgba(60, 64, 67, 0.3), 0px 1px 3px 1px rgba(60, 64, 67, 0.15);\n",
       "      fill: #174EA6;\n",
       "    }\n",
       "\n",
       "    [theme=dark] .colab-df-convert {\n",
       "      background-color: #3B4455;\n",
       "      fill: #D2E3FC;\n",
       "    }\n",
       "\n",
       "    [theme=dark] .colab-df-convert:hover {\n",
       "      background-color: #434B5C;\n",
       "      box-shadow: 0px 1px 3px 1px rgba(0, 0, 0, 0.15);\n",
       "      filter: drop-shadow(0px 1px 2px rgba(0, 0, 0, 0.3));\n",
       "      fill: #FFFFFF;\n",
       "    }\n",
       "  </style>\n",
       "\n",
       "      <script>\n",
       "        const buttonEl =\n",
       "          document.querySelector('#df-11cb9cd2-b7ac-4b3f-8520-00b980a1006d button.colab-df-convert');\n",
       "        buttonEl.style.display =\n",
       "          google.colab.kernel.accessAllowed ? 'block' : 'none';\n",
       "\n",
       "        async function convertToInteractive(key) {\n",
       "          const element = document.querySelector('#df-11cb9cd2-b7ac-4b3f-8520-00b980a1006d');\n",
       "          const dataTable =\n",
       "            await google.colab.kernel.invokeFunction('convertToInteractive',\n",
       "                                                     [key], {});\n",
       "          if (!dataTable) return;\n",
       "\n",
       "          const docLinkHtml = 'Like what you see? Visit the ' +\n",
       "            '<a target=\"_blank\" href=https://colab.research.google.com/notebooks/data_table.ipynb>data table notebook</a>'\n",
       "            + ' to learn more about interactive tables.';\n",
       "          element.innerHTML = '';\n",
       "          dataTable['output_type'] = 'display_data';\n",
       "          await google.colab.output.renderOutput(dataTable, element);\n",
       "          const docLink = document.createElement('div');\n",
       "          docLink.innerHTML = docLinkHtml;\n",
       "          element.appendChild(docLink);\n",
       "        }\n",
       "      </script>\n",
       "    </div>\n",
       "  </div>\n",
       "  "
      ]
     },
     "metadata": {},
     "execution_count": 33
    }
   ]
  },
  {
   "cell_type": "code",
   "source": [
    "X2.columns = X2.columns.astype(str)"
   ],
   "metadata": {
    "id": "UmVYS0GvZiTn"
   },
   "execution_count": 35,
   "outputs": []
  },
  {
   "cell_type": "markdown",
   "source": [
    "**(a)** $(\\ddot{X},y)$에 MDI, MDA, SFI 특성 중요도를 계산하라. 여기서 기본 추정기는 Random Forest이다"
   ],
   "metadata": {
    "id": "glmKC52tZE_Y"
   }
  },
  {
   "cell_type": "code",
   "source": [
    "MDI_imp2, MDI_oob2, MDI_oos2 = fml.featImportance(X2, cont, method = 'MDI')"
   ],
   "metadata": {
    "id": "yFLG1r9XQcoP"
   },
   "execution_count": 36,
   "outputs": []
  },
  {
   "cell_type": "code",
   "source": [
    "MDA_imp2, MDA_oob2, MDA_oos2 = fml.featImportance(X2, cont, method = 'MDA')"
   ],
   "metadata": {
    "id": "bCmogwuxZWzK"
   },
   "execution_count": 37,
   "outputs": []
  },
  {
   "cell_type": "code",
   "source": [
    "SFI_imp2, SFI_oob2, SFI_oos2 = fml.featImportance(X2, cont, method = 'SFI')"
   ],
   "metadata": {
    "colab": {
     "base_uri": "https://localhost:8080/"
    },
    "id": "qHdBN2mfZYw8",
    "outputId": "f7c90ebf-b6bf-402a-d4dd-a3da80c31355"
   },
   "execution_count": 38,
   "outputs": [
    {
     "output_type": "stream",
     "name": "stderr",
     "text": [
      "2023-05-17 16:16:43.683718 100.0% auxFeatImpSFI done after 24.87 minutes. Remaining 0.0 minutes.\n"
     ]
    }
   ]
  },
  {
   "cell_type": "code",
   "source": [
    "fml.plotFeatImportance('./testFunc/', MDI_imp2, MDI_oob2, MDI_oos2, 'MDI', tag='MDI', simNum=3)"
   ],
   "metadata": {
    "id": "PWO26mneZtia"
   },
   "execution_count": 39,
   "outputs": []
  },
  {
   "cell_type": "code",
   "source": [
    "fml.plotFeatImportance('./testFunc/', SFI_imp2, SFI_oob2, SFI_oos2, 'SFI', tag='SFI', simNum=4)"
   ],
   "metadata": {
    "id": "H2QwcUUsgIpo"
   },
   "execution_count": 41,
   "outputs": []
  },
  {
   "cell_type": "markdown",
   "source": [
    "**(d)** 세 가지 기법이 주요 특성에 대해 서로 일치하는가? 그 이유는 무엇인가?\n",
    "\n",
    "일치하지 않는다. 아마 대체 효과와 결합 효과 때문에 일치하지 않는 것으로 보인다"
   ],
   "metadata": {
    "id": "KrrIs7NUgfai"
   }
  },
  {
   "cell_type": "markdown",
   "source": [
    "#### Exercise 3\n",
    "Exercise 2의 결과를 가져오라."
   ],
   "metadata": {
    "id": "3pJFt63YhHXT"
   }
  },
  {
   "cell_type": "markdown",
   "source": [
    "**(a)** 각 기법에 따라 가장 중요한 특성을 제거한 후 특성 행렬 $\\dddot{X}$를 만들어라"
   ],
   "metadata": {
    "id": "IjvrW8TQhNZd"
   }
  },
  {
   "cell_type": "markdown",
   "source": [
    "**(b)** $(\\dddot{X},y)$에 대해 MDI, MDA, SFI 특성 중요도를 계산하라. 기본 추정기는 Random Forest이다"
   ],
   "metadata": {
    "id": "FIS19TOahW7m"
   }
  },
  {
   "cell_type": "markdown",
   "source": [
    "**(c)** Exercise 2와 비교해 주요 특성의 순위에 큰 변화를 인식할 수 있는가?"
   ],
   "metadata": {
    "id": "4xxp28jjhi9r"
   }
  },
  {
   "cell_type": "markdown",
   "source": [
    "#### Exercise 4\n",
    "8.6절에 있는 코드를 사용하라"
   ],
   "metadata": {
    "id": "CJ64uTsfhr0G"
   }
  },
  {
   "cell_type": "markdown",
   "source": [
    "**(a)** 1e6개 관측값의 데이터셋 $(X,y)$를 생성하라. 이 중 5개 특성은 정보성이고, 5개는 중복성이며, 10개는 잡음이다"
   ],
   "metadata": {
    "id": "UDuoDBtmhxY2"
   }
  },
  {
   "cell_type": "code",
   "source": [
    "X, y = fml.getTestData(n_features = 20, n_informative = 5, n_redundant = 5, n_samples = 10000) \n",
    "# 총 20개, 5개는 정보성, 5개는 중복성, 10개는 잡음"
   ],
   "metadata": {
    "id": "I9eUDJDrgPNH"
   },
   "execution_count": 43,
   "outputs": []
  },
  {
   "cell_type": "code",
   "source": [],
   "metadata": {
    "id": "zQ_ZpAIUii7y"
   },
   "execution_count": null,
   "outputs": []
  }
 ],
 "metadata": {
  "kernelspec": {
   "display_name": "Python 3",
   "language": "python",
   "name": "python3"
  },
  "language_info": {
   "codemirror_mode": {
    "name": "ipython",
    "version": 2
   },
   "file_extension": ".py",
   "mimetype": "text/x-python",
   "name": "python",
   "nbconvert_exporter": "python",
   "pygments_lexer": "ipython2",
   "version": "2.7.6"
  },
  "colab": {
   "provenance": [],
   "machine_shape": "hm"
  },
  "gpuClass": "standard"
 },
 "nbformat": 4,
 "nbformat_minor": 0
}
