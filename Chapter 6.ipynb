{
 "cells": [
  {
   "cell_type": "code",
   "execution_count": 1,
   "metadata": {
    "collapsed": true,
    "ExecuteTime": {
     "end_time": "2023-05-17T03:16:41.461893Z",
     "start_time": "2023-05-17T03:16:39.398084Z"
    }
   },
   "outputs": [],
   "source": [
    "import numpy as np, pandas as pd, matplotlib.pyplot as plt\n",
    "import seaborn as sns\n",
    "import FinancialMachineLearning as fml"
   ]
  },
  {
   "cell_type": "markdown",
   "source": [
    "### Chapter 6. Ensemble methods\n",
    "\n",
    "#### Exercise 1\n",
    "Bagging이 Bootstrapping에 기반을 두는 이유는 무엇인가? Sampling이 복원 없이 수행되는 경우에도 Bagging은 예측 분산을 감소시킬 수 있는가?"
   ],
   "metadata": {
    "collapsed": false
   }
  },
  {
   "cell_type": "markdown",
   "source": [
    "#### Exercise 2\n",
    "훈련 데이터셋이 상당한 Concurrency가 있는 Label에 바탕을 두고 있다고 가정해 보자\n",
    "\n",
    "**(a)** 이 때문에 Bagging의 Overfitting 가능성이 커지는가? 그 이유는 무엇인가?"
   ],
   "metadata": {
    "collapsed": false
   }
  },
  {
   "cell_type": "markdown",
   "source": [
    "**(b)** OOB정확도는 일반적인 금융에서 신뢰할 수 있는가? 그 이유는 무엇인가?"
   ],
   "metadata": {
    "collapsed": false
   }
  },
  {
   "cell_type": "code",
   "execution_count": null,
   "outputs": [],
   "source": [],
   "metadata": {
    "collapsed": false
   }
  }
 ],
 "metadata": {
  "kernelspec": {
   "display_name": "Python 3",
   "language": "python",
   "name": "python3"
  },
  "language_info": {
   "codemirror_mode": {
    "name": "ipython",
    "version": 2
   },
   "file_extension": ".py",
   "mimetype": "text/x-python",
   "name": "python",
   "nbconvert_exporter": "python",
   "pygments_lexer": "ipython2",
   "version": "2.7.6"
  }
 },
 "nbformat": 4,
 "nbformat_minor": 0
}
