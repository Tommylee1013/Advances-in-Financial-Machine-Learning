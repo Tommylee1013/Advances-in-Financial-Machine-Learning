{
 "cells": [
  {
   "cell_type": "code",
   "execution_count": 1,
   "metadata": {
    "collapsed": true,
    "ExecuteTime": {
     "start_time": "2023-06-06T03:52:54.211703Z",
     "end_time": "2023-06-06T03:53:06.527841Z"
    }
   },
   "outputs": [],
   "source": [
    "import numpy as np, pandas as pd, matplotlib.pyplot as plt\n",
    "import seaborn as sns\n",
    "import FinancialMachineLearning as fml"
   ]
  },
  {
   "cell_type": "markdown",
   "source": [
    "### Chapter 14. Backtest Statistics\n",
    "\n",
    "#### Exercise 1\n",
    "특정 전략이 높은 매매 회전율, 높은 레버리지, 높은 베팅 개수, 짧은 보유 기간, 낮은 실행 비용 대비 수익률, 높은 Sharpe Ratio를 가진다고 하자. Capacity가 클 것으로 생각되는가? 이것은 어떤 종류의 전략으로 보이는가?\n",
    "\n",
    "선물과 같은 소수의 상품에 대한 차익거래 전략과 유사한 것으로 보인다. 보유 기간이 짧고 높은 전략은 일반적으로 Capacity가 낮은 경향이 있다"
   ],
   "metadata": {
    "collapsed": false
   }
  },
  {
   "cell_type": "markdown",
   "source": [
    "#### Exercise 2\n",
    "E-mini S&P 500 선물의 달러 바 데이터셋에 대해 다음을 계산하라."
   ],
   "metadata": {
    "collapsed": false
   }
  },
  {
   "cell_type": "code",
   "execution_count": 2,
   "outputs": [
    {
     "name": "stdout",
     "output_type": "stream",
     "text": [
      "86.96\n",
      "[36.17 36.25 36.21 ... 29.26 29.26 29.26]\n",
      "[1.41225268 1.41537627 1.41381447 ... 1.14245268 1.14245268 1.14245268]\n"
     ]
    }
   ],
   "source": [
    "df = pd.read_parquet('./Data/IVE_tickbidask.parq')\n",
    "mad = fml.madOutlier(df.price.values.reshape(-1, 1))\n",
    "df = df.loc[~mad]\n",
    "dollar_M = 1000000\n",
    "dollar_df = fml.BarSampling(df, 'dv', dollar_M)"
   ],
   "metadata": {
    "collapsed": false,
    "ExecuteTime": {
     "start_time": "2023-06-06T03:53:06.527473Z",
     "end_time": "2023-06-06T03:53:08.940717Z"
    }
   }
  },
  {
   "cell_type": "code",
   "execution_count": 3,
   "outputs": [
    {
     "data": {
      "text/plain": "                      price     bid     ask   size      v          dv\ndates                                                                \n2009-09-28 09:46:35   51.07   51.05   51.07    900    900    45963.00\n2009-09-28 09:53:49   51.14   51.13   51.14   2000   2000   102280.00\n2009-09-28 09:55:26   51.14   51.11   51.14    100    100     5114.00\n2009-09-28 10:02:52   51.25   51.24   51.26   4300   4300   220375.00\n2009-09-28 10:10:21   51.29   51.28   51.29   4500   4500   230805.00\n...                     ...     ...     ...    ...    ...         ...\n2018-10-05 15:58:23  116.19  116.19  116.20   1354   1354   157321.26\n2018-10-05 15:59:20  116.18  116.17  116.19    300    300    34854.00\n2018-10-05 15:59:55  116.19  116.18  116.20    800    800    92952.00\n2018-10-05 15:59:59  116.20  116.18  116.19   2000   2000   232400.00\n2018-10-05 16:00:00  116.22  116.20  116.21  42884  42884  4983978.48\n\n[50766 rows x 6 columns]",
      "text/html": "<div>\n<style scoped>\n    .dataframe tbody tr th:only-of-type {\n        vertical-align: middle;\n    }\n\n    .dataframe tbody tr th {\n        vertical-align: top;\n    }\n\n    .dataframe thead th {\n        text-align: right;\n    }\n</style>\n<table border=\"1\" class=\"dataframe\">\n  <thead>\n    <tr style=\"text-align: right;\">\n      <th></th>\n      <th>price</th>\n      <th>bid</th>\n      <th>ask</th>\n      <th>size</th>\n      <th>v</th>\n      <th>dv</th>\n    </tr>\n    <tr>\n      <th>dates</th>\n      <th></th>\n      <th></th>\n      <th></th>\n      <th></th>\n      <th></th>\n      <th></th>\n    </tr>\n  </thead>\n  <tbody>\n    <tr>\n      <th>2009-09-28 09:46:35</th>\n      <td>51.07</td>\n      <td>51.05</td>\n      <td>51.07</td>\n      <td>900</td>\n      <td>900</td>\n      <td>45963.00</td>\n    </tr>\n    <tr>\n      <th>2009-09-28 09:53:49</th>\n      <td>51.14</td>\n      <td>51.13</td>\n      <td>51.14</td>\n      <td>2000</td>\n      <td>2000</td>\n      <td>102280.00</td>\n    </tr>\n    <tr>\n      <th>2009-09-28 09:55:26</th>\n      <td>51.14</td>\n      <td>51.11</td>\n      <td>51.14</td>\n      <td>100</td>\n      <td>100</td>\n      <td>5114.00</td>\n    </tr>\n    <tr>\n      <th>2009-09-28 10:02:52</th>\n      <td>51.25</td>\n      <td>51.24</td>\n      <td>51.26</td>\n      <td>4300</td>\n      <td>4300</td>\n      <td>220375.00</td>\n    </tr>\n    <tr>\n      <th>2009-09-28 10:10:21</th>\n      <td>51.29</td>\n      <td>51.28</td>\n      <td>51.29</td>\n      <td>4500</td>\n      <td>4500</td>\n      <td>230805.00</td>\n    </tr>\n    <tr>\n      <th>...</th>\n      <td>...</td>\n      <td>...</td>\n      <td>...</td>\n      <td>...</td>\n      <td>...</td>\n      <td>...</td>\n    </tr>\n    <tr>\n      <th>2018-10-05 15:58:23</th>\n      <td>116.19</td>\n      <td>116.19</td>\n      <td>116.20</td>\n      <td>1354</td>\n      <td>1354</td>\n      <td>157321.26</td>\n    </tr>\n    <tr>\n      <th>2018-10-05 15:59:20</th>\n      <td>116.18</td>\n      <td>116.17</td>\n      <td>116.19</td>\n      <td>300</td>\n      <td>300</td>\n      <td>34854.00</td>\n    </tr>\n    <tr>\n      <th>2018-10-05 15:59:55</th>\n      <td>116.19</td>\n      <td>116.18</td>\n      <td>116.20</td>\n      <td>800</td>\n      <td>800</td>\n      <td>92952.00</td>\n    </tr>\n    <tr>\n      <th>2018-10-05 15:59:59</th>\n      <td>116.20</td>\n      <td>116.18</td>\n      <td>116.19</td>\n      <td>2000</td>\n      <td>2000</td>\n      <td>232400.00</td>\n    </tr>\n    <tr>\n      <th>2018-10-05 16:00:00</th>\n      <td>116.22</td>\n      <td>116.20</td>\n      <td>116.21</td>\n      <td>42884</td>\n      <td>42884</td>\n      <td>4983978.48</td>\n    </tr>\n  </tbody>\n</table>\n<p>50766 rows × 6 columns</p>\n</div>"
     },
     "execution_count": 3,
     "metadata": {},
     "output_type": "execute_result"
    }
   ],
   "source": [
    "dollar_df"
   ],
   "metadata": {
    "collapsed": false,
    "ExecuteTime": {
     "start_time": "2023-06-06T03:53:08.945534Z",
     "end_time": "2023-06-06T03:53:08.980258Z"
    }
   }
  },
  {
   "cell_type": "markdown",
   "source": [
    "**(a)** 양의 수익률에 대한 HHI index"
   ],
   "metadata": {
    "collapsed": false
   }
  },
  {
   "cell_type": "code",
   "execution_count": 4,
   "outputs": [
    {
     "data": {
      "text/plain": "dates\n2009-09-28 09:46:35         NaN\n2009-09-28 09:53:49    0.001371\n2009-09-28 09:55:26    0.000000\n2009-09-28 10:02:52    0.002151\n2009-09-28 10:10:21    0.000780\n                         ...   \n2018-10-05 15:58:23   -0.000430\n2018-10-05 15:59:20   -0.000086\n2018-10-05 15:59:55    0.000086\n2018-10-05 15:59:59    0.000086\n2018-10-05 16:00:00    0.000172\nName: price, Length: 50766, dtype: float64"
     },
     "execution_count": 4,
     "metadata": {},
     "output_type": "execute_result"
    }
   ],
   "source": [
    "ret = (dollar_df['price'] - dollar_df['price'].shift(1)) / dollar_df['price'].shift(1)\n",
    "ret"
   ],
   "metadata": {
    "collapsed": false,
    "ExecuteTime": {
     "start_time": "2023-06-06T03:53:08.959229Z",
     "end_time": "2023-06-06T03:53:08.980841Z"
    }
   }
  },
  {
   "cell_type": "code",
   "execution_count": 5,
   "outputs": [
    {
     "data": {
      "text/plain": "0.00021670938102371894"
     },
     "execution_count": 5,
     "metadata": {},
     "output_type": "execute_result"
    }
   ],
   "source": [
    "fml.getHHI(ret[ret >= 0])"
   ],
   "metadata": {
    "collapsed": false,
    "ExecuteTime": {
     "start_time": "2023-06-06T03:53:08.967642Z",
     "end_time": "2023-06-06T03:53:08.981014Z"
    }
   }
  },
  {
   "cell_type": "markdown",
   "source": [
    "**(b)** 음의 수익률에 대한 HHI index"
   ],
   "metadata": {
    "collapsed": false
   }
  },
  {
   "cell_type": "code",
   "execution_count": 6,
   "outputs": [
    {
     "data": {
      "text/plain": "0.0001938681018384944"
     },
     "execution_count": 6,
     "metadata": {},
     "output_type": "execute_result"
    }
   ],
   "source": [
    "fml.getHHI(ret[ret < 0])"
   ],
   "metadata": {
    "collapsed": false,
    "ExecuteTime": {
     "start_time": "2023-06-06T03:53:08.972581Z",
     "end_time": "2023-06-06T03:53:08.981155Z"
    }
   }
  },
  {
   "cell_type": "markdown",
   "source": [
    "**(c)** bar 사이 시간의 HHI index"
   ],
   "metadata": {
    "collapsed": false
   }
  },
  {
   "cell_type": "code",
   "execution_count": 7,
   "outputs": [
    {
     "data": {
      "text/plain": "0.0022141701516628113"
     },
     "execution_count": 7,
     "metadata": {},
     "output_type": "execute_result"
    }
   ],
   "source": [
    "fml.getHHI(ret.groupby(pd.Grouper(freq = 'M')).count())"
   ],
   "metadata": {
    "collapsed": false,
    "ExecuteTime": {
     "start_time": "2023-06-06T03:53:08.979079Z",
     "end_time": "2023-06-06T03:53:09.018280Z"
    }
   }
  },
  {
   "cell_type": "markdown",
   "source": [
    "**(d)** 95백분위의 Draw Down"
   ],
   "metadata": {
    "collapsed": false
   }
  },
  {
   "cell_type": "code",
   "execution_count": 8,
   "outputs": [],
   "source": [
    "DD, tuW = fml.computeDD_TuW(ret.dropna())"
   ],
   "metadata": {
    "collapsed": false,
    "ExecuteTime": {
     "start_time": "2023-06-06T03:53:08.997965Z",
     "end_time": "2023-06-06T03:53:09.037555Z"
    }
   }
  },
  {
   "cell_type": "code",
   "execution_count": 9,
   "outputs": [
    {
     "data": {
      "text/plain": "15.633492384764438"
     },
     "execution_count": 9,
     "metadata": {},
     "output_type": "execute_result"
    }
   ],
   "source": [
    "np.quantile(DD, 0.95)"
   ],
   "metadata": {
    "collapsed": false,
    "ExecuteTime": {
     "start_time": "2023-06-06T03:53:09.016428Z",
     "end_time": "2023-06-06T03:53:09.037851Z"
    }
   }
  },
  {
   "cell_type": "markdown",
   "source": [
    "**(e)** 95백분위의 TuW"
   ],
   "metadata": {
    "collapsed": false
   }
  },
  {
   "cell_type": "code",
   "execution_count": 10,
   "outputs": [
    {
     "data": {
      "text/plain": "0.4542787845923775"
     },
     "execution_count": 10,
     "metadata": {},
     "output_type": "execute_result"
    }
   ],
   "source": [
    "np.quantile(tuW, 0.95)"
   ],
   "metadata": {
    "collapsed": false,
    "ExecuteTime": {
     "start_time": "2023-06-06T03:53:09.025140Z",
     "end_time": "2023-06-06T03:53:09.070541Z"
    }
   }
  },
  {
   "cell_type": "markdown",
   "source": [
    "**(f)** 연환산 평균 수익률"
   ],
   "metadata": {
    "collapsed": false
   }
  },
  {
   "cell_type": "code",
   "execution_count": 11,
   "outputs": [
    {
     "data": {
      "text/plain": "0.08570415861143288"
     },
     "execution_count": 11,
     "metadata": {},
     "output_type": "execute_result"
    }
   ],
   "source": [
    "(ret + 1).prod() ** 0.1 - 1"
   ],
   "metadata": {
    "collapsed": false,
    "ExecuteTime": {
     "start_time": "2023-06-06T03:53:09.031087Z",
     "end_time": "2023-06-06T03:53:09.098879Z"
    }
   }
  },
  {
   "cell_type": "markdown",
   "source": [
    "**(g)** 히트로부터의 평균 수익률"
   ],
   "metadata": {
    "collapsed": false
   }
  },
  {
   "cell_type": "code",
   "execution_count": 12,
   "outputs": [
    {
     "data": {
      "text/plain": "0.001082506359850725"
     },
     "execution_count": 12,
     "metadata": {},
     "output_type": "execute_result"
    }
   ],
   "source": [
    "ret[ret >= 0].mean()"
   ],
   "metadata": {
    "collapsed": false,
    "ExecuteTime": {
     "start_time": "2023-06-06T03:53:09.036740Z",
     "end_time": "2023-06-06T03:53:09.154690Z"
    }
   }
  },
  {
   "cell_type": "markdown",
   "source": [
    "**(h)** 미스로부터의 평균 수익률"
   ],
   "metadata": {
    "collapsed": false
   }
  },
  {
   "cell_type": "code",
   "execution_count": 13,
   "outputs": [
    {
     "data": {
      "text/plain": "-0.0011569874483164516"
     },
     "execution_count": 13,
     "metadata": {},
     "output_type": "execute_result"
    }
   ],
   "source": [
    "ret[ret < 0].mean()"
   ],
   "metadata": {
    "collapsed": false,
    "ExecuteTime": {
     "start_time": "2023-06-06T03:53:09.043442Z",
     "end_time": "2023-06-06T03:53:09.154923Z"
    }
   }
  },
  {
   "cell_type": "markdown",
   "source": [
    "**(i)** 연환산 Sharpe Ratio"
   ],
   "metadata": {
    "collapsed": false
   }
  },
  {
   "cell_type": "code",
   "execution_count": 14,
   "outputs": [
    {
     "data": {
      "text/plain": "0.5132088565117002"
     },
     "execution_count": 14,
     "metadata": {},
     "output_type": "execute_result"
    }
   ],
   "source": [
    "ret.mean() / ret.std() * ret.groupby(pd.Grouper(freq = 'Y')).count().mean() ** 0.5"
   ],
   "metadata": {
    "collapsed": false,
    "ExecuteTime": {
     "start_time": "2023-06-06T03:53:09.050468Z",
     "end_time": "2023-06-06T03:53:09.155028Z"
    }
   }
  },
  {
   "cell_type": "markdown",
   "source": [
    "**(j)** 정보 비율, 여기서 벤치마크는 무위험 이자율"
   ],
   "metadata": {
    "collapsed": false
   }
  },
  {
   "cell_type": "code",
   "execution_count": 15,
   "outputs": [
    {
     "data": {
      "text/plain": "0.0027886796448252918"
     },
     "execution_count": 15,
     "metadata": {},
     "output_type": "execute_result"
    }
   ],
   "source": [
    "ret.std()"
   ],
   "metadata": {
    "collapsed": false,
    "ExecuteTime": {
     "start_time": "2023-06-06T03:53:09.057528Z",
     "end_time": "2023-06-06T03:53:09.155526Z"
    }
   }
  },
  {
   "cell_type": "code",
   "execution_count": 16,
   "outputs": [],
   "source": [
    "avg_ret = (ret + 1).prod() ** 0.1 - 1\n",
    "risk_free = 0.025\n",
    "info_ratio = (avg_ret - risk_free) / ret.std()"
   ],
   "metadata": {
    "collapsed": false,
    "ExecuteTime": {
     "start_time": "2023-06-06T03:53:09.066308Z",
     "end_time": "2023-06-06T03:53:09.155586Z"
    }
   }
  },
  {
   "cell_type": "code",
   "execution_count": 17,
   "outputs": [
    {
     "data": {
      "text/plain": "21.768064583566012"
     },
     "execution_count": 17,
     "metadata": {},
     "output_type": "execute_result"
    }
   ],
   "source": [
    "info_ratio"
   ],
   "metadata": {
    "collapsed": false,
    "ExecuteTime": {
     "start_time": "2023-06-06T03:53:09.071733Z",
     "end_time": "2023-06-06T03:53:09.155692Z"
    }
   }
  },
  {
   "cell_type": "markdown",
   "source": [
    "**(k)** Probabilistic Sharpe Ratio"
   ],
   "metadata": {
    "collapsed": false
   }
  },
  {
   "cell_type": "code",
   "execution_count": 18,
   "outputs": [
    {
     "data": {
      "text/plain": "0.9484023982155377"
     },
     "execution_count": 18,
     "metadata": {},
     "output_type": "execute_result"
    }
   ],
   "source": [
    "from scipy.stats import norm, skew, kurtosis\n",
    "sr = ret.mean() / ret.std()\n",
    "val = sr * np.sqrt(len(ret) - 1) / np.sqrt(1 - skew(ret.dropna()) * sr + (kurtosis(ret.dropna()) - 1) / 4 * sr ** 2)\n",
    "norm.cdf(val)"
   ],
   "metadata": {
    "collapsed": false,
    "ExecuteTime": {
     "start_time": "2023-06-06T03:53:09.077800Z",
     "end_time": "2023-06-06T03:53:09.155906Z"
    }
   }
  },
  {
   "cell_type": "markdown",
   "source": [
    "**(l)** Deflated Sharpe Ratio, 여기서 100개의 시행이 수행되고, 이들 시행의 Sharpe Ratio 분산은 0.5로 가정한다"
   ],
   "metadata": {
    "collapsed": false
   }
  },
  {
   "cell_type": "code",
   "execution_count": 19,
   "outputs": [],
   "source": [
    "var = 0.5\n",
    "N = 100\n",
    "gamma = 0.5772 # Euler-Mascheroni\n",
    "\n",
    "dsr = np.sqrt(var) * ((1 - gamma) * norm.cdf(1 - 1 / N) ** (-1) + gamma * norm.cdf(1 - 1 / N * np.exp(1) ** (-1)) ** (-1))"
   ],
   "metadata": {
    "collapsed": false,
    "ExecuteTime": {
     "start_time": "2023-06-06T03:53:09.086776Z",
     "end_time": "2023-06-06T03:53:09.155948Z"
    }
   }
  },
  {
   "cell_type": "code",
   "execution_count": 20,
   "outputs": [
    {
     "data": {
      "text/plain": "0.8419931154169011"
     },
     "execution_count": 20,
     "metadata": {},
     "output_type": "execute_result"
    }
   ],
   "source": [
    "dsr"
   ],
   "metadata": {
    "collapsed": false,
    "ExecuteTime": {
     "start_time": "2023-06-06T03:53:09.091050Z",
     "end_time": "2023-06-06T03:53:09.156023Z"
    }
   }
  },
  {
   "cell_type": "markdown",
   "source": [
    "#### Exercise 3\n",
    "짝수 해에는 선물을 매수하고, 홀수 해에는 선물 계약을 매도하는 전략을 고려해 보자"
   ],
   "metadata": {
    "collapsed": false
   }
  },
  {
   "cell_type": "code",
   "execution_count": 21,
   "outputs": [
    {
     "data": {
      "text/plain": "dates\n2009-09-28 09:46:35         NaN\n2009-09-28 09:53:49   -0.001371\n2009-09-28 09:55:26   -0.000000\n2009-09-28 10:02:52   -0.002151\n2009-09-28 10:10:21   -0.000780\n                         ...   \n2018-10-05 15:58:23   -0.000430\n2018-10-05 15:59:20   -0.000086\n2018-10-05 15:59:55    0.000086\n2018-10-05 15:59:59    0.000086\n2018-10-05 16:00:00    0.000172\nName: price, Length: 50766, dtype: float64"
     },
     "execution_count": 21,
     "metadata": {},
     "output_type": "execute_result"
    }
   ],
   "source": [
    "returns_custom = ret.copy(deep=True)\n",
    "for ind in returns_custom.index:\n",
    "    if ind.year % 2 == 1:\n",
    "        returns_custom[ind] *= -1\n",
    "returns_custom"
   ],
   "metadata": {
    "collapsed": false,
    "ExecuteTime": {
     "start_time": "2023-06-06T03:53:09.098959Z",
     "end_time": "2023-06-06T03:53:10.059074Z"
    }
   }
  },
  {
   "cell_type": "markdown",
   "source": [
    "**(a)** Exercise 2의 계산을 반복하라"
   ],
   "metadata": {
    "collapsed": false
   }
  },
  {
   "cell_type": "code",
   "execution_count": 22,
   "outputs": [
    {
     "data": {
      "text/plain": "0.00022310515075823662"
     },
     "execution_count": 22,
     "metadata": {},
     "output_type": "execute_result"
    }
   ],
   "source": [
    "fml.getHHI(returns_custom[returns_custom >= 0]) # long position HHI index"
   ],
   "metadata": {
    "collapsed": false,
    "ExecuteTime": {
     "start_time": "2023-06-06T03:53:10.058600Z",
     "end_time": "2023-06-06T03:53:10.067331Z"
    }
   }
  },
  {
   "cell_type": "code",
   "execution_count": 23,
   "outputs": [
    {
     "data": {
      "text/plain": "0.00018815985622109104"
     },
     "execution_count": 23,
     "metadata": {},
     "output_type": "execute_result"
    }
   ],
   "source": [
    "fml.getHHI(returns_custom[returns_custom < 0]) # Short position HHI index"
   ],
   "metadata": {
    "collapsed": false,
    "ExecuteTime": {
     "start_time": "2023-06-06T03:53:10.063268Z",
     "end_time": "2023-06-06T03:53:10.070289Z"
    }
   }
  },
  {
   "cell_type": "code",
   "execution_count": 24,
   "outputs": [
    {
     "data": {
      "text/plain": "0.0022141701516628113"
     },
     "execution_count": 24,
     "metadata": {},
     "output_type": "execute_result"
    }
   ],
   "source": [
    "fml.getHHI(returns_custom.groupby(pd.Grouper(freq = 'M')).count()) # HHI index btw bar time"
   ],
   "metadata": {
    "collapsed": false,
    "ExecuteTime": {
     "start_time": "2023-06-06T03:53:10.072362Z",
     "end_time": "2023-06-06T03:53:10.099611Z"
    }
   }
  },
  {
   "cell_type": "code",
   "execution_count": 25,
   "outputs": [],
   "source": [
    "DD, tuW = fml.computeDD_TuW(returns_custom.dropna())"
   ],
   "metadata": {
    "collapsed": false,
    "ExecuteTime": {
     "start_time": "2023-06-06T03:53:10.077488Z",
     "end_time": "2023-06-06T03:53:10.110418Z"
    }
   }
  },
  {
   "cell_type": "code",
   "execution_count": 26,
   "outputs": [
    {
     "data": {
      "text/plain": "10.172838663013485"
     },
     "execution_count": 26,
     "metadata": {},
     "output_type": "execute_result"
    }
   ],
   "source": [
    "np.quantile(DD, 0.95)"
   ],
   "metadata": {
    "collapsed": false,
    "ExecuteTime": {
     "start_time": "2023-06-06T03:53:10.089443Z",
     "end_time": "2023-06-06T03:53:10.124668Z"
    }
   }
  },
  {
   "cell_type": "code",
   "execution_count": 27,
   "outputs": [
    {
     "data": {
      "text/plain": "0.3387963102393411"
     },
     "execution_count": 27,
     "metadata": {},
     "output_type": "execute_result"
    }
   ],
   "source": [
    "np.quantile(tuW, 0.95)"
   ],
   "metadata": {
    "collapsed": false,
    "ExecuteTime": {
     "start_time": "2023-06-06T03:53:10.093595Z",
     "end_time": "2023-06-06T03:53:10.124881Z"
    }
   }
  },
  {
   "cell_type": "code",
   "execution_count": 28,
   "outputs": [
    {
     "data": {
      "text/plain": "0.0025837778666149003"
     },
     "execution_count": 28,
     "metadata": {},
     "output_type": "execute_result"
    }
   ],
   "source": [
    "(returns_custom + 1).prod() ** 0.1 - 1"
   ],
   "metadata": {
    "collapsed": false,
    "ExecuteTime": {
     "start_time": "2023-06-06T03:53:10.098577Z",
     "end_time": "2023-06-06T03:53:10.125008Z"
    }
   }
  },
  {
   "cell_type": "code",
   "execution_count": 29,
   "outputs": [
    {
     "data": {
      "text/plain": "0.0010852343099613457"
     },
     "execution_count": 29,
     "metadata": {},
     "output_type": "execute_result"
    }
   ],
   "source": [
    "returns_custom[returns_custom >= 0].mean()"
   ],
   "metadata": {
    "collapsed": false,
    "ExecuteTime": {
     "start_time": "2023-06-06T03:53:10.102844Z",
     "end_time": "2023-06-06T03:53:10.125082Z"
    }
   }
  },
  {
   "cell_type": "code",
   "execution_count": 30,
   "outputs": [
    {
     "data": {
      "text/plain": "-0.0011527484293949806"
     },
     "execution_count": 30,
     "metadata": {},
     "output_type": "execute_result"
    }
   ],
   "source": [
    "returns_custom[returns_custom < 0].mean()"
   ],
   "metadata": {
    "collapsed": false,
    "ExecuteTime": {
     "start_time": "2023-06-06T03:53:10.107446Z",
     "end_time": "2023-06-06T03:53:10.125158Z"
    }
   }
  },
  {
   "cell_type": "code",
   "execution_count": 31,
   "outputs": [
    {
     "data": {
      "text/plain": "0.1123805604025786"
     },
     "execution_count": 31,
     "metadata": {},
     "output_type": "execute_result"
    }
   ],
   "source": [
    "returns_custom.mean() / returns_custom.std() * returns_custom.groupby(pd.Grouper(freq = 'Y')).count().mean() ** 0.5"
   ],
   "metadata": {
    "collapsed": false,
    "ExecuteTime": {
     "start_time": "2023-06-06T03:53:10.112084Z",
     "end_time": "2023-06-06T03:53:10.125466Z"
    }
   }
  },
  {
   "cell_type": "code",
   "execution_count": 32,
   "outputs": [
    {
     "data": {
      "text/plain": "0.0027887485186368233"
     },
     "execution_count": 32,
     "metadata": {},
     "output_type": "execute_result"
    }
   ],
   "source": [
    "returns_custom.std()"
   ],
   "metadata": {
    "collapsed": false,
    "ExecuteTime": {
     "start_time": "2023-06-06T03:53:10.118523Z",
     "end_time": "2023-06-06T03:53:10.191795Z"
    }
   }
  },
  {
   "cell_type": "code",
   "execution_count": 33,
   "outputs": [],
   "source": [
    "avg_ret = (returns_custom + 1).prod() ** 0.1 - 1\n",
    "risk_free = 0.025\n",
    "info_ratio = (avg_ret - risk_free) / returns_custom.std()"
   ],
   "metadata": {
    "collapsed": false,
    "ExecuteTime": {
     "start_time": "2023-06-06T03:53:10.126467Z",
     "end_time": "2023-06-06T03:53:10.192968Z"
    }
   }
  },
  {
   "cell_type": "code",
   "execution_count": 34,
   "outputs": [
    {
     "data": {
      "text/plain": "-8.03809378421201"
     },
     "execution_count": 34,
     "metadata": {},
     "output_type": "execute_result"
    }
   ],
   "source": [
    "info_ratio"
   ],
   "metadata": {
    "collapsed": false,
    "ExecuteTime": {
     "start_time": "2023-06-06T03:53:10.131938Z",
     "end_time": "2023-06-06T03:53:10.193247Z"
    }
   }
  },
  {
   "cell_type": "code",
   "execution_count": 35,
   "outputs": [
    {
     "data": {
      "text/plain": "0.6396801182694368"
     },
     "execution_count": 35,
     "metadata": {},
     "output_type": "execute_result"
    }
   ],
   "source": [
    "from scipy.stats import norm, skew, kurtosis\n",
    "sr = returns_custom.mean() / returns_custom.std()\n",
    "val = sr * np.sqrt(len(returns_custom) - 1) / np.sqrt(1 - skew(returns_custom.dropna()) * sr + (kurtosis(returns_custom.dropna()) - 1) / 4 * sr ** 2)\n",
    "norm.cdf(val)"
   ],
   "metadata": {
    "collapsed": false,
    "ExecuteTime": {
     "start_time": "2023-06-06T03:53:10.137392Z",
     "end_time": "2023-06-06T03:53:10.193524Z"
    }
   }
  },
  {
   "cell_type": "code",
   "execution_count": 36,
   "outputs": [
    {
     "data": {
      "text/plain": "0.8419931154169011"
     },
     "execution_count": 36,
     "metadata": {},
     "output_type": "execute_result"
    }
   ],
   "source": [
    "var = 0.5\n",
    "N = 100\n",
    "gamma = 0.5772 # Euler-Mascheroni\n",
    "\n",
    "dsr = np.sqrt(var) * ((1 - gamma) * norm.cdf(1 - 1 / N) ** (-1) + gamma * norm.cdf(1 - 1 / N * np.exp(1) ** (-1)) ** (-1))\n",
    "dsr"
   ],
   "metadata": {
    "collapsed": false,
    "ExecuteTime": {
     "start_time": "2023-06-06T03:53:10.148244Z",
     "end_time": "2023-06-06T03:53:10.193669Z"
    }
   }
  },
  {
   "cell_type": "markdown",
   "source": [
    "**(b)** 기초 자산과의 상관관계는 무엇인가?"
   ],
   "metadata": {
    "collapsed": false
   }
  },
  {
   "cell_type": "code",
   "execution_count": 37,
   "outputs": [
    {
     "data": {
      "text/plain": "<Figure size 1400x800 with 1 Axes>",
      "image/png": "[encoded data removed]"
     },
     "metadata": {},
     "output_type": "display_data"
    }
   ],
   "source": [
    "fig, ax = plt.subplots(figsize=(14, 8))\n",
    "ax.plot((1 + ret).cumprod(), color='blue', label='Strategy 1 (Long)')\n",
    "ax.plot((1 + returns_custom).cumprod(), color='red', label='Strategy 2 (Long + Short)')\n",
    "ax.set_xlabel('Time')\n",
    "ax.set_ylabel('Cumulative return')\n",
    "ax.set_title('Strategies\\' dynamics')\n",
    "ax.legend(loc='best')\n",
    "plt.show()"
   ],
   "metadata": {
    "collapsed": false,
    "ExecuteTime": {
     "start_time": "2023-06-06T03:53:10.160018Z",
     "end_time": "2023-06-06T03:53:10.807026Z"
    }
   }
  },
  {
   "cell_type": "code",
   "execution_count": 38,
   "outputs": [
    {
     "data": {
      "text/plain": "array([[1.        , 0.43059055],\n       [0.43059055, 1.        ]])"
     },
     "execution_count": 38,
     "metadata": {},
     "output_type": "execute_result"
    }
   ],
   "source": [
    "np.corrcoef(ret.dropna(), returns_custom.dropna())"
   ],
   "metadata": {
    "collapsed": false,
    "ExecuteTime": {
     "start_time": "2023-06-06T03:53:10.806545Z",
     "end_time": "2023-06-06T03:53:10.812776Z"
    }
   }
  },
  {
   "cell_type": "markdown",
   "source": [
    "#### Exercise 4\n",
    "2년 백테스트 결과, 월별 수익률 평균을 3.6%, 표준 편차는 0.079%다\n",
    "\n",
    "**(a)** Sharpe Ratio는 얼마인가?"
   ],
   "metadata": {
    "collapsed": false
   }
  },
  {
   "cell_type": "code",
   "execution_count": 39,
   "outputs": [
    {
     "data": {
      "text/plain": "0.45569620253164556"
     },
     "execution_count": 39,
     "metadata": {},
     "output_type": "execute_result"
    }
   ],
   "source": [
    "avg_month_ret = 0.036\n",
    "avg_std = 0.079\n",
    "\n",
    "sharpe_ratio = avg_month_ret / avg_std\n",
    "sharpe_ratio"
   ],
   "metadata": {
    "collapsed": false,
    "ExecuteTime": {
     "start_time": "2023-06-06T03:53:10.814486Z",
     "end_time": "2023-06-06T03:53:10.817238Z"
    }
   }
  },
  {
   "cell_type": "markdown",
   "source": [
    "**(b)** 연환산 Sharpe Ratio는 얼마인가?"
   ],
   "metadata": {
    "collapsed": false
   }
  },
  {
   "cell_type": "code",
   "execution_count": 40,
   "outputs": [
    {
     "data": {
      "text/plain": "1.5785779512020146"
     },
     "execution_count": 40,
     "metadata": {},
     "output_type": "execute_result"
    }
   ],
   "source": [
    "year_sharpe_ratio = avg_month_ret / avg_std * np.sqrt(12)\n",
    "year_sharpe_ratio"
   ],
   "metadata": {
    "collapsed": false,
    "ExecuteTime": {
     "start_time": "2023-06-06T03:53:10.818773Z",
     "end_time": "2023-06-06T03:53:10.822050Z"
    }
   }
  },
  {
   "cell_type": "markdown",
   "source": [
    "#### Exercise 5\n",
    "\n",
    "이전 연습 문제에 이어 다음을 구하라\n",
    "\n",
    "**(a)** 수익률은 왜도 0과 첨도 3을 가진다. Probabilistic Sharpe Ratio를 구하라"
   ],
   "metadata": {
    "collapsed": false
   }
  },
  {
   "cell_type": "code",
   "execution_count": 41,
   "outputs": [],
   "source": [
    "import scipy.stats as ss\n",
    "\n",
    "def PSR(sharpe, T, skew, kurtosis, target_sharpe = 0):\n",
    "    value = (\n",
    "        (sharpe - target_sharpe)\n",
    "        * np.sqrt(T - 1)\n",
    "        / np.sqrt(1.0 - skew * sharpe + sharpe ** 2 * (kurtosis - 1) / 4.0)\n",
    "    )\n",
    "    psr = ss.norm.cdf(value, 0, 1)\n",
    "    return psr\n",
    "\n",
    "ske = 0\n",
    "kur = 3"
   ],
   "metadata": {
    "collapsed": false,
    "ExecuteTime": {
     "start_time": "2023-06-06T03:53:10.824253Z",
     "end_time": "2023-06-06T03:53:10.864167Z"
    }
   }
  },
  {
   "cell_type": "code",
   "execution_count": 42,
   "outputs": [
    {
     "data": {
      "text/plain": "0.9248589923050501"
     },
     "execution_count": 42,
     "metadata": {},
     "output_type": "execute_result"
    }
   ],
   "source": [
    "PSR(sharpe_ratio, 12, ske, kur)"
   ],
   "metadata": {
    "collapsed": false,
    "ExecuteTime": {
     "start_time": "2023-06-06T03:53:10.828277Z",
     "end_time": "2023-06-06T03:53:10.864693Z"
    }
   }
  },
  {
   "cell_type": "markdown",
   "source": [
    "**(b)** 수익률은 왜도 -2.448과 첨도 0.164를 가진다. Probabilistic Charpe Ratio를 구하라"
   ],
   "metadata": {
    "collapsed": false
   }
  },
  {
   "cell_type": "code",
   "execution_count": 43,
   "outputs": [
    {
     "data": {
      "text/plain": "0.8531256771878033"
     },
     "execution_count": 43,
     "metadata": {},
     "output_type": "execute_result"
    }
   ],
   "source": [
    "PSR(sharpe_ratio, 12, -2.448, 0.164)"
   ],
   "metadata": {
    "collapsed": false,
    "ExecuteTime": {
     "start_time": "2023-06-06T03:53:10.831614Z",
     "end_time": "2023-06-06T03:53:10.864819Z"
    }
   }
  },
  {
   "cell_type": "markdown",
   "source": [
    "#### Exercise 6\n",
    "Back Test가 3년 기간으로 시행되었다면 위의 Exercise 5.b에서의 Probabilistic Sharpe Ratio는 무엇인가?"
   ],
   "metadata": {
    "collapsed": false
   }
  },
  {
   "cell_type": "code",
   "execution_count": 44,
   "outputs": [
    {
     "data": {
      "text/plain": "0.9694835758539816"
     },
     "execution_count": 44,
     "metadata": {},
     "output_type": "execute_result"
    }
   ],
   "source": [
    "PSR(sharpe_ratio, 36, -2.448, 0.146)"
   ],
   "metadata": {
    "collapsed": false,
    "ExecuteTime": {
     "start_time": "2023-06-06T03:53:10.837074Z",
     "end_time": "2023-06-06T03:53:10.864909Z"
    }
   }
  },
  {
   "cell_type": "markdown",
   "source": [
    "#### Exercise 7\n",
    "5년 Back Test가 일별 수익률로 계산하면 연환산 Sharpe Ratio 2.5를 가진다. 왜도는 -3, 첨도는 10이다\n",
    "\n",
    "**(a)** Probabilistic Sharpe Ratio는 무엇인가?"
   ],
   "metadata": {
    "collapsed": false
   }
  },
  {
   "cell_type": "code",
   "execution_count": 45,
   "outputs": [
    {
     "data": {
      "text/plain": "1.0"
     },
     "execution_count": 45,
     "metadata": {},
     "output_type": "execute_result"
    }
   ],
   "source": [
    "PSR(sharpe_ratio, 252*5, -3, 10)"
   ],
   "metadata": {
    "collapsed": false,
    "ExecuteTime": {
     "start_time": "2023-06-06T03:53:10.840895Z",
     "end_time": "2023-06-06T03:53:10.864998Z"
    }
   }
  },
  {
   "cell_type": "markdown",
   "source": [
    "**(b)** 최고 결과를 찾고자 100번의 시행을 수행했다. 시행들의 Sharpe Ratio의 분산은 0.5였다. DSR은 무엇인가?"
   ],
   "metadata": {
    "collapsed": false
   }
  },
  {
   "cell_type": "code",
   "execution_count": 48,
   "outputs": [],
   "source": [
    "def expected_max(N):\n",
    "    if N < 5:\n",
    "        raise AssertionError(\"Condition N >> 1 not satisfied.\")\n",
    "    return (1 - np.euler_gamma) * ss.norm.ppf(\n",
    "        1 - 1.0 / N\n",
    "    ) + np.euler_gamma * ss.norm.ppf(1 - np.exp(-1) / N)\n",
    "\n",
    "def DSR(test_sharpe, sharpe_std, N, T, skew, kurtosis):\n",
    "    target_sharpe = sharpe_std * expected_max(N)\n",
    "    dsr_stat = PSR(test_sharpe, T, skew, kurtosis, target_sharpe)\n",
    "    return dsr_stat"
   ],
   "metadata": {
    "collapsed": false,
    "ExecuteTime": {
     "start_time": "2023-06-06T03:53:25.042391Z",
     "end_time": "2023-06-06T03:53:25.048419Z"
    }
   }
  },
  {
   "cell_type": "code",
   "execution_count": 49,
   "outputs": [
    {
     "data": {
      "text/plain": "1.0"
     },
     "execution_count": 49,
     "metadata": {},
     "output_type": "execute_result"
    }
   ],
   "source": [
    "DSR(2.5, 0.5, 100, 252 * 5, -3, 10)"
   ],
   "metadata": {
    "collapsed": false,
    "ExecuteTime": {
     "start_time": "2023-06-06T03:53:25.678497Z",
     "end_time": "2023-06-06T03:53:25.714528Z"
    }
   }
  }
 ],
 "metadata": {
  "kernelspec": {
   "display_name": "Python 3",
   "language": "python",
   "name": "python3"
  },
  "language_info": {
   "codemirror_mode": {
    "name": "ipython",
    "version": 2
   },
   "file_extension": ".py",
   "mimetype": "text/x-python",
   "name": "python",
   "nbconvert_exporter": "python",
   "pygments_lexer": "ipython2",
   "version": "2.7.6"
  }
 },
 "nbformat": 4,
 "nbformat_minor": 0
}
