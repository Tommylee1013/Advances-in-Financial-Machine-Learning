{
 "cells": [
  {
   "cell_type": "code",
   "execution_count": 1,
   "metadata": {
    "collapsed": true,
    "ExecuteTime": {
     "end_time": "2023-06-04T06:40:06.857585900Z",
     "start_time": "2023-06-04T06:40:01.276039200Z"
    }
   },
   "outputs": [],
   "source": [
    "import numpy as np, pandas as pd, matplotlib.pyplot as plt\n",
    "import seaborn as sns\n",
    "import FinancialMachineLearning as fml"
   ]
  },
  {
   "cell_type": "markdown",
   "source": [
    "### Chapter 14. Backtest Statistics\n",
    "\n",
    "#### Exercise 1\n",
    "특정 전략이 높은 매매 회전율, 높은 레버리지, 높은 베팅 개수, 짧은 보유 기간, 낮은 실행 비용 대비 수익률, 높은 Sharpe Ratio를 가진다고 하자. Capacity가 클 것으로 생각되는가? 이것은 어떤 종류의 전략으로 보이는가?"
   ],
   "metadata": {
    "collapsed": false
   }
  },
  {
   "cell_type": "markdown",
   "source": [
    "#### Exercise 2\n",
    "E-mini S&P 500 선물의 달러 바 데이터셋에 대해 다음을 계산하라."
   ],
   "metadata": {
    "collapsed": false
   }
  },
  {
   "cell_type": "code",
   "execution_count": 2,
   "outputs": [
    {
     "name": "stdout",
     "output_type": "stream",
     "text": [
      "86.96\n",
      "[36.17 36.25 36.21 ... 29.26 29.26 29.26]\n",
      "[1.41225268 1.41537627 1.41381447 ... 1.14245268 1.14245268 1.14245268]\n"
     ]
    }
   ],
   "source": [
    "df = pd.read_parquet('./Data/IVE_tickbidask.parq')\n",
    "mad = fml.madOutlier(df.price.values.reshape(-1, 1))\n",
    "df = df.loc[~mad]\n",
    "dollar_M = 1000000\n",
    "dollar_df = fml.BarSampling(df, 'dv', dollar_M)"
   ],
   "metadata": {
    "collapsed": false,
    "ExecuteTime": {
     "end_time": "2023-06-04T06:40:13.277404400Z",
     "start_time": "2023-06-04T06:40:06.796748900Z"
    }
   }
  },
  {
   "cell_type": "code",
   "execution_count": 3,
   "outputs": [
    {
     "data": {
      "text/plain": "                      price     bid     ask   size      v          dv\ndates                                                                \n2009-09-28 09:46:35   51.07   51.05   51.07    900    900    45963.00\n2009-09-28 09:53:49   51.14   51.13   51.14   2000   2000   102280.00\n2009-09-28 09:55:26   51.14   51.11   51.14    100    100     5114.00\n2009-09-28 10:02:52   51.25   51.24   51.26   4300   4300   220375.00\n2009-09-28 10:10:21   51.29   51.28   51.29   4500   4500   230805.00\n...                     ...     ...     ...    ...    ...         ...\n2018-10-05 15:58:23  116.19  116.19  116.20   1354   1354   157321.26\n2018-10-05 15:59:20  116.18  116.17  116.19    300    300    34854.00\n2018-10-05 15:59:55  116.19  116.18  116.20    800    800    92952.00\n2018-10-05 15:59:59  116.20  116.18  116.19   2000   2000   232400.00\n2018-10-05 16:00:00  116.22  116.20  116.21  42884  42884  4983978.48\n\n[50766 rows x 6 columns]",
      "text/html": "<div>\n<style scoped>\n    .dataframe tbody tr th:only-of-type {\n        vertical-align: middle;\n    }\n\n    .dataframe tbody tr th {\n        vertical-align: top;\n    }\n\n    .dataframe thead th {\n        text-align: right;\n    }\n</style>\n<table border=\"1\" class=\"dataframe\">\n  <thead>\n    <tr style=\"text-align: right;\">\n      <th></th>\n      <th>price</th>\n      <th>bid</th>\n      <th>ask</th>\n      <th>size</th>\n      <th>v</th>\n      <th>dv</th>\n    </tr>\n    <tr>\n      <th>dates</th>\n      <th></th>\n      <th></th>\n      <th></th>\n      <th></th>\n      <th></th>\n      <th></th>\n    </tr>\n  </thead>\n  <tbody>\n    <tr>\n      <th>2009-09-28 09:46:35</th>\n      <td>51.07</td>\n      <td>51.05</td>\n      <td>51.07</td>\n      <td>900</td>\n      <td>900</td>\n      <td>45963.00</td>\n    </tr>\n    <tr>\n      <th>2009-09-28 09:53:49</th>\n      <td>51.14</td>\n      <td>51.13</td>\n      <td>51.14</td>\n      <td>2000</td>\n      <td>2000</td>\n      <td>102280.00</td>\n    </tr>\n    <tr>\n      <th>2009-09-28 09:55:26</th>\n      <td>51.14</td>\n      <td>51.11</td>\n      <td>51.14</td>\n      <td>100</td>\n      <td>100</td>\n      <td>5114.00</td>\n    </tr>\n    <tr>\n      <th>2009-09-28 10:02:52</th>\n      <td>51.25</td>\n      <td>51.24</td>\n      <td>51.26</td>\n      <td>4300</td>\n      <td>4300</td>\n      <td>220375.00</td>\n    </tr>\n    <tr>\n      <th>2009-09-28 10:10:21</th>\n      <td>51.29</td>\n      <td>51.28</td>\n      <td>51.29</td>\n      <td>4500</td>\n      <td>4500</td>\n      <td>230805.00</td>\n    </tr>\n    <tr>\n      <th>...</th>\n      <td>...</td>\n      <td>...</td>\n      <td>...</td>\n      <td>...</td>\n      <td>...</td>\n      <td>...</td>\n    </tr>\n    <tr>\n      <th>2018-10-05 15:58:23</th>\n      <td>116.19</td>\n      <td>116.19</td>\n      <td>116.20</td>\n      <td>1354</td>\n      <td>1354</td>\n      <td>157321.26</td>\n    </tr>\n    <tr>\n      <th>2018-10-05 15:59:20</th>\n      <td>116.18</td>\n      <td>116.17</td>\n      <td>116.19</td>\n      <td>300</td>\n      <td>300</td>\n      <td>34854.00</td>\n    </tr>\n    <tr>\n      <th>2018-10-05 15:59:55</th>\n      <td>116.19</td>\n      <td>116.18</td>\n      <td>116.20</td>\n      <td>800</td>\n      <td>800</td>\n      <td>92952.00</td>\n    </tr>\n    <tr>\n      <th>2018-10-05 15:59:59</th>\n      <td>116.20</td>\n      <td>116.18</td>\n      <td>116.19</td>\n      <td>2000</td>\n      <td>2000</td>\n      <td>232400.00</td>\n    </tr>\n    <tr>\n      <th>2018-10-05 16:00:00</th>\n      <td>116.22</td>\n      <td>116.20</td>\n      <td>116.21</td>\n      <td>42884</td>\n      <td>42884</td>\n      <td>4983978.48</td>\n    </tr>\n  </tbody>\n</table>\n<p>50766 rows × 6 columns</p>\n</div>"
     },
     "execution_count": 3,
     "metadata": {},
     "output_type": "execute_result"
    }
   ],
   "source": [
    "dollar_df"
   ],
   "metadata": {
    "collapsed": false,
    "ExecuteTime": {
     "end_time": "2023-06-04T06:40:13.373147400Z",
     "start_time": "2023-06-04T06:40:13.271421200Z"
    }
   }
  },
  {
   "cell_type": "markdown",
   "source": [
    "**(a)** 양의 수익률에 대한 HHI index"
   ],
   "metadata": {
    "collapsed": false
   }
  },
  {
   "cell_type": "code",
   "execution_count": 4,
   "outputs": [
    {
     "data": {
      "text/plain": "dates\n2009-09-28 09:46:35         NaN\n2009-09-28 09:53:49    0.001371\n2009-09-28 09:55:26    0.000000\n2009-09-28 10:02:52    0.002151\n2009-09-28 10:10:21    0.000780\n                         ...   \n2018-10-05 15:58:23   -0.000430\n2018-10-05 15:59:20   -0.000086\n2018-10-05 15:59:55    0.000086\n2018-10-05 15:59:59    0.000086\n2018-10-05 16:00:00    0.000172\nName: price, Length: 50766, dtype: float64"
     },
     "execution_count": 4,
     "metadata": {},
     "output_type": "execute_result"
    }
   ],
   "source": [
    "ret = (dollar_df['price'] - dollar_df['price'].shift(1)) / dollar_df['price'].shift(1)\n",
    "ret"
   ],
   "metadata": {
    "collapsed": false,
    "ExecuteTime": {
     "end_time": "2023-06-04T06:40:13.450940500Z",
     "start_time": "2023-06-04T06:40:13.312311200Z"
    }
   }
  },
  {
   "cell_type": "code",
   "execution_count": 5,
   "outputs": [
    {
     "data": {
      "text/plain": "0.00021670938102371894"
     },
     "execution_count": 5,
     "metadata": {},
     "output_type": "execute_result"
    }
   ],
   "source": [
    "fml.getHHI(ret[ret >= 0])"
   ],
   "metadata": {
    "collapsed": false,
    "ExecuteTime": {
     "end_time": "2023-06-04T06:40:13.546684200Z",
     "start_time": "2023-06-04T06:40:13.333257600Z"
    }
   }
  },
  {
   "cell_type": "markdown",
   "source": [
    "**(b)** 음의 수익률에 대한 HHI index"
   ],
   "metadata": {
    "collapsed": false
   }
  },
  {
   "cell_type": "code",
   "execution_count": 6,
   "outputs": [
    {
     "data": {
      "text/plain": "0.0001938681018384944"
     },
     "execution_count": 6,
     "metadata": {},
     "output_type": "execute_result"
    }
   ],
   "source": [
    "fml.getHHI(ret[ret < 0])"
   ],
   "metadata": {
    "collapsed": false,
    "ExecuteTime": {
     "end_time": "2023-06-04T06:40:13.735179800Z",
     "start_time": "2023-06-04T06:40:13.430993600Z"
    }
   }
  },
  {
   "cell_type": "markdown",
   "source": [
    "**(c)** bar 사이 시간의 HHI index"
   ],
   "metadata": {
    "collapsed": false
   }
  },
  {
   "cell_type": "code",
   "execution_count": 7,
   "outputs": [
    {
     "data": {
      "text/plain": "0.0022141701516628113"
     },
     "execution_count": 7,
     "metadata": {},
     "output_type": "execute_result"
    }
   ],
   "source": [
    "fml.getHHI(ret.groupby(pd.Grouper(freq = 'M')).count())"
   ],
   "metadata": {
    "collapsed": false,
    "ExecuteTime": {
     "end_time": "2023-06-04T06:40:13.825937Z",
     "start_time": "2023-06-04T06:40:13.463906200Z"
    }
   }
  },
  {
   "cell_type": "markdown",
   "source": [
    "**(d)** 95백분위의 Draw Down"
   ],
   "metadata": {
    "collapsed": false
   }
  },
  {
   "cell_type": "code",
   "execution_count": 8,
   "outputs": [],
   "source": [
    "DD, tuW = fml.computeDD_TuW(ret.dropna())"
   ],
   "metadata": {
    "collapsed": false,
    "ExecuteTime": {
     "end_time": "2023-06-04T06:40:13.826935500Z",
     "start_time": "2023-06-04T06:40:13.482855100Z"
    }
   }
  },
  {
   "cell_type": "code",
   "execution_count": 9,
   "outputs": [
    {
     "data": {
      "text/plain": "15.633492384764438"
     },
     "execution_count": 9,
     "metadata": {},
     "output_type": "execute_result"
    }
   ],
   "source": [
    "np.quantile(DD, 0.95)"
   ],
   "metadata": {
    "collapsed": false,
    "ExecuteTime": {
     "end_time": "2023-06-04T06:40:13.826935500Z",
     "start_time": "2023-06-04T06:40:13.510780800Z"
    }
   }
  },
  {
   "cell_type": "markdown",
   "source": [
    "**(e)** 95백분위의 TuW"
   ],
   "metadata": {
    "collapsed": false
   }
  },
  {
   "cell_type": "code",
   "execution_count": 10,
   "outputs": [
    {
     "data": {
      "text/plain": "0.4542787845923775"
     },
     "execution_count": 10,
     "metadata": {},
     "output_type": "execute_result"
    }
   ],
   "source": [
    "np.quantile(tuW, 0.95)"
   ],
   "metadata": {
    "collapsed": false,
    "ExecuteTime": {
     "end_time": "2023-06-04T06:40:13.827932500Z",
     "start_time": "2023-06-04T06:40:13.511777400Z"
    }
   }
  },
  {
   "cell_type": "markdown",
   "source": [
    "**(f)** 연환산 평균 수익률"
   ],
   "metadata": {
    "collapsed": false
   }
  },
  {
   "cell_type": "code",
   "execution_count": 11,
   "outputs": [
    {
     "data": {
      "text/plain": "0.08570415861143288"
     },
     "execution_count": 11,
     "metadata": {},
     "output_type": "execute_result"
    }
   ],
   "source": [
    "(ret + 1).prod() ** 0.1 - 1"
   ],
   "metadata": {
    "collapsed": false,
    "ExecuteTime": {
     "end_time": "2023-06-04T06:40:13.828928700Z",
     "start_time": "2023-06-04T06:40:13.513772100Z"
    }
   }
  },
  {
   "cell_type": "markdown",
   "source": [
    "**(g)** 히트로부터의 평균 수익률"
   ],
   "metadata": {
    "collapsed": false
   }
  },
  {
   "cell_type": "code",
   "execution_count": 12,
   "outputs": [
    {
     "data": {
      "text/plain": "0.001082506359850725"
     },
     "execution_count": 12,
     "metadata": {},
     "output_type": "execute_result"
    }
   ],
   "source": [
    "ret[ret >= 0].mean()"
   ],
   "metadata": {
    "collapsed": false,
    "ExecuteTime": {
     "end_time": "2023-06-04T06:40:13.828928700Z",
     "start_time": "2023-06-04T06:40:13.546684200Z"
    }
   }
  },
  {
   "cell_type": "markdown",
   "source": [
    "**(h)** 미스로부터의 평균 수익률"
   ],
   "metadata": {
    "collapsed": false
   }
  },
  {
   "cell_type": "code",
   "execution_count": 13,
   "outputs": [
    {
     "data": {
      "text/plain": "-0.0011569874483164516"
     },
     "execution_count": 13,
     "metadata": {},
     "output_type": "execute_result"
    }
   ],
   "source": [
    "ret[ret < 0].mean()"
   ],
   "metadata": {
    "collapsed": false,
    "ExecuteTime": {
     "end_time": "2023-06-04T06:40:13.829926300Z",
     "start_time": "2023-06-04T06:40:13.546684200Z"
    }
   }
  },
  {
   "cell_type": "markdown",
   "source": [
    "**(i)** 연환산 Sharpe Ratio"
   ],
   "metadata": {
    "collapsed": false
   }
  },
  {
   "cell_type": "code",
   "execution_count": 14,
   "outputs": [
    {
     "data": {
      "text/plain": "0.5132088565117002"
     },
     "execution_count": 14,
     "metadata": {},
     "output_type": "execute_result"
    }
   ],
   "source": [
    "ret.mean() / ret.std() * ret.groupby(pd.Grouper(freq = 'Y')).count().mean() ** 0.5"
   ],
   "metadata": {
    "collapsed": false,
    "ExecuteTime": {
     "end_time": "2023-06-04T06:40:13.859847400Z",
     "start_time": "2023-06-04T06:40:13.669356800Z"
    }
   }
  },
  {
   "cell_type": "markdown",
   "source": [
    "**(j)** 정보 비율, 여기서 벤치마크는 무위험 이자율"
   ],
   "metadata": {
    "collapsed": false
   }
  },
  {
   "cell_type": "code",
   "execution_count": 15,
   "outputs": [
    {
     "data": {
      "text/plain": "0.0027886796448252918"
     },
     "execution_count": 15,
     "metadata": {},
     "output_type": "execute_result"
    }
   ],
   "source": [
    "ret.std()"
   ],
   "metadata": {
    "collapsed": false,
    "ExecuteTime": {
     "end_time": "2023-06-04T06:40:13.859847400Z",
     "start_time": "2023-06-04T06:40:13.670353Z"
    }
   }
  },
  {
   "cell_type": "code",
   "execution_count": 16,
   "outputs": [],
   "source": [
    "avg_ret = (ret + 1).prod() ** 0.1 - 1\n",
    "risk_free = 0.025\n",
    "info_ratio = (avg_ret - risk_free) / ret.std()"
   ],
   "metadata": {
    "collapsed": false,
    "ExecuteTime": {
     "end_time": "2023-06-04T06:40:13.860843400Z",
     "start_time": "2023-06-04T06:40:13.670353Z"
    }
   }
  },
  {
   "cell_type": "code",
   "execution_count": 17,
   "outputs": [
    {
     "data": {
      "text/plain": "21.768064583566012"
     },
     "execution_count": 17,
     "metadata": {},
     "output_type": "execute_result"
    }
   ],
   "source": [
    "info_ratio"
   ],
   "metadata": {
    "collapsed": false,
    "ExecuteTime": {
     "end_time": "2023-06-04T06:40:13.860843400Z",
     "start_time": "2023-06-04T06:40:13.671351Z"
    }
   }
  },
  {
   "cell_type": "markdown",
   "source": [
    "**(k)** Probabilistic Sharpe Ratio"
   ],
   "metadata": {
    "collapsed": false
   }
  },
  {
   "cell_type": "code",
   "execution_count": 18,
   "outputs": [
    {
     "data": {
      "text/plain": "0.9484023982155377"
     },
     "execution_count": 18,
     "metadata": {},
     "output_type": "execute_result"
    }
   ],
   "source": [
    "from scipy.stats import norm, skew, kurtosis\n",
    "sr = ret.mean() / ret.std()\n",
    "val = sr * np.sqrt(len(ret) - 1) / np.sqrt(1 - skew(ret.dropna()) * sr + (kurtosis(ret.dropna()) - 1) / 4 * sr ** 2)\n",
    "norm.cdf(val)"
   ],
   "metadata": {
    "collapsed": false,
    "ExecuteTime": {
     "end_time": "2023-06-04T06:40:13.860843400Z",
     "start_time": "2023-06-04T06:40:13.671351Z"
    }
   }
  },
  {
   "cell_type": "markdown",
   "source": [
    "**(l)** Deflated Sharpe Ratio, 여기서 100개의 시행이 수행되고, 이들 시행의 Sharpe Ratio 분산은 0.5로 가정한다"
   ],
   "metadata": {
    "collapsed": false
   }
  },
  {
   "cell_type": "code",
   "execution_count": 19,
   "outputs": [],
   "source": [
    "var = 0.5\n",
    "N = 100\n",
    "gamma = 0.5772 # Euler-Mascheroni\n",
    "\n",
    "dsr = np.sqrt(var) * ((1 - gamma) * norm.cdf(1 - 1 / N) ** (-1) + gamma * norm.cdf(1 - 1 / N * np.exp(1) ** (-1)) ** (-1))"
   ],
   "metadata": {
    "collapsed": false,
    "ExecuteTime": {
     "end_time": "2023-06-04T06:40:13.861840500Z",
     "start_time": "2023-06-04T06:40:13.671351Z"
    }
   }
  },
  {
   "cell_type": "code",
   "execution_count": 20,
   "outputs": [
    {
     "data": {
      "text/plain": "0.8419931154169011"
     },
     "execution_count": 20,
     "metadata": {},
     "output_type": "execute_result"
    }
   ],
   "source": [
    "dsr"
   ],
   "metadata": {
    "collapsed": false,
    "ExecuteTime": {
     "end_time": "2023-06-04T06:40:13.861840500Z",
     "start_time": "2023-06-04T06:40:13.671351Z"
    }
   }
  },
  {
   "cell_type": "markdown",
   "source": [
    "#### Exercise 3\n",
    "짝수 해에는 선물을 매수하고, 홀수 해에는 선물 계약을 매도하는 전략을 고려해 보자"
   ],
   "metadata": {
    "collapsed": false
   }
  },
  {
   "cell_type": "code",
   "execution_count": 21,
   "outputs": [
    {
     "data": {
      "text/plain": "dates\n2009-09-28 09:46:35         NaN\n2009-09-28 09:53:49   -0.001371\n2009-09-28 09:55:26   -0.000000\n2009-09-28 10:02:52   -0.002151\n2009-09-28 10:10:21   -0.000780\n                         ...   \n2018-10-05 15:58:23   -0.000430\n2018-10-05 15:59:20   -0.000086\n2018-10-05 15:59:55    0.000086\n2018-10-05 15:59:59    0.000086\n2018-10-05 16:00:00    0.000172\nName: price, Length: 50766, dtype: float64"
     },
     "execution_count": 21,
     "metadata": {},
     "output_type": "execute_result"
    }
   ],
   "source": [
    "returns_custom = ret.copy(deep=True)\n",
    "for ind in returns_custom.index:\n",
    "    if ind.year % 2 == 1:\n",
    "        returns_custom[ind] *= -1\n",
    "returns_custom"
   ],
   "metadata": {
    "collapsed": false,
    "ExecuteTime": {
     "end_time": "2023-06-04T06:40:15.457570600Z",
     "start_time": "2023-06-04T06:40:13.680326800Z"
    }
   }
  },
  {
   "cell_type": "markdown",
   "source": [
    "**(a)** Exercise 2의 계산을 반복하라"
   ],
   "metadata": {
    "collapsed": false
   }
  },
  {
   "cell_type": "code",
   "execution_count": 22,
   "outputs": [
    {
     "data": {
      "text/plain": "0.00022310515075823662"
     },
     "execution_count": 22,
     "metadata": {},
     "output_type": "execute_result"
    }
   ],
   "source": [
    "fml.getHHI(returns_custom[returns_custom >= 0]) # long position HHI index"
   ],
   "metadata": {
    "collapsed": false,
    "ExecuteTime": {
     "end_time": "2023-06-04T06:40:15.467542800Z",
     "start_time": "2023-06-04T06:40:15.448594200Z"
    }
   }
  },
  {
   "cell_type": "code",
   "execution_count": 23,
   "outputs": [
    {
     "data": {
      "text/plain": "0.00018815985622109104"
     },
     "execution_count": 23,
     "metadata": {},
     "output_type": "execute_result"
    }
   ],
   "source": [
    "fml.getHHI(returns_custom[returns_custom < 0]) # Short position HHI index"
   ],
   "metadata": {
    "collapsed": false,
    "ExecuteTime": {
     "end_time": "2023-06-04T06:40:15.580241800Z",
     "start_time": "2023-06-04T06:40:15.463554700Z"
    }
   }
  },
  {
   "cell_type": "code",
   "execution_count": 24,
   "outputs": [
    {
     "data": {
      "text/plain": "0.0022141701516628113"
     },
     "execution_count": 24,
     "metadata": {},
     "output_type": "execute_result"
    }
   ],
   "source": [
    "fml.getHHI(returns_custom.groupby(pd.Grouper(freq = 'M')).count()) # HHI index btw bar time"
   ],
   "metadata": {
    "collapsed": false,
    "ExecuteTime": {
     "end_time": "2023-06-04T06:40:15.612156400Z",
     "start_time": "2023-06-04T06:40:15.495469100Z"
    }
   }
  },
  {
   "cell_type": "code",
   "execution_count": 25,
   "outputs": [],
   "source": [
    "DD, tuW = fml.computeDD_TuW(returns_custom.dropna())"
   ],
   "metadata": {
    "collapsed": false,
    "ExecuteTime": {
     "end_time": "2023-06-04T06:40:15.703909900Z",
     "start_time": "2023-06-04T06:40:15.575255300Z"
    }
   }
  },
  {
   "cell_type": "code",
   "execution_count": 26,
   "outputs": [
    {
     "data": {
      "text/plain": "10.172838663013485"
     },
     "execution_count": 26,
     "metadata": {},
     "output_type": "execute_result"
    }
   ],
   "source": [
    "np.quantile(DD, 0.95)"
   ],
   "metadata": {
    "collapsed": false,
    "ExecuteTime": {
     "end_time": "2023-06-04T06:40:15.708896900Z",
     "start_time": "2023-06-04T06:40:15.610161200Z"
    }
   }
  },
  {
   "cell_type": "code",
   "execution_count": 27,
   "outputs": [
    {
     "data": {
      "text/plain": "0.3387963102393411"
     },
     "execution_count": 27,
     "metadata": {},
     "output_type": "execute_result"
    }
   ],
   "source": [
    "np.quantile(tuW, 0.95)"
   ],
   "metadata": {
    "collapsed": false,
    "ExecuteTime": {
     "end_time": "2023-06-04T06:40:15.788684200Z",
     "start_time": "2023-06-04T06:40:15.732833100Z"
    }
   }
  },
  {
   "cell_type": "code",
   "execution_count": 28,
   "outputs": [
    {
     "data": {
      "text/plain": "0.0025837778666149003"
     },
     "execution_count": 28,
     "metadata": {},
     "output_type": "execute_result"
    }
   ],
   "source": [
    "(returns_custom + 1).prod() ** 0.1 - 1"
   ],
   "metadata": {
    "collapsed": false,
    "ExecuteTime": {
     "end_time": "2023-06-04T06:40:15.788684200Z",
     "start_time": "2023-06-04T06:40:15.734827200Z"
    }
   }
  },
  {
   "cell_type": "code",
   "execution_count": 29,
   "outputs": [
    {
     "data": {
      "text/plain": "0.0010852343099613457"
     },
     "execution_count": 29,
     "metadata": {},
     "output_type": "execute_result"
    }
   ],
   "source": [
    "returns_custom[returns_custom >= 0].mean()"
   ],
   "metadata": {
    "collapsed": false,
    "ExecuteTime": {
     "end_time": "2023-06-04T06:40:15.789681800Z",
     "start_time": "2023-06-04T06:40:15.734827200Z"
    }
   }
  },
  {
   "cell_type": "code",
   "execution_count": 30,
   "outputs": [
    {
     "data": {
      "text/plain": "-0.0011527484293949806"
     },
     "execution_count": 30,
     "metadata": {},
     "output_type": "execute_result"
    }
   ],
   "source": [
    "returns_custom[returns_custom < 0].mean()"
   ],
   "metadata": {
    "collapsed": false,
    "ExecuteTime": {
     "end_time": "2023-06-04T06:40:15.789681800Z",
     "start_time": "2023-06-04T06:40:15.734827200Z"
    }
   }
  },
  {
   "cell_type": "code",
   "execution_count": 31,
   "outputs": [
    {
     "data": {
      "text/plain": "0.1123805604025786"
     },
     "execution_count": 31,
     "metadata": {},
     "output_type": "execute_result"
    }
   ],
   "source": [
    "returns_custom.mean() / returns_custom.std() * returns_custom.groupby(pd.Grouper(freq = 'Y')).count().mean() ** 0.5"
   ],
   "metadata": {
    "collapsed": false,
    "ExecuteTime": {
     "end_time": "2023-06-04T06:40:15.790679800Z",
     "start_time": "2023-06-04T06:40:15.737819800Z"
    }
   }
  },
  {
   "cell_type": "code",
   "execution_count": 32,
   "outputs": [
    {
     "data": {
      "text/plain": "0.0027887485186368233"
     },
     "execution_count": 32,
     "metadata": {},
     "output_type": "execute_result"
    }
   ],
   "source": [
    "returns_custom.std()"
   ],
   "metadata": {
    "collapsed": false,
    "ExecuteTime": {
     "end_time": "2023-06-04T06:40:15.791676Z",
     "start_time": "2023-06-04T06:40:15.782700100Z"
    }
   }
  },
  {
   "cell_type": "code",
   "execution_count": 33,
   "outputs": [],
   "source": [
    "avg_ret = (returns_custom + 1).prod() ** 0.1 - 1\n",
    "risk_free = 0.025\n",
    "info_ratio = (avg_ret - risk_free) / returns_custom.std()"
   ],
   "metadata": {
    "collapsed": false,
    "ExecuteTime": {
     "end_time": "2023-06-04T06:40:15.791676Z",
     "start_time": "2023-06-04T06:40:15.783696600Z"
    }
   }
  },
  {
   "cell_type": "code",
   "execution_count": 34,
   "outputs": [
    {
     "data": {
      "text/plain": "-8.03809378421201"
     },
     "execution_count": 34,
     "metadata": {},
     "output_type": "execute_result"
    }
   ],
   "source": [
    "info_ratio"
   ],
   "metadata": {
    "collapsed": false,
    "ExecuteTime": {
     "end_time": "2023-06-04T06:40:15.791676Z",
     "start_time": "2023-06-04T06:40:15.784693900Z"
    }
   }
  },
  {
   "cell_type": "code",
   "execution_count": 35,
   "outputs": [
    {
     "data": {
      "text/plain": "0.6396801182694368"
     },
     "execution_count": 35,
     "metadata": {},
     "output_type": "execute_result"
    }
   ],
   "source": [
    "from scipy.stats import norm, skew, kurtosis\n",
    "sr = returns_custom.mean() / returns_custom.std()\n",
    "val = sr * np.sqrt(len(returns_custom) - 1) / np.sqrt(1 - skew(returns_custom.dropna()) * sr + (kurtosis(returns_custom.dropna()) - 1) / 4 * sr ** 2)\n",
    "norm.cdf(val)"
   ],
   "metadata": {
    "collapsed": false,
    "ExecuteTime": {
     "end_time": "2023-06-04T06:40:15.792673200Z",
     "start_time": "2023-06-04T06:40:15.784693900Z"
    }
   }
  },
  {
   "cell_type": "code",
   "execution_count": 36,
   "outputs": [
    {
     "data": {
      "text/plain": "0.8419931154169011"
     },
     "execution_count": 36,
     "metadata": {},
     "output_type": "execute_result"
    }
   ],
   "source": [
    "var = 0.5\n",
    "N = 100\n",
    "gamma = 0.5772 # Euler-Mascheroni\n",
    "\n",
    "dsr = np.sqrt(var) * ((1 - gamma) * norm.cdf(1 - 1 / N) ** (-1) + gamma * norm.cdf(1 - 1 / N * np.exp(1) ** (-1)) ** (-1))\n",
    "dsr"
   ],
   "metadata": {
    "collapsed": false,
    "ExecuteTime": {
     "end_time": "2023-06-04T06:40:15.799654100Z",
     "start_time": "2023-06-04T06:40:15.785691900Z"
    }
   }
  },
  {
   "cell_type": "markdown",
   "source": [
    "**(b)** 기초 자산과의 상관관계는 무엇인가?"
   ],
   "metadata": {
    "collapsed": false
   }
  },
  {
   "cell_type": "code",
   "execution_count": 37,
   "outputs": [
    {
     "data": {
      "text/plain": "<Figure size 1400x800 with 1 Axes>",
      "image/png": "[encoded data removed]"
     },
     "metadata": {},
     "output_type": "display_data"
    }
   ],
   "source": [
    "fig, ax = plt.subplots(figsize=(14, 8))\n",
    "ax.plot((1 + ret).cumprod(), color='blue', label='Strategy 1 (Long)')\n",
    "ax.plot((1 + returns_custom).cumprod(), color='red', label='Strategy 2 (Long + Short)')\n",
    "ax.set_xlabel('Time')\n",
    "ax.set_ylabel('Cumulative return')\n",
    "ax.set_title('Strategies\\' dynamics')\n",
    "ax.legend(loc='best')\n",
    "plt.show()"
   ],
   "metadata": {
    "collapsed": false,
    "ExecuteTime": {
     "end_time": "2023-06-04T06:40:16.796985200Z",
     "start_time": "2023-06-04T06:40:15.792673200Z"
    }
   }
  },
  {
   "cell_type": "code",
   "execution_count": 38,
   "outputs": [
    {
     "data": {
      "text/plain": "array([[1.        , 0.43059055],\n       [0.43059055, 1.        ]])"
     },
     "execution_count": 38,
     "metadata": {},
     "output_type": "execute_result"
    }
   ],
   "source": [
    "np.corrcoef(ret.dropna(), returns_custom.dropna())"
   ],
   "metadata": {
    "collapsed": false,
    "ExecuteTime": {
     "end_time": "2023-06-04T06:40:16.813939800Z",
     "start_time": "2023-06-04T06:40:16.796985200Z"
    }
   }
  },
  {
   "cell_type": "markdown",
   "source": [
    "#### Exercise 4\n",
    "2년 백테스트 결과, 월별 수익률 평균을 3.6%, 표준 편차는 0.079%다\n",
    "\n",
    "**(a)** Sharpe Ratio는 얼마인가?"
   ],
   "metadata": {
    "collapsed": false
   }
  },
  {
   "cell_type": "code",
   "execution_count": 41,
   "outputs": [
    {
     "data": {
      "text/plain": "0.45569620253164556"
     },
     "execution_count": 41,
     "metadata": {},
     "output_type": "execute_result"
    }
   ],
   "source": [
    "avg_month_ret = 0.036\n",
    "avg_std = 0.079\n",
    "\n",
    "sharpe_ratio = avg_month_ret / avg_std\n",
    "sharpe_ratio"
   ],
   "metadata": {
    "collapsed": false,
    "ExecuteTime": {
     "end_time": "2023-06-04T06:49:01.885972900Z",
     "start_time": "2023-06-04T06:49:01.854731400Z"
    }
   }
  },
  {
   "cell_type": "markdown",
   "source": [
    "**(b)** 연환산 Sharpe Ratio는 얼마인가?"
   ],
   "metadata": {
    "collapsed": false
   }
  },
  {
   "cell_type": "code",
   "execution_count": 48,
   "outputs": [
    {
     "data": {
      "text/plain": "1.5785779512020146"
     },
     "execution_count": 48,
     "metadata": {},
     "output_type": "execute_result"
    }
   ],
   "source": [
    "year_sharpe_ratio = avg_month_ret / avg_std * np.sqrt(12)\n",
    "year_sharpe_ratio"
   ],
   "metadata": {
    "collapsed": false,
    "ExecuteTime": {
     "end_time": "2023-06-04T06:53:40.351047600Z",
     "start_time": "2023-06-04T06:53:40.319804800Z"
    }
   }
  },
  {
   "cell_type": "markdown",
   "source": [
    "#### Exercise 5\n",
    "\n",
    "이전 연습 문제에 이어 다음을 구하라\n",
    "\n",
    "**(a)** 수익률은 왜도 0과 첨도 3을 가진다. Probabilistic Sharpe Ratio를 구하라"
   ],
   "metadata": {
    "collapsed": false
   }
  },
  {
   "cell_type": "code",
   "execution_count": 51,
   "outputs": [],
   "source": [
    "ske = 0\n",
    "kur = 3"
   ],
   "metadata": {
    "collapsed": false,
    "ExecuteTime": {
     "end_time": "2023-06-04T06:57:46.589421700Z",
     "start_time": "2023-06-04T06:57:46.574741700Z"
    }
   }
  },
  {
   "cell_type": "code",
   "execution_count": 54,
   "outputs": [
    {
     "ename": "AttributeError",
     "evalue": "module 'numpy' has no attribute 'uniform'",
     "output_type": "error",
     "traceback": [
      "\u001B[1;31m---------------------------------------------------------------------------\u001B[0m",
      "\u001B[1;31mAttributeError\u001B[0m                            Traceback (most recent call last)",
      "Cell \u001B[1;32mIn[54], line 1\u001B[0m\n\u001B[1;32m----> 1\u001B[0m \u001B[43mnp\u001B[49m\u001B[38;5;241;43m.\u001B[39;49m\u001B[43muniform\u001B[49m(\u001B[38;5;241m.5\u001B[39m)\n",
      "File \u001B[1;32m~\\PycharmProjects\\Financial_Machine_Learning\\venv\\lib\\site-packages\\numpy\\__init__.py:311\u001B[0m, in \u001B[0;36m__getattr__\u001B[1;34m(attr)\u001B[0m\n\u001B[0;32m    308\u001B[0m     \u001B[38;5;28;01mfrom\u001B[39;00m \u001B[38;5;21;01m.\u001B[39;00m\u001B[38;5;21;01mtesting\u001B[39;00m \u001B[38;5;28;01mimport\u001B[39;00m Tester\n\u001B[0;32m    309\u001B[0m     \u001B[38;5;28;01mreturn\u001B[39;00m Tester\n\u001B[1;32m--> 311\u001B[0m \u001B[38;5;28;01mraise\u001B[39;00m \u001B[38;5;167;01mAttributeError\u001B[39;00m(\u001B[38;5;124m\"\u001B[39m\u001B[38;5;124mmodule \u001B[39m\u001B[38;5;132;01m{!r}\u001B[39;00m\u001B[38;5;124m has no attribute \u001B[39m\u001B[38;5;124m\"\u001B[39m\n\u001B[0;32m    312\u001B[0m                      \u001B[38;5;124m\"\u001B[39m\u001B[38;5;132;01m{!r}\u001B[39;00m\u001B[38;5;124m\"\u001B[39m\u001B[38;5;241m.\u001B[39mformat(\u001B[38;5;18m__name__\u001B[39m, attr))\n",
      "\u001B[1;31mAttributeError\u001B[0m: module 'numpy' has no attribute 'uniform'"
     ]
    }
   ],
   "source": [
    "np.uniform(.5)"
   ],
   "metadata": {
    "collapsed": false,
    "ExecuteTime": {
     "end_time": "2023-06-04T08:59:26.809463800Z",
     "start_time": "2023-06-04T08:59:25.887356200Z"
    }
   }
  },
  {
   "cell_type": "code",
   "execution_count": 55,
   "outputs": [
    {
     "data": {
      "text/plain": "<Figure size 640x480 with 1 Axes>",
      "image/png": "[encoded data removed]"
     },
     "metadata": {},
     "output_type": "display_data"
    }
   ],
   "source": [
    "import matplotlib.pyplot as plt\n",
    "import numpy as np\n",
    "import scipy.stats as stats\n",
    "\n",
    "mu = 0\n",
    "sigma = 1\n",
    "x = np.linspace(mu - 3*sigma, mu + 3*sigma, 100)\n",
    "plt.plot(x, stats.norm.pdf(x, mu, sigma))\n",
    "plt.title('Standard Normal Distribution (z-distribution)')\n",
    "plt.show()"
   ],
   "metadata": {
    "collapsed": false,
    "ExecuteTime": {
     "end_time": "2023-06-04T09:07:00.726860Z",
     "start_time": "2023-06-04T09:07:00.467975400Z"
    }
   }
  },
  {
   "cell_type": "code",
   "execution_count": null,
   "outputs": [],
   "source": [],
   "metadata": {
    "collapsed": false
   }
  }
 ],
 "metadata": {
  "kernelspec": {
   "display_name": "Python 3",
   "language": "python",
   "name": "python3"
  },
  "language_info": {
   "codemirror_mode": {
    "name": "ipython",
    "version": 2
   },
   "file_extension": ".py",
   "mimetype": "text/x-python",
   "name": "python",
   "nbconvert_exporter": "python",
   "pygments_lexer": "ipython2",
   "version": "2.7.6"
  }
 },
 "nbformat": 4,
 "nbformat_minor": 0
}
