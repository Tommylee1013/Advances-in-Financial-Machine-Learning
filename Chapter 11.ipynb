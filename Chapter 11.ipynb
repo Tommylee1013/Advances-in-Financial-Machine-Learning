{
 "cells": [
  {
   "cell_type": "markdown",
   "source": [
    "### Chapter 11. The Dangers of Backtesting\n",
    "\n",
    "#### Exercise 1\n",
    "분석가가 Random Forest 분류기를 적합화하는데, 특성 중 일부가 계절 조정된 취업률 데이터를 포함하고 있다. 분석가는 1월 데이터를 1월 게절 조정된 값과 일치시키는 방식을 취했다. 분석가가 저지른 '죄악'은 무엇인가?\n",
    "\n",
    "Look ahead bias의 실수를 범하고 있다. 계절 조정은 사후적으로 이뤄지는데, 분석시에 계절 조정된 데이터를 사용하면 시뮬레이션 당시에는 공개되지 않는 정보를 이용해 시뮬레이션의 결정이 이뤄질 수 있다는 뜻이다."
   ],
   "metadata": {
    "collapsed": false
   }
  },
  {
   "cell_type": "markdown",
   "source": [
    "#### Exercise 2\n",
    "분석가가 Machine Learning Algorithm을 개발한 후 종가를 사용해 신호를 생성하고 종가에 실행했다. 분석가의 '죄악'은 무엇인가?\n",
    "\n",
    "Look ahead bias의 실수를 범하고 있다. 사후적으로 관측된 종가를 사용해 신호를 생성하여 의사결정은 사전적으로 실행한다면 학습 결과를 제대로 사용할 수 없다"
   ],
   "metadata": {
    "collapsed": false
   }
  },
  {
   "cell_type": "markdown",
   "source": [
    "#### Exercise 3\n",
    "게임기에서 얻은 총 수익과 미국 내 전산학 박사 수 사이에 98.51%의 상관관계가 있다. 박사 학위를 받는 사람이 점점 늘어날 것으로 기대되면 게임 회사에 투자를 해야 하는 것인가? 그렇지 않다면 이 행위의 '죄악'은 무엇인가?\n",
    "\n",
    "storytelling의 오류를 범하고 있다"
   ],
   "metadata": {
    "collapsed": false
   }
  },
  {
   "cell_type": "markdown",
   "source": [
    "#### Exercise 4\n",
    "'Wall Street Journal'은 과거 20년, 50년, 100년을 봤을 때 연중 평균 주식 수익률이 음인 유일한 달이 9월이라고 보고했다. 그렇다면 8월 말에 주식을 매각해야 하는가? 그렇지 않다면 이 행위의 '죄악'은 무엇인가?\n",
    "\n",
    "look ahead bias의 실수를 범하고 있다. 또한, 과거의 패턴을 가지고 미래를 예단할 수 없으므로 Random walk의 과정을 그럴듯하게 포장하는 storytelling의 오류도 범하고 있다"
   ],
   "metadata": {
    "collapsed": false
   }
  },
  {
   "cell_type": "markdown",
   "source": [
    "#### Exercise 5\n",
    "\n",
    "Bloomberg로부터 P/E ratio를 다운로드하고, 매달 주식 순위를 매기고, 상위 1사분위에 해당하는 주식은 매각하고, 하위 4분위에 속하는 주식은 매수한다. 수익이 놀랍다. 이 행위의 '죄악'은 무엇인가?\n",
    "\n",
    "look ahead bias, shortselling, transaction cost, storytelling의 오류를 범하고 있다. 또한, test를 제대로 실행하지 않았다"
   ],
   "metadata": {
    "collapsed": false
   }
  }
 ],
 "metadata": {
  "kernelspec": {
   "display_name": "Python 3",
   "language": "python",
   "name": "python3"
  },
  "language_info": {
   "codemirror_mode": {
    "name": "ipython",
    "version": 2
   },
   "file_extension": ".py",
   "mimetype": "text/x-python",
   "name": "python",
   "nbconvert_exporter": "python",
   "pygments_lexer": "ipython2",
   "version": "2.7.6"
  }
 },
 "nbformat": 4,
 "nbformat_minor": 0
}
