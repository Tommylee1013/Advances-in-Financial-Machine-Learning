{
 "cells": [
  {
   "cell_type": "code",
   "execution_count": 1,
   "metadata": {
    "collapsed": true,
    "ExecuteTime": {
     "end_time": "2023-06-03T18:31:21.698362Z",
     "start_time": "2023-06-03T18:31:20.729810400Z"
    }
   },
   "outputs": [],
   "source": [
    "import numpy as np, pandas as pd, matplotlib.pyplot as plt\n",
    "import seaborn as sns\n",
    "import FinancialMachineLearning as fml"
   ]
  },
  {
   "cell_type": "code",
   "execution_count": 2,
   "outputs": [],
   "source": [
    "from random import gauss\n",
    "from itertools import product\n",
    "\n",
    "def main() :\n",
    "    rPT = rSLm = np.linspace(0, 10, 21)\n",
    "    count = 0\n",
    "    for prod_ in product([10, 5, 0, -5, -10], [5, 10, 25, 50, 100]):\n",
    "        count += 1\n",
    "        coeffs = {'forecast' : prod_[0], 'hl' : prod_[1], 'sigma' : 1}\n",
    "        output = batch(coeffs, nIter = 1e5, maxHP = 100, rPT = rPT, rSLm = rSLm)\n",
    "    return output\n",
    "\n",
    "def batch(coeffs, nIter = 1e5, maxHP = 100, rPT = np.linspace(.5, 10, 20), rSLm = np.linspace(.5, 10, 20), seed = 42) :\n",
    "    phi, output1 = 2 ** (-1 / coeffs['hl']), []\n",
    "    for comb_ in product(rPT, rSLm) :\n",
    "        output2 = []\n",
    "        for iter_ in range(int(nIter)) :\n",
    "            p, hp, count = seed, 0, 0\n",
    "            while True :\n",
    "                p = (1 - phi) * coeffs['forecast'] + phi * p + coeffs['sigma'] * gauss(0,1)\n",
    "                cP = p - seed\n",
    "                hp += 1\n",
    "                if cP > comb_[0] or cP < -comb_[1] or hp > maxHP :\n",
    "                    output2.append(cP)\n",
    "                    break\n",
    "        mean, std = np.mean(output2), np.std(output2)\n",
    "        print(comb_[0], comb_[1], mean, std, mean/std)\n",
    "        output1.append((comb_[0], comb_[1], mean, std, mean/std))\n",
    "    return output1"
   ],
   "metadata": {
    "collapsed": false,
    "ExecuteTime": {
     "end_time": "2023-06-03T18:31:21.713983200Z",
     "start_time": "2023-06-03T18:31:21.698362Z"
    }
   }
  },
  {
   "cell_type": "markdown",
   "source": [
    "### Chapter 13. Synthetic Data Backtest\n",
    "\n",
    "#### Exercise 1\n",
    "당신이 거래 실행 트레이더라고 가정해 보자. 고객이 전화를 걸어 가격 100에 진입한 매도 포지션을 커버하기 위한 주문을 요청했다. 고객은 두 가지 청산 조건을 제시했다. 즉, 105에서의 이익 실현과 90에서의 손절이다.\n",
    "\n",
    "**(a)** 고객이 가격은 O-U프로세스를 따른다고 믿는다고 가정하면 이 수준이 적절한가? 어떤 파라미터에서 적절한가?"
   ],
   "metadata": {
    "collapsed": false
   }
  },
  {
   "cell_type": "code",
   "execution_count": null,
   "outputs": [],
   "source": [],
   "metadata": {
    "collapsed": false
   }
  }
 ],
 "metadata": {
  "kernelspec": {
   "display_name": "Python 3",
   "language": "python",
   "name": "python3"
  },
  "language_info": {
   "codemirror_mode": {
    "name": "ipython",
    "version": 2
   },
   "file_extension": ".py",
   "mimetype": "text/x-python",
   "name": "python",
   "nbconvert_exporter": "python",
   "pygments_lexer": "ipython2",
   "version": "2.7.6"
  }
 },
 "nbformat": 4,
 "nbformat_minor": 0
}
