{
 "cells": [
  {
   "cell_type": "markdown",
   "source": [
    "### import Library and Data"
   ],
   "metadata": {
    "collapsed": false
   }
  },
  {
   "cell_type": "code",
   "execution_count": 106,
   "metadata": {
    "collapsed": true,
    "ExecuteTime": {
     "start_time": "2023-06-23T01:42:51.482763Z",
     "end_time": "2023-06-23T01:42:51.768459Z"
    }
   },
   "outputs": [],
   "source": [
    "import FinancialMachineLearning as fml\n",
    "import pandas as pd\n",
    "import numpy as np\n",
    "import seaborn as sns\n",
    "import matplotlib.pyplot as plt"
   ]
  },
  {
   "cell_type": "code",
   "execution_count": 107,
   "outputs": [],
   "source": [
    "df = pd.read_csv('./Data/kospi_sample_2020.csv', index_col = 0)\n",
    "df = fml.getDataFrame(df)\n",
    "mad = fml.madOutlier(df.price.values.reshape(-1, 1))\n",
    "df = df.loc[~mad]\n",
    "df"
   ],
   "metadata": {
    "collapsed": false,
    "ExecuteTime": {
     "start_time": "2023-06-23T01:42:51.466622Z",
     "end_time": "2023-06-23T01:43:21.445923Z"
    }
   }
  },
  {
   "cell_type": "markdown",
   "source": [
    "Dollar Bar Sampling"
   ],
   "metadata": {
    "collapsed": false
   }
  },
  {
   "cell_type": "code",
   "execution_count": 108,
   "outputs": [],
   "source": [
    "dollar_M = 1000000\n",
    "dollar_df = fml.BarSampling(df, 'dv', dollar_M)\n",
    "dollar_df = dollar_df.groupby(level = 0).first()\n",
    "dollar_df"
   ],
   "metadata": {
    "collapsed": false,
    "ExecuteTime": {
     "start_time": "2023-06-23T01:42:51.480798Z",
     "end_time": "2023-06-23T01:43:24.243018Z"
    }
   }
  },
  {
   "cell_type": "markdown",
   "source": [
    "Fractionally Differencing"
   ],
   "metadata": {
    "collapsed": false
   }
  },
  {
   "cell_type": "code",
   "execution_count": 109,
   "outputs": [],
   "source": [
    "import statsmodels.api as sm\n",
    "\n",
    "cols = ['adfStat','pVal','lags','nObs','95% conf', 'corr']\n",
    "out = pd.DataFrame(columns = cols)\n",
    "for d in np.linspace(0, 2, 21):\n",
    "    try:\n",
    "        df1 = np.log(dollar_df).resample('1H').last().dropna() # daily return\n",
    "        df2 = fml.fracDiff(df1, d, thres = 1e-5)\n",
    "        corr = np.corrcoef(df1.loc[df2.index, 'price'], df2['price'])[0,1]\n",
    "        df2 = sm.tsa.stattools.adfuller(df2['price'], maxlag = 1, regression = 'c', autolag = None)\n",
    "        out.loc[d] = list(df2[:4]) + [df2[4]['5%']] + [corr]\n",
    "    except Exception as e:\n",
    "        print(f'd: {d.round(1)}, error: {e}')\n",
    "        continue"
   ],
   "metadata": {
    "collapsed": false,
    "ExecuteTime": {
     "start_time": "2023-06-23T01:42:51.497424Z",
     "end_time": "2023-06-23T01:43:53.905334Z"
    }
   }
  },
  {
   "cell_type": "code",
   "execution_count": 110,
   "outputs": [],
   "source": [
    "f,ax = plt.subplots()\n",
    "out[['adfStat', 'corr']].plot(ax = ax, marker = 'X')\n",
    "ax.axhline(out['95% conf'].mean(), lw = 1, color = 'r', ls = 'dotted')\n",
    "ax.set_title('min d with thresh = 0.0001')\n",
    "ax.set_xlabel('d values')\n",
    "ax.set_ylabel('adf stat')\n",
    "display(out)"
   ],
   "metadata": {
    "collapsed": false,
    "ExecuteTime": {
     "start_time": "2023-06-23T01:42:51.497523Z",
     "end_time": "2023-06-23T01:43:54.198584Z"
    }
   }
  },
  {
   "cell_type": "code",
   "execution_count": 111,
   "outputs": [],
   "source": [
    "min_ffd = out[out.pVal <= 0.05].iloc[0].name\n",
    "print(\"The min. D that makes the fracdiff stationary\", min_ffd.round(1))"
   ],
   "metadata": {
    "collapsed": false,
    "ExecuteTime": {
     "start_time": "2023-06-23T01:42:51.497546Z",
     "end_time": "2023-06-23T01:43:54.202878Z"
    }
   }
  },
  {
   "cell_type": "code",
   "execution_count": 112,
   "outputs": [],
   "source": [
    "dfx2 = fml.fracDiff_FFD(dollar_df, min_ffd, thres = 1e-5)\n",
    "dfx2"
   ],
   "metadata": {
    "collapsed": false,
    "ExecuteTime": {
     "start_time": "2023-06-23T01:42:51.497606Z",
     "end_time": "2023-06-23T01:44:50.327921Z"
    }
   }
  },
  {
   "cell_type": "markdown",
   "source": [
    "CUSUM Filtering"
   ],
   "metadata": {
    "collapsed": false
   }
  },
  {
   "cell_type": "code",
   "execution_count": 113,
   "outputs": [],
   "source": [
    "threshold = dfx2.std().iat[0] * 2\n",
    "tEvents = fml.getTEvents(dfx2.price, h = threshold)\n",
    "tEvents"
   ],
   "metadata": {
    "collapsed": false,
    "ExecuteTime": {
     "start_time": "2023-06-23T01:42:51.516166Z",
     "end_time": "2023-06-23T01:44:50.947981Z"
    }
   }
  },
  {
   "cell_type": "code",
   "execution_count": 114,
   "outputs": [],
   "source": [
    "dollar_feature = dollar_df.price.loc[tEvents]\n",
    "dollar_feature"
   ],
   "metadata": {
    "collapsed": false,
    "ExecuteTime": {
     "start_time": "2023-06-23T01:42:51.516278Z",
     "end_time": "2023-06-23T01:44:50.955547Z"
    }
   }
  },
  {
   "cell_type": "code",
   "execution_count": 115,
   "outputs": [],
   "source": [
    "frac_diff_feature = dfx2.loc[tEvents]\n",
    "frac_diff_feature"
   ],
   "metadata": {
    "collapsed": false,
    "ExecuteTime": {
     "start_time": "2023-06-23T01:42:51.516304Z",
     "end_time": "2023-06-23T01:44:50.965239Z"
    }
   }
  },
  {
   "cell_type": "code",
   "execution_count": 116,
   "outputs": [],
   "source": [
    "feature_Mat = (pd.DataFrame().assign(dollar = dollar_feature, frac_diff_dollar = frac_diff_feature.price).drop_duplicates().dropna())\n",
    "feature_Mat"
   ],
   "metadata": {
    "collapsed": false,
    "ExecuteTime": {
     "start_time": "2023-06-23T01:42:51.516320Z",
     "end_time": "2023-06-23T01:44:50.988819Z"
    }
   }
  },
  {
   "cell_type": "markdown",
   "source": [
    "Volatility"
   ],
   "metadata": {
    "collapsed": false
   }
  },
  {
   "cell_type": "code",
   "execution_count": 117,
   "outputs": [],
   "source": [
    "dailyVol = fml.getDailyVolatility(feature_Mat.dollar, span = 50)\n",
    "dailyVol"
   ],
   "metadata": {
    "collapsed": false,
    "ExecuteTime": {
     "start_time": "2023-06-23T01:42:51.530463Z",
     "end_time": "2023-06-23T01:44:50.995964Z"
    }
   }
  },
  {
   "cell_type": "code",
   "execution_count": 118,
   "outputs": [],
   "source": [
    "dailyVol.plot()"
   ],
   "metadata": {
    "collapsed": false,
    "ExecuteTime": {
     "start_time": "2023-06-23T01:42:51.530531Z",
     "end_time": "2023-06-23T01:44:51.281972Z"
    }
   }
  },
  {
   "cell_type": "markdown",
   "source": [
    "Vertical Barrier"
   ],
   "metadata": {
    "collapsed": false
   }
  },
  {
   "cell_type": "code",
   "execution_count": 119,
   "outputs": [],
   "source": [
    "t1 = fml.addVerticalBarrier(tEvents, feature_Mat.dollar, numDays = 5)\n",
    "t1"
   ],
   "metadata": {
    "collapsed": false,
    "ExecuteTime": {
     "start_time": "2023-06-23T01:42:51.543863Z",
     "end_time": "2023-06-23T01:44:51.287023Z"
    }
   }
  },
  {
   "cell_type": "code",
   "execution_count": 120,
   "outputs": [],
   "source": [
    "import platform\n",
    "from multiprocessing import cpu_count\n",
    "if platform.system() == 'Windows':\n",
    "    cpus = 1\n",
    "else:\n",
    "    cpus = cpu_count() - 1\n",
    "ptsl = [1,1]\n",
    "target = dailyVol * 2\n",
    "minRet = 0.001\n",
    "cpus = cpu_count() - 1\n",
    "events = fml.getEvents(feature_Mat.dollar, tEvents, ptsl, target, minRet, cpus, t1 = t1)"
   ],
   "metadata": {
    "collapsed": false,
    "ExecuteTime": {
     "start_time": "2023-06-23T01:42:51.543910Z",
     "end_time": "2023-06-23T01:44:58.067185Z"
    }
   }
  },
  {
   "cell_type": "code",
   "execution_count": 121,
   "outputs": [],
   "source": [
    "events"
   ],
   "metadata": {
    "collapsed": false,
    "ExecuteTime": {
     "start_time": "2023-06-23T01:42:51.543926Z",
     "end_time": "2023-06-23T01:44:58.076927Z"
    }
   }
  },
  {
   "cell_type": "markdown",
   "source": [
    "Concurrent Events"
   ],
   "metadata": {
    "collapsed": false
   }
  },
  {
   "cell_type": "code",
   "execution_count": 122,
   "outputs": [],
   "source": [
    "numCoEvents = fml.mpPandasObj(fml.getConcurrentBar, ('molecule', events.index), cpus, closeIdx = feature_Mat.index, t1 = events['t1'])\n",
    "numCoEvents = numCoEvents.loc[~numCoEvents.index.duplicated(keep = 'last')]\n",
    "numCoEvents = numCoEvents.reindex(feature_Mat.index).fillna(0)\n",
    "out = pd.DataFrame()\n",
    "out['tW'] = fml.mpPandasObj(fml.getAvgLabelUniq, ('molecule', events.index), cpus, t1 = events['t1'], numCoEvents = numCoEvents)\n",
    "out"
   ],
   "metadata": {
    "collapsed": false,
    "ExecuteTime": {
     "start_time": "2023-06-23T01:42:51.556824Z",
     "end_time": "2023-06-23T01:45:07.343457Z"
    }
   }
  },
  {
   "cell_type": "code",
   "execution_count": 123,
   "outputs": [],
   "source": [
    "plt.figure(figsize = (15,5))\n",
    "plt.xlabel('Time', fontfamily = 'Serif', fontsize = 15)\n",
    "\n",
    "plt.style.use('default')\n",
    "ax1 = numCoEvents.plot(color = 'blue', grid = True, label = 'Concurrency Events')\n",
    "ax2 = dailyVol.plot(color = 'red', grid = True, secondary_y = True, label = 'daily volatility')\n",
    "\n",
    "ax1.legend(loc = 1)\n",
    "ax2.legend(loc = 2)"
   ],
   "metadata": {
    "collapsed": false,
    "ExecuteTime": {
     "start_time": "2023-06-23T01:42:51.556872Z",
     "end_time": "2023-06-23T01:45:07.880343Z"
    }
   }
  },
  {
   "cell_type": "code",
   "execution_count": 124,
   "outputs": [],
   "source": [
    "coEvents = numCoEvents.to_frame()\n",
    "ewmasd = dailyVol.to_frame()\n",
    "combine = ewmasd.join(coEvents, how = 'inner')\n",
    "combine.columns = ['ewmasd', 'coEvents']\n",
    "combine['ewmasd_std'] = (combine['ewmasd']-combine['ewmasd'].mean())/combine['ewmasd'].std()\n",
    "combine['coEvents_std'] = (combine['coEvents']-combine['coEvents'].mean())/combine['coEvents'].std()\n",
    "\n",
    "sns.set_style('whitegrid')\n",
    "plt.scatter(combine['coEvents_std'], combine['ewmasd_std'], marker = '.', alpha = 0.5)\n",
    "plt.axhline(y = combine['coEvents_std'].mean(), c='r', ls='--')\n",
    "plt.axvline(x = combine['ewmasd_std'].mean(), c='g', ls='--')\n",
    "plt.show()"
   ],
   "metadata": {
    "collapsed": false,
    "ExecuteTime": {
     "start_time": "2023-06-23T01:42:51.556885Z",
     "end_time": "2023-06-23T01:45:08.030658Z"
    }
   }
  },
  {
   "cell_type": "code",
   "execution_count": 125,
   "outputs": [],
   "source": [
    "plt.scatter(combine['coEvents'], combine['ewmasd'], marker = '.', alpha = 0.5)\n",
    "plt.axhline(y = 0.03, c='r', ls='--')\n",
    "plt.axvline(x = 10, c='g', ls='--')\n",
    "plt.show()"
   ],
   "metadata": {
    "collapsed": false,
    "ExecuteTime": {
     "start_time": "2023-06-23T01:42:51.556906Z",
     "end_time": "2023-06-23T01:45:08.174304Z"
    }
   }
  },
  {
   "cell_type": "markdown",
   "source": [
    "Weights"
   ],
   "metadata": {
    "collapsed": false
   }
  },
  {
   "cell_type": "code",
   "execution_count": 126,
   "outputs": [],
   "source": [
    "out['w'] = fml.mpPandasObj(fml.mpSampleW, ('molecule', events.index),\n",
    "                           cpus, t1 = events['t1'], numCoEvents = numCoEvents, close = feature_Mat.dollar)\n",
    "out['w'] *= out.shape[0] / out['w'].sum()\n",
    "out"
   ],
   "metadata": {
    "collapsed": false,
    "ExecuteTime": {
     "start_time": "2023-06-23T01:42:51.569325Z",
     "end_time": "2023-06-23T01:45:12.669044Z"
    }
   }
  },
  {
   "cell_type": "code",
   "execution_count": 127,
   "outputs": [],
   "source": [
    "def getExTimeDecay(tW, clfLastW = 1.,exponent = 1):\n",
    "    clfW = tW.sort_index().cumsum()\n",
    "    if clfLastW >= 0: slope = ((1.-clfLastW)/clfW.iloc[-1]) ** exponent\n",
    "    else: slope = (1./((clfLastW + 1) * clfW.iloc[-1])) ** exponent\n",
    "    const = 1.-slope * clfW.iloc[-1]\n",
    "    clfW = const + slope * clfW\n",
    "    clfW[clfW < 0] = 0\n",
    "    print(round(const, 4), round(slope, 4))\n",
    "    return clfW\n",
    "\n",
    "f,ax=plt.subplots(2,figsize=(10,7))\n",
    "fs = [1,.75,.5,0,-.25,-.5]\n",
    "ls = ['-','-.','--',':','--','-.']\n",
    "for lstW, l in zip(fs,ls):\n",
    "    decayFactor = getExTimeDecay(out['tW'].dropna(),\n",
    "                                 clfLastW = lstW,\n",
    "                                 exponent = 0.75) # experiment by changing exponent\n",
    "    ((out['w'].dropna()*decayFactor).reset_index(drop=True)\n",
    "     .plot(ax=ax[0],alpha=0.5))\n",
    "    s = (pd.Series(1,index = out['w'].dropna().index) * decayFactor)\n",
    "    s.plot(ax=ax[1], ls=l, label=str(lstW))\n",
    "ax[1].legend(loc='center left', bbox_to_anchor=(1, 0.5))"
   ],
   "metadata": {
    "collapsed": false,
    "ExecuteTime": {
     "start_time": "2023-06-23T01:42:51.569377Z",
     "end_time": "2023-06-23T01:45:13.272054Z"
    }
   }
  },
  {
   "cell_type": "code",
   "execution_count": 128,
   "outputs": [],
   "source": [
    "s"
   ],
   "metadata": {
    "collapsed": false,
    "ExecuteTime": {
     "start_time": "2023-06-23T01:42:51.569397Z",
     "end_time": "2023-06-23T01:45:13.275268Z"
    }
   }
  },
  {
   "cell_type": "code",
   "execution_count": 129,
   "outputs": [],
   "source": [
    "feature_Mat = feature_Mat.join(out, how = 'left').join(target, how = 'left').dropna()\n",
    "feature_Mat"
   ],
   "metadata": {
    "collapsed": false,
    "ExecuteTime": {
     "start_time": "2023-06-23T01:42:51.569412Z",
     "end_time": "2023-06-23T01:45:13.287208Z"
    }
   }
  },
  {
   "cell_type": "code",
   "execution_count": 130,
   "outputs": [],
   "source": [
    "# feature_Mat['w'] = feature_Mat['w'] * s"
   ],
   "metadata": {
    "collapsed": false,
    "ExecuteTime": {
     "start_time": "2023-06-23T01:42:51.569425Z",
     "end_time": "2023-06-23T01:45:13.290609Z"
    }
   }
  },
  {
   "cell_type": "markdown",
   "source": [
    "RSI"
   ],
   "metadata": {
    "collapsed": false
   }
  },
  {
   "cell_type": "code",
   "execution_count": 131,
   "outputs": [],
   "source": [
    "# Compute RSI\n",
    "def calculate_rsi(prices, window):\n",
    "    deltas = prices.diff()\n",
    "    up = deltas.clip(lower=0)\n",
    "    down = deltas.clip(upper=0).abs()\n",
    "\n",
    "    avg_gain = up.rolling(window=window).mean()\n",
    "    avg_loss = down.rolling(window=window).mean()\n",
    "\n",
    "    rs = avg_gain / avg_loss\n",
    "    rsi = 100 - (100 / (1 + rs))\n",
    "\n",
    "    return rsi\n",
    "\n",
    "\n",
    "def get_rsi(data, window=14):\n",
    "    df = data.copy(deep=True).reset_index()\n",
    "    rsi = calculate_rsi(df['dollar'], window)\n",
    "    rsi_df = pd.Series(data=rsi.values, index=data.index)\n",
    "    return rsi_df"
   ],
   "metadata": {
    "collapsed": false,
    "ExecuteTime": {
     "start_time": "2023-06-23T01:42:51.581897Z",
     "end_time": "2023-06-23T01:45:13.302159Z"
    }
   }
  },
  {
   "cell_type": "code",
   "execution_count": 132,
   "outputs": [],
   "source": [
    "data = feature_Mat.copy()\n",
    "rsi_windows = [5, 13, 35]\n",
    "for w in rsi_windows:\n",
    "    rsi = get_rsi(data, window = w).squeeze()\n",
    "    data[f'rsi_{w}'] = rsi"
   ],
   "metadata": {
    "collapsed": false,
    "ExecuteTime": {
     "start_time": "2023-06-23T01:42:51.581939Z",
     "end_time": "2023-06-23T01:45:13.312667Z"
    }
   }
  },
  {
   "cell_type": "code",
   "execution_count": 133,
   "outputs": [],
   "source": [
    "data"
   ],
   "metadata": {
    "collapsed": false,
    "ExecuteTime": {
     "start_time": "2023-06-23T01:42:51.581953Z",
     "end_time": "2023-06-23T01:45:13.321827Z"
    }
   }
  },
  {
   "cell_type": "markdown",
   "source": [
    "autocorr"
   ],
   "metadata": {
    "collapsed": false
   }
  },
  {
   "cell_type": "code",
   "execution_count": 134,
   "outputs": [],
   "source": [
    "data['log_ret'] = np.log(data['dollar']).diff()\n",
    "\n",
    "window_autocorr = 50\n",
    "data['autocorr_1'] = (data['log_ret']\n",
    "                          .rolling(window=window_autocorr,\n",
    "                                   min_periods=window_autocorr, center=False)\n",
    "                          .apply(lambda x: x.autocorr(lag=1), raw=False))\n",
    "\n",
    "data['autocorr_3'] = (data['log_ret']\n",
    "                          .rolling(window=window_autocorr,\n",
    "                                   min_periods=window_autocorr, center=False)\n",
    "                          .apply(lambda x: x.autocorr(lag=3), raw=False))\n",
    "\n",
    "data['autocorr_5'] = (data['log_ret']\n",
    "                          .rolling(window=window_autocorr,\n",
    "                                   min_periods=window_autocorr, center=False)\n",
    "                          .apply(lambda x: x.autocorr(lag=5), raw=False))"
   ],
   "metadata": {
    "collapsed": false,
    "ExecuteTime": {
     "start_time": "2023-06-23T01:42:51.594566Z",
     "end_time": "2023-06-23T01:45:13.916344Z"
    }
   }
  },
  {
   "cell_type": "code",
   "execution_count": 135,
   "outputs": [],
   "source": [
    "data"
   ],
   "metadata": {
    "collapsed": false,
    "ExecuteTime": {
     "start_time": "2023-06-23T01:42:51.594614Z",
     "end_time": "2023-06-23T01:45:13.928210Z"
    }
   }
  },
  {
   "cell_type": "markdown",
   "source": [
    "labeling"
   ],
   "metadata": {
    "collapsed": false
   }
  },
  {
   "cell_type": "code",
   "execution_count": 136,
   "outputs": [],
   "source": [
    "labels = fml.getBins(events, feature_Mat.dollar)\n",
    "clean_labels = fml.dropLabels(labels, 0.05)\n",
    "clean_labels"
   ],
   "metadata": {
    "collapsed": false,
    "ExecuteTime": {
     "start_time": "2023-06-23T01:42:51.612590Z",
     "end_time": "2023-06-23T01:45:13.967824Z"
    }
   }
  },
  {
   "cell_type": "markdown",
   "source": [
    "feature matrix"
   ],
   "metadata": {
    "collapsed": false
   }
  },
  {
   "cell_type": "code",
   "execution_count": 137,
   "outputs": [],
   "source": [
    "from multiprocessing import Pool\n",
    "import test\n",
    "\n",
    "if __name__ == \"__main__\":\n",
    "    with Pool() as pool:\n",
    "        seqUs = test.main_mp(t1)\n",
    "        #result = pool.map(test.main_mp(t1), range(10))\n",
    "        #print(result)"
   ],
   "metadata": {
    "collapsed": false,
    "is_executing": true,
    "ExecuteTime": {
     "start_time": "2023-06-23T01:42:51.634543Z",
     "end_time": "2023-06-23T01:45:25.372395Z"
    }
   }
  },
  {
   "cell_type": "code",
   "execution_count": 138,
   "outputs": [],
   "source": [
    "avg_uniqueness = seqUs.mean()[0]\n",
    "avgU1 = out['tW'].mean()"
   ],
   "metadata": {
    "collapsed": false,
    "is_executing": true,
    "ExecuteTime": {
     "start_time": "2023-06-23T01:42:51.634605Z",
     "end_time": "2023-06-23T01:45:25.377758Z"
    }
   }
  },
  {
   "cell_type": "markdown",
   "source": [
    "#### Primary Model"
   ],
   "metadata": {
    "collapsed": false
   }
  },
  {
   "cell_type": "code",
   "execution_count": 139,
   "outputs": [],
   "source": [
    "target = clean_labels.bin\n",
    "target"
   ],
   "metadata": {
    "collapsed": false,
    "is_executing": true,
    "ExecuteTime": {
     "start_time": "2023-06-23T01:42:51.647444Z",
     "end_time": "2023-06-23T01:45:25.383168Z"
    }
   }
  },
  {
   "cell_type": "code",
   "execution_count": 140,
   "outputs": [],
   "source": [
    "data = data.join(target, how = 'left').dropna()\n",
    "data"
   ],
   "metadata": {
    "collapsed": false,
    "is_executing": true,
    "ExecuteTime": {
     "start_time": "2023-06-23T01:42:51.647492Z",
     "end_time": "2023-06-23T01:45:25.416882Z"
    }
   }
  },
  {
   "cell_type": "markdown",
   "source": [
    "### Secondary Model\n",
    "use Primary Model Prediction"
   ],
   "metadata": {
    "collapsed": false
   }
  },
  {
   "cell_type": "code",
   "execution_count": 141,
   "outputs": [],
   "source": [
    "X = data.iloc[:,:-1]\n",
    "y = data.iloc[:,-1]"
   ],
   "metadata": {
    "collapsed": false,
    "is_executing": true,
    "ExecuteTime": {
     "start_time": "2023-06-23T01:42:51.659756Z",
     "end_time": "2023-06-23T01:45:25.417217Z"
    }
   }
  },
  {
   "cell_type": "code",
   "execution_count": 142,
   "outputs": [],
   "source": [
    "from sklearn.model_selection import train_test_split\n",
    "\n",
    "# Split data\n",
    "X_train, X_test, y_train, y_test = train_test_split(X, y, test_size = 0.3, shuffle = False)"
   ],
   "metadata": {
    "collapsed": false,
    "is_executing": true,
    "ExecuteTime": {
     "start_time": "2023-06-23T01:42:51.659803Z",
     "end_time": "2023-06-23T01:45:25.417253Z"
    }
   }
  },
  {
   "cell_type": "markdown",
   "source": [
    "#### RandomForest Classifier"
   ],
   "metadata": {
    "collapsed": false
   }
  },
  {
   "cell_type": "code",
   "execution_count": 143,
   "outputs": [],
   "source": [
    "from sklearn.model_selection import StratifiedKFold, KFold\n",
    "from sklearn.tree import DecisionTreeClassifier\n",
    "from sklearn.ensemble import RandomForestClassifier, RandomForestRegressor, BaggingClassifier\n",
    "from scipy import interp\n",
    "\n",
    "rf = RandomForestClassifier(n_estimators = 1000, criterion = \"entropy\", bootstrap = True,\n",
    "                                n_jobs=1, random_state = 42, class_weight = 'balanced_subsample', oob_score = False)\n",
    "\n",
    "cv_gen0 = KFold(n_splits = 5, shuffle = False)\n",
    "\n",
    "score = fml.cvScore(rf, X_train, y_train, sample_weight = X_train['w'], scoring = 'neg_log_loss', cv = None, cvGen = cv_gen0, pctEmbargo = 0.1)\n",
    "print('rf_clf Mean CV score: {0:.6f}\\nCV Variance: {1:.6f}'.format(score.mean(), score.var()))"
   ],
   "metadata": {
    "collapsed": false,
    "is_executing": true,
    "ExecuteTime": {
     "start_time": "2023-06-23T01:42:51.672432Z",
     "end_time": "2023-06-23T01:45:35.013460Z"
    }
   }
  },
  {
   "cell_type": "code",
   "execution_count": 144,
   "outputs": [],
   "source": [
    "skf = StratifiedKFold(n_splits = 5, shuffle = False)\n",
    "classifier = RandomForestClassifier(n_estimators = 1000, criterion = 'entropy', bootstrap = True,\n",
    "                                    class_weight = 'balanced_subsample', random_state = 42, oob_score = False)\n",
    "fml.crossValPlot(skf, classifier, X_train, y_train)"
   ],
   "metadata": {
    "collapsed": false,
    "is_executing": true,
    "ExecuteTime": {
     "start_time": "2023-06-23T01:42:51.672496Z",
     "end_time": "2023-06-23T01:45:44.843800Z"
    }
   }
  },
  {
   "cell_type": "code",
   "execution_count": 145,
   "outputs": [],
   "source": [
    "from sklearn.metrics import classification_report\n",
    "from sklearn.metrics import confusion_matrix\n",
    "from sklearn.metrics import accuracy_score\n",
    "from sklearn.metrics import roc_curve, auc\n",
    "\n",
    "fit = rf.fit(X_train, y_train)\n",
    "\n",
    "y_pred_rf = fit.predict_proba(X_test)[:, 1]\n",
    "y_pred = fit.predict(X_test)\n",
    "fpr_rf, tpr_rf, _ = roc_curve(y_test, y_pred_rf)\n",
    "print(classification_report(y_test, y_pred, target_names = ['no trade',' trade']))\n",
    "\n",
    "plt.figure(figsize = (9,6))\n",
    "plt.plot([0, 1], [0, 1], 'k--')\n",
    "plt.plot(fpr_rf, tpr_rf, label = 'RandomForest Classifier')\n",
    "plt.xlabel('False positive rate')\n",
    "plt.ylabel('True positive rate')\n",
    "plt.title('ROC curve')\n",
    "plt.legend(loc='best')\n",
    "plt.show()"
   ],
   "metadata": {
    "collapsed": false,
    "is_executing": true,
    "ExecuteTime": {
     "start_time": "2023-06-23T01:42:51.672510Z",
     "end_time": "2023-06-23T01:45:47.278785Z"
    }
   }
  },
  {
   "cell_type": "markdown",
   "source": [
    "Feature Importance"
   ],
   "metadata": {
    "collapsed": false
   }
  },
  {
   "cell_type": "code",
   "execution_count": 146,
   "outputs": [],
   "source": [
    "title = 'Feature Importance:'\n",
    "figsize = (15, 5)\n",
    "\n",
    "feat_imp = pd.DataFrame({'Importance':rf.feature_importances_})\n",
    "feat_imp['feature'] = X.columns\n",
    "feat_imp.sort_values(by='Importance', ascending=False, inplace=True)\n",
    "feat_imp = feat_imp\n",
    "\n",
    "feat_imp.sort_values(by='Importance', inplace=True)\n",
    "feat_imp = feat_imp.set_index('feature', drop=True)\n",
    "feat_imp.plot.barh(title=title, figsize=figsize)\n",
    "plt.axvline(1. / feat_imp.shape[0], linewidth = 1, color='r', linestyle='dotted')\n",
    "plt.xlabel('Feature Importance Score')\n",
    "plt.show()"
   ],
   "metadata": {
    "collapsed": false,
    "is_executing": true,
    "ExecuteTime": {
     "start_time": "2023-06-23T01:42:51.685289Z",
     "end_time": "2023-06-23T01:45:47.562296Z"
    }
   }
  },
  {
   "cell_type": "markdown",
   "source": [
    "#### DecisionTree & Bagging Classifier"
   ],
   "metadata": {
    "collapsed": false
   }
  },
  {
   "cell_type": "code",
   "execution_count": 147,
   "outputs": [],
   "source": [
    "n_estimator = 1000\n",
    "dt = DecisionTreeClassifier(criterion = 'entropy', max_features = 'auto', class_weight = 'balanced')\n",
    "bc = BaggingClassifier(base_estimator = dt, n_estimators = n_estimator,\n",
    "                       max_samples = avgU1, max_features = 1., random_state = 42)"
   ],
   "metadata": {
    "collapsed": false,
    "is_executing": true,
    "ExecuteTime": {
     "start_time": "2023-06-23T01:42:51.698180Z",
     "end_time": "2023-06-23T01:45:47.580122Z"
    }
   }
  },
  {
   "cell_type": "code",
   "execution_count": 148,
   "outputs": [],
   "source": [
    "cv_gen0 = KFold(n_splits = 5, shuffle = False)\n",
    "\n",
    "score = fml.cvScore(bc, X_train, y_train, sample_weight = X_train['w'], scoring = 'neg_log_loss', cv = None, cvGen = cv_gen0, pctEmbargo = 0.1)\n",
    "print('rf_clf Mean CV score: {0:.6f}\\nCV Variance: {1:.6f}'.format(score.mean(), score.var()))"
   ],
   "metadata": {
    "collapsed": false,
    "is_executing": true,
    "ExecuteTime": {
     "start_time": "2023-06-23T01:42:51.698233Z",
     "end_time": "2023-06-23T01:45:54.278755Z"
    }
   }
  },
  {
   "cell_type": "code",
   "execution_count": 149,
   "outputs": [],
   "source": [
    "skf = StratifiedKFold(n_splits = 5, shuffle = False)\n",
    "classifier = BaggingClassifier(base_estimator = dt, n_estimators = n_estimator,\n",
    "                               max_samples = avgU1, max_features = 1., random_state = 42)\n",
    "fml.crossValPlot(skf, classifier, X_train, y_train)"
   ],
   "metadata": {
    "collapsed": false,
    "is_executing": true,
    "ExecuteTime": {
     "start_time": "2023-06-23T01:42:51.698246Z",
     "end_time": "2023-06-23T01:46:01.203048Z"
    }
   }
  },
  {
   "cell_type": "code",
   "execution_count": 150,
   "outputs": [],
   "source": [
    "y_pred_bc = fit.predict_proba(X_test)[:, 1]\n",
    "y_pred = fit.predict(X_test)\n",
    "fpr_bc, tpr_bc, _ = roc_curve(y_test, y_pred_bc)\n",
    "print(classification_report(y_test, y_pred, target_names = ['no trade',' trade']))\n",
    "\n",
    "plt.figure(figsize = (9,6))\n",
    "plt.plot([0, 1], [0, 1], 'k--')\n",
    "plt.plot(fpr_bc, tpr_bc, label = 'Bagging Classifier')\n",
    "plt.xlabel('False positive rate')\n",
    "plt.ylabel('True positive rate')\n",
    "plt.title('ROC curve')\n",
    "plt.legend(loc='best')\n",
    "plt.show()"
   ],
   "metadata": {
    "collapsed": false,
    "is_executing": true,
    "ExecuteTime": {
     "start_time": "2023-06-23T01:42:51.698257Z",
     "end_time": "2023-06-23T01:46:01.519642Z"
    }
   }
  },
  {
   "cell_type": "markdown",
   "source": [
    "#### RandomForest & Bagging Classifier"
   ],
   "metadata": {
    "collapsed": false
   }
  },
  {
   "cell_type": "code",
   "execution_count": 151,
   "outputs": [],
   "source": [
    "n_estimator = 1000\n",
    "rf2 = RandomForestClassifier(n_estimators = 1, criterion = 'entropy', bootstrap = False, class_weight = 'balanced_subsample')\n",
    "bc2 = BaggingClassifier(base_estimator = rf2, n_estimators = n_estimator,\n",
    "                        max_samples = avgU1, max_features = 1., random_state = 42)\n",
    "\n",
    "fit = bc2.fit(X_train, y_train)"
   ],
   "metadata": {
    "collapsed": false,
    "is_executing": true,
    "ExecuteTime": {
     "start_time": "2023-06-23T01:42:51.710987Z",
     "end_time": "2023-06-23T01:46:03.654560Z"
    }
   }
  },
  {
   "cell_type": "code",
   "execution_count": 152,
   "outputs": [],
   "source": [
    "cv_gen0 = KFold(n_splits = 5, shuffle = False)\n",
    "\n",
    "score = fml.cvScore(bc2, X_train, y_train, sample_weight = X_train['w'], scoring = 'neg_log_loss', cv = None, cvGen = cv_gen0, pctEmbargo = 0.1)\n",
    "print('rf_clf Mean CV score: {0:.6f}\\nCV Variance: {1:.6f}'.format(score.mean(), score.var()))"
   ],
   "metadata": {
    "collapsed": false,
    "is_executing": true,
    "ExecuteTime": {
     "start_time": "2023-06-23T01:42:51.711034Z",
     "end_time": "2023-06-23T01:46:15.315887Z"
    }
   }
  },
  {
   "cell_type": "code",
   "execution_count": 153,
   "outputs": [],
   "source": [
    "skf = StratifiedKFold(n_splits = 5, shuffle = False)\n",
    "classifier = BaggingClassifier(base_estimator = rf2, n_estimators = n_estimator,\n",
    "                               max_samples = avgU1, max_features = 1., random_state = 42)\n",
    "fml.crossValPlot(skf, classifier, X_train, y_train)"
   ],
   "metadata": {
    "collapsed": false,
    "is_executing": true,
    "ExecuteTime": {
     "start_time": "2023-06-23T01:42:51.711050Z",
     "end_time": "2023-06-23T01:46:26.903901Z"
    }
   }
  },
  {
   "cell_type": "code",
   "execution_count": 154,
   "outputs": [],
   "source": [
    "y_pred_bc2 = fit.predict_proba(X_test)[:, 1]\n",
    "y_pred = fit.predict(X_test)\n",
    "fpr_bc, tpr_bc, _ = roc_curve(y_test, y_pred_rf)\n",
    "print(classification_report(y_test, y_pred, target_names = ['no trade',' trade']))\n",
    "\n",
    "plt.figure(figsize = (9,6))\n",
    "plt.plot([0, 1], [0, 1], 'k--')\n",
    "plt.plot(fpr_bc, tpr_bc, label = 'Bagging Classifier')\n",
    "plt.xlabel('False positive rate')\n",
    "plt.ylabel('True positive rate')\n",
    "plt.title('ROC curve')\n",
    "plt.legend(loc='best')\n",
    "plt.show()"
   ],
   "metadata": {
    "collapsed": false,
    "is_executing": true,
    "ExecuteTime": {
     "start_time": "2023-06-23T01:42:51.711064Z",
     "end_time": "2023-06-23T01:46:27.472685Z"
    }
   }
  },
  {
   "cell_type": "code",
   "execution_count": 155,
   "outputs": [],
   "source": [
    "yprf = pd.Series(y_pred_rf, index = X_test.index)\n",
    "ytest = pd.Series(y_test, index = X_test.index)"
   ],
   "metadata": {
    "collapsed": false,
    "is_executing": true,
    "ExecuteTime": {
     "start_time": "2023-06-23T01:42:51.711088Z",
     "end_time": "2023-06-23T01:46:27.476661Z"
    }
   }
  },
  {
   "cell_type": "code",
   "execution_count": 156,
   "outputs": [],
   "source": [
    "yt = pd.DataFrame(yprf)\n",
    "yt = pd.concat([yt, X_test['log_ret']], axis = 1)\n",
    "yt = pd.concat([yt, ytest], axis = 1)\n",
    "z = (yt[0] - 1 / 2) / (yt[0] * (1 - yt[0])) ** 0.5\n",
    "cali_pred = (yprf - yprf.min()) / (yprf.max() - yprf.min())\n",
    "yt = pd.concat([yt, z], axis = 1)\n",
    "yt = pd.concat([yt, z * X_test['log_ret']], axis = 1)\n",
    "yt = pd.concat([yt, cali_pred], axis = 1)\n",
    "yt.columns = ['pred_prob','log_ret','bin','bet_size','profit','cali_pred']\n",
    "print(yt)"
   ],
   "metadata": {
    "collapsed": false,
    "is_executing": true,
    "ExecuteTime": {
     "start_time": "2023-06-23T01:42:51.711098Z",
     "end_time": "2023-06-23T01:46:27.488322Z"
    }
   }
  },
  {
   "cell_type": "code",
   "execution_count": 157,
   "outputs": [],
   "source": [
    "fig, ax = plt.subplots(figsize=(10, 5))\n",
    "\n",
    "coefficients = np.polyfit(yt['cali_pred'][yt['bin'] == 1.0], yt['profit'][yt['bin'] == 1.0], 1)\n",
    "regression_line = np.poly1d(coefficients)\n",
    "x_range = np.linspace(np.min(yt['cali_pred'][yt['bin'] == 1.0]), np.max(yt['cali_pred'][yt['bin'] == 1.0]), 100)\n",
    "y_range = regression_line(x_range)\n",
    "ax.plot(x_range, y_range, color='red')\n",
    "\n",
    "sns.scatterplot(data = yt, x = 'cali_pred', y=\"profit\", hue='bin', palette='flare', ax=ax)\n",
    "plt.show()\n",
    "\n",
    "yt['profit'][yt['bin'] == 1][yt['cali_pred'] >= 0.5].cumsum().plot(label = 'Machine Learning Model', figsize = (10,5))\n",
    "yt['log_ret'].cumsum().plot(label = 'KOSPI200 future')\n",
    "plt.legend()"
   ],
   "metadata": {
    "collapsed": false,
    "is_executing": true,
    "ExecuteTime": {
     "start_time": "2023-06-23T01:42:51.711121Z",
     "end_time": "2023-06-23T01:46:27.959026Z"
    }
   }
  },
  {
   "cell_type": "code",
   "execution_count": 158,
   "outputs": [],
   "source": [
    "yprf = pd.Series(y_pred_bc, index = X_test.index)\n",
    "ytest = pd.Series(y_test, index = X_test.index)\n",
    "yt = pd.DataFrame(yprf)\n",
    "yt = pd.concat([yt, X_test['log_ret']], axis = 1)\n",
    "yt = pd.concat([yt, ytest], axis = 1)\n",
    "z = (yt[0] - 1 / 2) / (yt[0] * (1 - yt[0])) ** 0.5\n",
    "cali_pred = (yprf - yprf.min()) / (yprf.max() - yprf.min())\n",
    "yt = pd.concat([yt, z], axis = 1)\n",
    "yt = pd.concat([yt, z * X_test['log_ret']], axis = 1)\n",
    "yt = pd.concat([yt, cali_pred], axis = 1)\n",
    "yt.columns = ['pred_prob','log_ret','bin','bet_size','profit','cali_pred']\n",
    "\n",
    "fig, ax = plt.subplots(figsize=(10, 5))\n",
    "\n",
    "coefficients = np.polyfit(yt['cali_pred'][yt['bin'] == 1.0], yt['profit'][yt['bin'] == 1.0], 1)\n",
    "regression_line = np.poly1d(coefficients)\n",
    "x_range = np.linspace(np.min(yt['cali_pred'][yt['bin'] == 1.0]), np.max(yt['cali_pred'][yt['bin'] == 1.0]), 100)\n",
    "y_range = regression_line(x_range)\n",
    "ax.plot(x_range, y_range, color='red')\n",
    "\n",
    "sns.scatterplot(data=yt, x='cali_pred', y=\"profit\", hue='bin', palette='flare', ax=ax)\n",
    "plt.show()\n",
    "\n",
    "yt['profit'][yt['bin'] == 1][yt['cali_pred'] >= 0.5].cumsum().plot(label='Machine Learning Model', figsize=(10, 5))\n",
    "yt['log_ret'].cumsum().plot(label='KOSPI200 future')\n",
    "plt.legend()"
   ],
   "metadata": {
    "collapsed": false,
    "is_executing": true,
    "ExecuteTime": {
     "start_time": "2023-06-23T01:42:51.711133Z",
     "end_time": "2023-06-23T01:46:28.433031Z"
    }
   }
  },
  {
   "cell_type": "code",
   "execution_count": 159,
   "outputs": [],
   "source": [
    "yprf = pd.Series(y_pred_bc2, index = X_test.index)\n",
    "ytest = pd.Series(y_test, index = X_test.index)\n",
    "yt = pd.DataFrame(yprf)\n",
    "yt = pd.concat([yt, X_test['log_ret']], axis = 1)\n",
    "yt = pd.concat([yt, ytest], axis = 1)\n",
    "z = (yt[0] - 1 / 2) / (yt[0] * (1 - yt[0])) ** 0.5\n",
    "cali_pred = (yprf - yprf.min()) / (yprf.max() - yprf.min())\n",
    "yt = pd.concat([yt, z], axis = 1)\n",
    "yt = pd.concat([yt, z * X_test['log_ret']], axis = 1)\n",
    "yt = pd.concat([yt, cali_pred], axis = 1)\n",
    "yt.columns = ['pred_prob','log_ret','bin','bet_size','profit','cali_pred']\n",
    "\n",
    "fig, ax = plt.subplots(figsize=(10, 5))\n",
    "\n",
    "coefficients = np.polyfit(yt['cali_pred'][yt['bin'] == 1.0], yt['profit'][yt['bin'] == 1.0], 1)\n",
    "regression_line = np.poly1d(coefficients)\n",
    "x_range = np.linspace(np.min(yt['cali_pred'][yt['bin'] == 1.0]), np.max(yt['cali_pred'][yt['bin'] == 1.0]), 100)\n",
    "y_range = regression_line(x_range)\n",
    "ax.plot(x_range, y_range, color='red')\n",
    "\n",
    "sns.scatterplot(data=yt, x='cali_pred', y=\"profit\", hue='bin', palette='flare', ax=ax)\n",
    "plt.show()\n",
    "\n",
    "yt['profit'][yt['bin'] == 1][yt['cali_pred'] >= 0.3].cumsum().plot(label='Machine Learning Model', figsize=(10, 5))\n",
    "yt['log_ret'].cumsum().plot(label='KOSPI200 future')\n",
    "plt.legend()"
   ],
   "metadata": {
    "collapsed": false,
    "is_executing": true,
    "ExecuteTime": {
     "start_time": "2023-06-23T01:42:51.711142Z",
     "end_time": "2023-06-23T01:46:28.919216Z"
    }
   }
  }
 ],
 "metadata": {
  "kernelspec": {
   "display_name": "Python 3",
   "language": "python",
   "name": "python3"
  },
  "language_info": {
   "codemirror_mode": {
    "name": "ipython",
    "version": 2
   },
   "file_extension": ".py",
   "mimetype": "text/x-python",
   "name": "python",
   "nbconvert_exporter": "python",
   "pygments_lexer": "ipython2",
   "version": "2.7.6"
  }
 },
 "nbformat": 4,
 "nbformat_minor": 0
}
