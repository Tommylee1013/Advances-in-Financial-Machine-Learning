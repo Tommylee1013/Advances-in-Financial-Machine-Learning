{
 "cells": [
  {
   "cell_type": "code",
   "execution_count": 1,
   "metadata": {
    "collapsed": true,
    "colab": {
     "base_uri": "https://localhost:8080/"
    },
    "id": "nY8UjCqv3Gyz",
    "outputId": "1388d3d8-0cf2-45cb-9672-be6599cc1df8",
    "ExecuteTime": {
     "end_time": "2023-05-30T06:05:27.985602Z",
     "start_time": "2023-05-30T06:05:26.763399Z"
    }
   },
   "outputs": [],
   "source": [
    "import numpy as np, pandas as pd, matplotlib.pyplot as plt\n",
    "import seaborn as sns\n",
    "import FinancialMachineLearning as fml"
   ]
  },
  {
   "cell_type": "markdown",
   "source": [
    "### Chapter 9. Hyper-Parameter Tuning with Cross-Validation\n",
    "#### Exercise 1\n",
    "8장의 `getTestData` 함수를 사용해 10개의 특성을 가진 10,000개의 관측값을 생성하라. 이 중 5개는 정보성, 5개는 잡음이다"
   ],
   "metadata": {
    "collapsed": false,
    "id": "ZkFFaqtp3Gy3"
   }
  },
  {
   "cell_type": "code",
   "execution_count": 2,
   "outputs": [],
   "source": [
    "X, y = fml.getTestData(n_features = 10, n_informative = 5, n_redundant = 0, n_samples = 3000)"
   ],
   "metadata": {
    "id": "WK76tOFZ3Gy5",
    "ExecuteTime": {
     "end_time": "2023-05-30T06:05:28.071337Z",
     "start_time": "2023-05-30T06:05:27.989104Z"
    }
   }
  },
  {
   "cell_type": "markdown",
   "source": [
    "**(a)** `GridSearchCV`를 10겹 CV를 사용해 RBF 커널을 가지고 있는 SVC의 최적 Hyper Parameter C, gamma를 찾아라, 여기서 param_grid = {'C' : [1E-2, 1E-1, 1, 10, 100], 'gamma' : [1E-2, 1E-1, 1, 10, 100]}이고, scoring은 neg_log_loss이다."
   ],
   "metadata": {
    "collapsed": false,
    "id": "wn-D3wGB3Gy6"
   }
  },
  {
   "cell_type": "code",
   "execution_count": 3,
   "outputs": [],
   "source": [
    "from sklearn.svm import SVC\n",
    "\n",
    "clf = SVC(kernel = 'rbf', probability = True)\n",
    "param_grid = {'C' : [0.01, 0.1, 1, 10, 100], 'gamma' : [0.01, 0.1, 1, 10, 100]}"
   ],
   "metadata": {
    "id": "KXexVy353Gy6",
    "ExecuteTime": {
     "end_time": "2023-05-30T06:05:28.074525Z",
     "start_time": "2023-05-30T06:05:28.072906Z"
    }
   }
  },
  {
   "cell_type": "code",
   "source": [
    "from sklearn.model_selection import GridSearchCV, RandomizedSearchCV\n",
    "import time\n",
    "start = time.time()\n",
    "gridSearch = GridSearchCV(estimator = clf, param_grid = param_grid, scoring = 'neg_log_loss', n_jobs = -1, cv = 10)\n",
    "gridSearch.fit(X, y['bin'], sample_weight = y['w'])\n",
    "end = time.time()\n",
    "\n",
    "print('Calculating time : %.5f second' %(end - start))"
   ],
   "metadata": {
    "colab": {
     "base_uri": "https://localhost:8080/"
    },
    "id": "q0poPLOb4NmX",
    "outputId": "e9dad4ac-8044-48f1-bbf6-73bf853a830a",
    "ExecuteTime": {
     "end_time": "2023-05-30T06:07:25.043587Z",
     "start_time": "2023-05-30T06:05:28.077170Z"
    }
   },
   "execution_count": 4,
   "outputs": [
    {
     "name": "stdout",
     "output_type": "stream",
     "text": [
      "Calculating time : 116.94082 second\n"
     ]
    }
   ]
  },
  {
   "cell_type": "markdown",
   "source": [
    "**(b)** Grid에 노드는 몇 개 있는가?"
   ],
   "metadata": {
    "id": "81xTT5nf8BPb"
   }
  },
  {
   "cell_type": "code",
   "source": [
    "from sklearn.model_selection import ParameterGrid\n",
    "grid = ParameterGrid(param_grid)\n",
    "num = 0\n",
    "for i in grid : num += 1\n",
    "\n",
    "print(num)"
   ],
   "metadata": {
    "colab": {
     "base_uri": "https://localhost:8080/"
    },
    "id": "bCoRvVay7wUg",
    "outputId": "14cccc9d-84b7-446b-f6ff-9ee00064350e",
    "ExecuteTime": {
     "end_time": "2023-05-30T06:07:25.049298Z",
     "start_time": "2023-05-30T06:07:25.039842Z"
    }
   },
   "execution_count": 5,
   "outputs": [
    {
     "name": "stdout",
     "output_type": "stream",
     "text": [
      "25\n"
     ]
    }
   ]
  },
  {
   "cell_type": "markdown",
   "source": [
    "**(c)** 최적해를 찾으려면 몇 번의 적합화가 필요한가?\n",
    "\n",
    "25번의 적합화 과정이 필요하다"
   ],
   "metadata": {
    "id": "GSzsxrbS8SKA"
   }
  },
  {
   "cell_type": "markdown",
   "source": [
    "**(d)** 이 해법을 찾는 데 걸린 시간은 얼마인가?\n",
    "\n",
    "- Calculating time : 6305.15831 second\n",
    "\n",
    "Google Colab Pro기준, 6305초가 걸렸다. 즉, 1시간 5분 정도가 걸렸다"
   ],
   "metadata": {
    "id": "2wGjE_wX8Xze"
   }
  },
  {
   "cell_type": "markdown",
   "source": [
    "**(e)** 최적 결과는 어떻게 얻을 수 있는가?"
   ],
   "metadata": {
    "id": "pCe3Io2z8iPZ"
   }
  },
  {
   "cell_type": "code",
   "source": [
    "gridSearch.best_params_"
   ],
   "metadata": {
    "colab": {
     "base_uri": "https://localhost:8080/"
    },
    "id": "DZXOopxS8l6n",
    "outputId": "b3f01fa9-aa6e-4326-b7b8-bffd6f3f592d",
    "ExecuteTime": {
     "end_time": "2023-05-30T06:07:25.061334Z",
     "start_time": "2023-05-30T06:07:25.047599Z"
    }
   },
   "execution_count": 6,
   "outputs": [
    {
     "data": {
      "text/plain": "{'C': 100, 'gamma': 0.1}"
     },
     "execution_count": 6,
     "metadata": {},
     "output_type": "execute_result"
    }
   ]
  },
  {
   "cell_type": "markdown",
   "source": [
    "**(f)** 최적 Parameter 조합의 교차 검증 점수는 얼마인가?"
   ],
   "metadata": {
    "id": "YbKCo2xneG7o"
   }
  },
  {
   "cell_type": "code",
   "source": [
    "gridSearch.best_score_"
   ],
   "metadata": {
    "colab": {
     "base_uri": "https://localhost:8080/"
    },
    "id": "ftFDLQTXY2HL",
    "outputId": "3d0758ed-3b23-4f1e-fa1c-24d46ea18719",
    "ExecuteTime": {
     "end_time": "2023-05-30T06:07:25.290672Z",
     "start_time": "2023-05-30T06:07:25.060617Z"
    }
   },
   "execution_count": 7,
   "outputs": [
    {
     "data": {
      "text/plain": "-0.26197533367302467"
     },
     "execution_count": 7,
     "metadata": {},
     "output_type": "execute_result"
    }
   ]
  },
  {
   "cell_type": "markdown",
   "source": [
    "**(g)** SVC에 Sample Weights를 전달하는 방법은 무엇인가?\n",
    "\n",
    "적합화 과정에서 sample weight의 pandas.Series형태의 column을 추가해주면 된다"
   ],
   "metadata": {
    "id": "PgRt8xwMeLpQ"
   }
  },
  {
   "cell_type": "markdown",
   "source": [
    "#### Exercise 2\n",
    "`RandomizedSearchCV`를 10겹 Cross Validation을 사용해 RBF 커널을 갖고 있는 SVC의 최적 Hyper Parameter `C`, `gamma`를 찾아라. 여기서 `param_distributions = {'C' : logUniform(a = 1e-2, b = 1e2), 'gamma' : logUniform(a = 1e-2, b = 1e2)}, n_iter = 25`이고, scoring function은 `neg_log_loss`다"
   ],
   "metadata": {
    "id": "08nmbxViY6zK"
   }
  },
  {
   "cell_type": "code",
   "source": [
    "clf = SVC(kernel = 'rbf', probability = True)\n",
    "param_distributions = {'C' : fml.logUniform(a = 1e-2, b = 1e2), 'gamma': fml.logUniform(a = 1e-2, b = 1e2)}"
   ],
   "metadata": {
    "id": "SCu6y73DZnm-",
    "ExecuteTime": {
     "end_time": "2023-05-30T06:07:25.291708Z",
     "start_time": "2023-05-30T06:07:25.064751Z"
    }
   },
   "execution_count": 8,
   "outputs": []
  },
  {
   "cell_type": "code",
   "source": [
    "start = time.time()\n",
    "gs_rand = RandomizedSearchCV(estimator = clf, param_distributions = param_distributions, n_iter = 25, scoring = 'neg_log_loss', n_jobs = -1, cv = 10)\n",
    "gs_rand.fit(X, y['bin'], sample_weight = y['w'])\n",
    "end = time.time()\n",
    "\n",
    "print('Calculating time : %.5f second' %(end - start))"
   ],
   "metadata": {
    "id": "Umio6fT0aN5A",
    "ExecuteTime": {
     "end_time": "2023-05-30T06:09:29.938325Z",
     "start_time": "2023-05-30T06:07:25.076009Z"
    }
   },
   "execution_count": 9,
   "outputs": [
    {
     "name": "stdout",
     "output_type": "stream",
     "text": [
      "Calculating time : 124.84532 second\n"
     ]
    }
   ]
  },
  {
   "cell_type": "markdown",
   "source": [
    "**(b)** 이 해법을 찾는 데 걸린 시간은 얼마인가?\n",
    "\n",
    "- Calculating time : 6203.48227 second"
   ],
   "metadata": {
    "id": "cmoTwoWK_YpF"
   }
  },
  {
   "cell_type": "code",
   "source": [
    "print('Calculating time : %.5f second' %(end - start))"
   ],
   "metadata": {
    "colab": {
     "base_uri": "https://localhost:8080/"
    },
    "id": "3xaR0b1uaa_h",
    "outputId": "d9616b57-4801-453d-cf13-fcef8e68e90b",
    "ExecuteTime": {
     "end_time": "2023-05-30T06:09:29.951979Z",
     "start_time": "2023-05-30T06:09:29.937053Z"
    }
   },
   "execution_count": 10,
   "outputs": [
    {
     "name": "stdout",
     "output_type": "stream",
     "text": [
      "Calculating time : 124.84532 second\n"
     ]
    }
   ]
  },
  {
   "cell_type": "markdown",
   "source": [
    "**(c)** 최적의 parameter 조합이 Exercise 1에서 찾은 것과 유사한가?"
   ],
   "metadata": {
    "id": "VL722aC6_cQl"
   }
  },
  {
   "cell_type": "code",
   "source": [
    "gs_rand.best_params_"
   ],
   "metadata": {
    "colab": {
     "base_uri": "https://localhost:8080/"
    },
    "id": "tkpGGYCi_QmP",
    "outputId": "6a228b2a-cf7a-49c4-f6c4-68220203fbc1",
    "ExecuteTime": {
     "end_time": "2023-05-30T06:09:29.953266Z",
     "start_time": "2023-05-30T06:09:29.951328Z"
    }
   },
   "execution_count": 11,
   "outputs": [
    {
     "data": {
      "text/plain": "{'C': 85.28066300624138, 'gamma': 0.16256126238662402}"
     },
     "execution_count": 11,
     "metadata": {},
     "output_type": "execute_result"
    }
   ]
  },
  {
   "cell_type": "markdown",
   "source": [
    "**(d)** 최적 parameter 조합의 Cross Validation score는? Exercise 1의 Cross Validation 점수와 비교하면 어떠한가?"
   ],
   "metadata": {
    "id": "Rp2yaAU6_p5R"
   }
  },
  {
   "cell_type": "code",
   "source": [
    "gs_rand.best_score_"
   ],
   "metadata": {
    "colab": {
     "base_uri": "https://localhost:8080/"
    },
    "id": "3RIoXmsE_okJ",
    "outputId": "8e61f6d9-38c4-4795-e3cf-4be1ad8efbd8",
    "ExecuteTime": {
     "end_time": "2023-05-30T06:09:29.953653Z",
     "start_time": "2023-05-30T06:09:29.952253Z"
    }
   },
   "execution_count": 12,
   "outputs": [
    {
     "data": {
      "text/plain": "-0.28739751605596847"
     },
     "execution_count": 12,
     "metadata": {},
     "output_type": "execute_result"
    }
   ]
  },
  {
   "cell_type": "markdown",
   "source": [
    "Exercise 1에 비해서 점수가 더 높게 나왔다"
   ],
   "metadata": {
    "id": "UgeOLLDt_6z2"
   }
  },
  {
   "cell_type": "markdown",
   "source": [
    "#### Exercise 3\n",
    "Exercise 1으로부터\n",
    "\n",
    "**(a)** 1의 a로부터 샘플 내 예측 결과의 Sharpe Ratio를 계산하라"
   ],
   "metadata": {
    "id": "5Q4jVYgLABpV"
   }
  },
  {
   "cell_type": "code",
   "source": [
    "def get_IS_sharpe_ratio(clf) -> float:\n",
    "    best_estimator_ind = np.argmin(clf.cv_results_['rank_test_score'])\n",
    "    mean_score = clf.cv_results_['mean_test_score'][best_estimator_ind]\n",
    "    std_score = clf.cv_results_['std_test_score'][best_estimator_ind]\n",
    "    if mean_score < 0:\n",
    "        return -mean_score / std_score\n",
    "    else:\n",
    "        return mean_score / std_score"
   ],
   "metadata": {
    "id": "Guyy8XKI_25T",
    "ExecuteTime": {
     "end_time": "2023-05-30T06:09:29.953918Z",
     "start_time": "2023-05-30T06:09:29.952795Z"
    }
   },
   "execution_count": 13,
   "outputs": []
  },
  {
   "cell_type": "code",
   "source": [
    "print(f'Sharpe ratio: {get_IS_sharpe_ratio(gridSearch)}')"
   ],
   "metadata": {
    "colab": {
     "base_uri": "https://localhost:8080/"
    },
    "id": "v5sqLxYJtX0j",
    "outputId": "c04228eb-355a-4332-b991-be5125963a9a",
    "ExecuteTime": {
     "end_time": "2023-05-30T06:09:29.954236Z",
     "start_time": "2023-05-30T06:09:29.953446Z"
    }
   },
   "execution_count": 14,
   "outputs": [
    {
     "name": "stdout",
     "output_type": "stream",
     "text": [
      "Sharpe ratio: 1.3672823120162692\n"
     ]
    }
   ]
  },
  {
   "cell_type": "markdown",
   "source": [
    "**(b)** 1의 a를 반복하라. 이번에는 scoring function으로 `accuracy`를 사용하라. Tuning된 Hyper Parameter로부터 도출된 샘플 내 예측을 계산해 보라"
   ],
   "metadata": {
    "id": "bV_cS5qJtppP"
   }
  },
  {
   "cell_type": "code",
   "source": [
    "clf = SVC(kernel = 'rbf', probability = True)\n",
    "param_grid = {'C' : [0.01, 0.1, 1, 10, 100], 'gamma' : [0.01, 0.1, 1, 10, 100]}\n",
    "\n",
    "start = time.time()\n",
    "gridSearch_acc = GridSearchCV(estimator = clf, param_grid = param_grid, scoring = 'accuracy', n_jobs = -1, cv = 10)\n",
    "gridSearch_acc.fit(X, y['bin'], sample_weight = y['w'])\n",
    "end = time.time()\n",
    "\n",
    "print('Calculating time : %.5f second' %(end - start))"
   ],
   "metadata": {
    "id": "R_ZFBA3btmv3",
    "ExecuteTime": {
     "end_time": "2023-05-30T06:11:24.412766Z",
     "start_time": "2023-05-30T06:09:29.955033Z"
    }
   },
   "execution_count": 15,
   "outputs": [
    {
     "name": "stdout",
     "output_type": "stream",
     "text": [
      "Calculating time : 114.44554 second\n"
     ]
    }
   ]
  },
  {
   "cell_type": "code",
   "execution_count": 18,
   "outputs": [
    {
     "name": "stdout",
     "output_type": "stream",
     "text": [
      "Sharpe ratio: 10.400804836898782\n"
     ]
    }
   ],
   "source": [
    "print(f'Sharpe ratio: {get_IS_sharpe_ratio(gridSearch_acc)}')"
   ],
   "metadata": {
    "collapsed": false,
    "ExecuteTime": {
     "end_time": "2023-05-30T06:14:19.973446Z",
     "start_time": "2023-05-30T06:14:19.962299Z"
    }
   }
  },
  {
   "cell_type": "markdown",
   "source": [
    "**(c)** 어느 Scoring Function을 사용하였을 때 더 높은 Sharpe Ratio가 나타나는가?\n",
    "\n",
    "Accuracy를 사용하였을 때 월등히 높게 나온다"
   ],
   "metadata": {
    "id": "snQQatLnt2vM"
   }
  },
  {
   "cell_type": "markdown",
   "source": [
    "#### Exercise 4\n",
    "Exercise 2로부터\n",
    "\n",
    "**(a)** 2의 a로부터 샘플 내 예측의 Sharpe Ratio를 계산하라"
   ],
   "metadata": {
    "id": "Dznlt1Gft-Ly"
   }
  },
  {
   "cell_type": "code",
   "source": [
    "print(f'Sharpe ratio: {get_IS_sharpe_ratio(gs_rand)}')"
   ],
   "metadata": {
    "colab": {
     "base_uri": "https://localhost:8080/"
    },
    "id": "ULmpRL4st9Gl",
    "outputId": "8ab7a15e-986e-41af-bb15-709be8036e5f",
    "ExecuteTime": {
     "end_time": "2023-05-30T06:11:24.421044Z",
     "start_time": "2023-05-30T06:11:24.415663Z"
    }
   },
   "execution_count": 16,
   "outputs": [
    {
     "name": "stdout",
     "output_type": "stream",
     "text": [
      "Sharpe ratio: 1.4450359056549207\n"
     ]
    }
   ]
  },
  {
   "cell_type": "markdown",
   "source": [
    "**(b)** 2의 a를 반복하라. 이번에는 Scoring Function으로 `accuracy`를 사용하라. Tuning된 Hyper Parameter로부터 도출된 샘플 내 에측을 계산해 보라"
   ],
   "metadata": {
    "id": "J7dM7oOst9ev"
   }
  },
  {
   "cell_type": "code",
   "source": [
    "clf = SVC(kernel = 'rbf', probability = True)\n",
    "param_distributions = {'C' : fml.logUniform(a = 1e-2, b = 1e2), 'gamma': fml.logUniform(a = 1e-2, b = 1e2)}\n",
    "\n",
    "start = time.time()\n",
    "gs_rand_acc = RandomizedSearchCV(estimator = clf, param_distributions = param_distributions, n_iter = 25, scoring = 'accuracy', n_jobs = -1, cv = 10)\n",
    "gs_rand_acc.fit(X, y['bin'], sample_weight = y['w'])\n",
    "end = time.time()\n",
    "\n",
    "print('Calculating time : %.5f second' %(end - start))"
   ],
   "metadata": {
    "id": "FMigWI8puYfJ",
    "ExecuteTime": {
     "end_time": "2023-05-30T06:13:23.840413Z",
     "start_time": "2023-05-30T06:11:24.432421Z"
    }
   },
   "execution_count": 17,
   "outputs": [
    {
     "name": "stdout",
     "output_type": "stream",
     "text": [
      "Calculating time : 119.40575 second\n"
     ]
    }
   ]
  },
  {
   "cell_type": "code",
   "execution_count": 19,
   "outputs": [
    {
     "name": "stdout",
     "output_type": "stream",
     "text": [
      "Sharpe ratio: 9.870073646705027\n"
     ]
    }
   ],
   "source": [
    "print(f'Sharpe ratio: {get_IS_sharpe_ratio(gs_rand_acc)}')"
   ],
   "metadata": {
    "collapsed": false,
    "ExecuteTime": {
     "end_time": "2023-05-30T06:15:06.436679Z",
     "start_time": "2023-05-30T06:15:06.428480Z"
    }
   }
  },
  {
   "cell_type": "markdown",
   "source": [
    "**(c)** 어느 Scoring Function을 사용하였을 때 더 높은 Sharpe Ratio가 나타나는가?\n",
    "\n",
    "Accuracy를 사용하였을 때 월등히 높게 나타난다"
   ],
   "metadata": {
    "id": "JsHAzlwquY84"
   }
  },
  {
   "cell_type": "markdown",
   "source": [
    "#### Exercise 5\n",
    "log loss function, $L[Y,P]$의 정의를 읽어 보라\n",
    "\n",
    "**(a)** `neg_log_loss`가 음수 로그 손실인 $-L[Y,P]$로 정의된 이유는 무엇인가?\n",
    "\n",
    "정확도는 높은 확률로 잘못된 매수 예측을 한 경우와 낮은 확률로 잘못 매수 예측을 한 경우를 동일하게 취급한다. 게다가 정확도는 높은 확률의 실수와 낮은 확률의 성공을 서로 상쇄시켜 버릴 수 있다. `neg_log_loss`를 사용하면 분류된 확률을 확인할 수 있다. 음수 로그를 쓰는 이유는 직관적으로 보기 좋게 하기 위함이 가장 큰 이유이다\n",
    "\n",
    "\n",
    "**(b)** 음수 로그 손실이 아니라 로그 손실을 최대화하면 어떤 결과가 도출되는가?\n",
    "\n",
    "로그 손실을 최대화하도록 설정하면 잘못된 방향으로 학습이 될 것이다. 손실함수가 커지는 지점을 목적으로 두기 때문이다"
   ],
   "metadata": {
    "id": "qdNJ9E4Duhtx"
   }
  },
  {
   "cell_type": "markdown",
   "source": [
    "#### Exercise 6\n",
    "예측의 신뢰도와 무관하게 동일한 크기로 베팅하는 투자 전략을 고려해 보자. 이 경우 Hyper Parameter Tuning을 위해서는 Accuracy와 Cross Entropy 손실 중 어느 것이 Scoring Function으로서 더 적절한가?"
   ],
   "metadata": {
    "id": "BIoGKmqHu2Su"
   }
  }
 ],
 "metadata": {
  "kernelspec": {
   "display_name": "Python 3",
   "language": "python",
   "name": "python3"
  },
  "language_info": {
   "codemirror_mode": {
    "name": "ipython",
    "version": 2
   },
   "file_extension": ".py",
   "mimetype": "text/x-python",
   "name": "python",
   "nbconvert_exporter": "python",
   "pygments_lexer": "ipython2",
   "version": "2.7.6"
  },
  "colab": {
   "provenance": []
  }
 },
 "nbformat": 4,
 "nbformat_minor": 0
}
