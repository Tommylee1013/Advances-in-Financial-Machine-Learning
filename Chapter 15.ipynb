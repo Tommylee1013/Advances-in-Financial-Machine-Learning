{
 "cells": [
  {
   "cell_type": "code",
   "execution_count": 1,
   "metadata": {
    "collapsed": true,
    "ExecuteTime": {
     "start_time": "2023-06-07T00:29:23.974348Z",
     "end_time": "2023-06-07T00:29:25.269020Z"
    }
   },
   "outputs": [],
   "source": [
    "import numpy as np, pandas as pd, matplotlib.pyplot as plt\n",
    "import seaborn as sns\n",
    "import FinancialMachineLearning as fml"
   ]
  },
  {
   "cell_type": "markdown",
   "source": [
    "### Chapter 15. Understanding Strategy Risk\n",
    "\n",
    "#### Exercise 1\n",
    "포트폴리오 매니저가 연환산 SR이 2가 되는 목표를 달성할 수 있는 전략을 실행하고자 한다. 베팅은 Precision이 60%이고, 주별 빈도를 가지고 있다. 청산 조건은 이익 실현이 2%, 손절이 -2%이다\n",
    "\n",
    "**(a)** 전략이 생존 가능한가?"
   ],
   "metadata": {
    "collapsed": false
   }
  },
  {
   "cell_type": "code",
   "execution_count": 3,
   "outputs": [],
   "source": [
    "def runSRtrials(p, pt = 1, sl = 1, trials = 100000):\n",
    "    out = []\n",
    "    for i in range(trials):\n",
    "        rnd = np.random.binomial(n = 1, p = p)\n",
    "        x = (pt if rnd == 1 else -sl)\n",
    "        out.append(x)\n",
    "    return np.mean(out) / np.std(out)"
   ],
   "metadata": {
    "collapsed": false,
    "ExecuteTime": {
     "start_time": "2023-06-07T00:31:55.279150Z",
     "end_time": "2023-06-07T00:31:55.287312Z"
    }
   }
  },
  {
   "cell_type": "code",
   "execution_count": 11,
   "outputs": [
    {
     "name": "stdout",
     "output_type": "stream",
     "text": [
      "expected annualized Sharpe Ratio :  1.47533385061743\n"
     ]
    }
   ],
   "source": [
    "p = 0.6\n",
    "freq = 52 # weekly freq\n",
    "sharpe_ratio = runSRtrials(p, trials = 100000)\n",
    "print('expected annualized Sharpe Ratio : ', np.sqrt(freq) * sharpe_ratio)"
   ],
   "metadata": {
    "collapsed": false,
    "ExecuteTime": {
     "start_time": "2023-06-07T00:34:09.630126Z",
     "end_time": "2023-06-07T00:34:09.751454Z"
    }
   }
  },
  {
   "cell_type": "markdown",
   "source": [
    "기대되는 연간 Sharpe Ratio는 약 1.475이므로 이 전략은 생존이 불가능하다"
   ],
   "metadata": {
    "collapsed": false
   }
  },
  {
   "cell_type": "markdown",
   "source": [
    "**(b)** *Ceteris paribus*, 전략이 수익을 내는 데 필요한 정밀도는 무엇인가?"
   ],
   "metadata": {
    "collapsed": false
   }
  },
  {
   "cell_type": "code",
   "execution_count": 12,
   "outputs": [
    {
     "name": "stdout",
     "output_type": "stream",
     "text": [
      "전략이 수익을 내는 데 필요한 정밀도는 약 0.642\n"
     ]
    }
   ],
   "source": [
    "for p_ in np.linspace(0.55, 1.0, 50):\n",
    "    sr = runSRtrials(p_, trials=100000)\n",
    "    if np.sqrt(freq) * sr > 2:\n",
    "        break\n",
    "\n",
    "print(\"전략이 수익을 내는 데 필요한 정밀도는 약 %.3f\" %p_ )\n"
   ],
   "metadata": {
    "collapsed": false,
    "ExecuteTime": {
     "start_time": "2023-06-07T00:36:29.362513Z",
     "end_time": "2023-06-07T00:36:30.435819Z"
    }
   }
  },
  {
   "cell_type": "markdown",
   "source": [
    "**(c)** 베팅 빈도가 어떻게 되어야 목표를 달성할 수 있는가?"
   ],
   "metadata": {
    "collapsed": false
   }
  },
  {
   "cell_type": "code",
   "execution_count": 15,
   "outputs": [
    {
     "name": "stdout",
     "output_type": "stream",
     "text": [
      "목표 달성을 위해 필요한 베팅 빈도수는 약 95.561 이다\n"
     ]
    }
   ],
   "source": [
    "sr = runSRtrials(p, trials = 1000000)\n",
    "target_sr = 2\n",
    "freq_ = (target_sr / sharpe_ratio) ** 2\n",
    "print(\"목표 달성을 위해 필요한 베팅 빈도수는 약 %.3f 이다\" % freq_)\n"
   ],
   "metadata": {
    "collapsed": false,
    "ExecuteTime": {
     "start_time": "2023-06-07T00:39:36.384752Z",
     "end_time": "2023-06-07T00:39:37.650442Z"
    }
   }
  },
  {
   "cell_type": "markdown",
   "source": [
    "**(d)** 이익 실현 임계값을 어떻게 설정해야 목표를 달성할 수 있는가?"
   ],
   "metadata": {
    "collapsed": false
   }
  },
  {
   "cell_type": "code",
   "execution_count": 19,
   "outputs": [
    {
     "name": "stdout",
     "output_type": "stream",
     "text": [
      "목표 달성을 위한 이익 실현 임계값은 2.31% 이다\n"
     ]
    }
   ],
   "source": [
    "pt = 2\n",
    "sl = 2\n",
    "for pt_ in np.linspace(2, 4, 200):\n",
    "    sr = runSRtrials(p, pt_, sl, 100000)\n",
    "    if np.sqrt(freq) * sr > 2:\n",
    "        break\n",
    "\n",
    "print(\"목표 달성을 위한 이익 실현 임계값은 {:.2f}% 이다\".format(pt_))\n"
   ],
   "metadata": {
    "collapsed": false,
    "ExecuteTime": {
     "start_time": "2023-06-07T00:42:32.919422Z",
     "end_time": "2023-06-07T00:42:36.161035Z"
    }
   }
  },
  {
   "cell_type": "markdown",
   "source": [
    "**(e)** 대안으로 제시할 수 있는 손절은 무엇인가?"
   ],
   "metadata": {
    "collapsed": false
   }
  },
  {
   "cell_type": "code",
   "execution_count": 20,
   "outputs": [
    {
     "name": "stdout",
     "output_type": "stream",
     "text": [
      "대안으로 제시할 수 있는 손절 한도는 1.72%이다\n"
     ]
    }
   ],
   "source": [
    "for sl_ in np.linspace(2, 1, 200):\n",
    "    sr = runSRtrials(p, pt, sl_, 100000)\n",
    "    if np.sqrt(freq) * sr > 2:\n",
    "        break\n",
    "\n",
    "print(\"대안으로 제시할 수 있는 손절 한도는 {:.2f}%이다\".format(sl_))"
   ],
   "metadata": {
    "collapsed": false,
    "ExecuteTime": {
     "start_time": "2023-06-07T00:45:34.512149Z",
     "end_time": "2023-06-07T00:45:40.304735Z"
    }
   }
  },
  {
   "cell_type": "markdown",
   "source": [
    "#### Exercise 2\n",
    "\n",
    "Exercise 1의 전략을 따라하자\n",
    "\n",
    "**(a)** 각 Parameter가 1% 변화함에 따라 Sharpe Ratio의 민감도는 어떻게 되는가?"
   ],
   "metadata": {
    "collapsed": false
   }
  },
  {
   "cell_type": "code",
   "execution_count": 22,
   "outputs": [
    {
     "name": "stdout",
     "output_type": "stream",
     "text": [
      "freq 0.007627802647306503\n",
      "p    0.011440997654399567\n",
      "pt   0.008156628532445743\n",
      "sl   0.005118416694772794\n"
     ]
    }
   ],
   "source": [
    "p = 0.55\n",
    "pt = 2\n",
    "sl = 2\n",
    "freq = 52\n",
    "\n",
    "def jiggle(v):\n",
    "    return [v * 0.99, v, v * 1.01]\n",
    "\n",
    "print('freq', pd.Series([np.sqrt(freq_) * runSRtrials(p, pt, sl, 10000000) for freq_ in jiggle(freq)]).pct_change().std())\n",
    "print('p', pd.Series([np.sqrt(freq) * runSRtrials(p_, pt, sl, 10000000) for p_ in jiggle(p)]).pct_change().std())\n",
    "print('pt', pd.Series([np.sqrt(freq) * runSRtrials(p, pt_, sl, 10000000) for pt_ in jiggle(pt)]).pct_change().std())\n",
    "print('sl', pd.Series([np.sqrt(freq) * runSRtrials(p, pt, sl_, 10000000) for sl_ in jiggle(sl)]).pct_change().std())\n"
   ],
   "metadata": {
    "collapsed": false,
    "ExecuteTime": {
     "start_time": "2023-06-07T01:04:25.377147Z",
     "end_time": "2023-06-07T01:06:27.465851Z"
    }
   }
  },
  {
   "cell_type": "markdown",
   "source": [
    "Sharpe Ratio는 정밀도의 변화에 가장 민감하다"
   ],
   "metadata": {
    "collapsed": false
   }
  },
  {
   "cell_type": "markdown",
   "source": [
    "**(b)** 주어진 민감도에 대해 모든 Parameter가 더 개선하기 힘들다는 가정하에 어느 것이 가장 쉽게 달성할 수 있겠는가?\n",
    "\n",
    "Precision"
   ],
   "metadata": {
    "collapsed": false
   }
  },
  {
   "cell_type": "markdown",
   "source": [
    "**(c)** Exercise 1에 하나의 Parameter라도 변하면 나머지에 영향을 미치는가? 예를 들어, 베팅 빈도를 수정하면 Precision 등이 변화하는가?\n",
    "\n",
    "이 실험에서 모든 요인은 독립적이라고 가정하였기에 영향이 그렇게 크지는 않을 것이다. 다만 현실에서는 베팅 빈도 혹은 기타 parameter를 Precision에 영향을 미칠 가능성이 매우 높다"
   ],
   "metadata": {
    "collapsed": false
   }
  },
  {
   "cell_type": "markdown",
   "source": [
    "#### Exercise 3\n",
    "\n",
    "2년간 두 가우시안 분포의 혼합을 따르는 수익률을 가진 월별 베팅을 생성하는 전략이 있다고 가정해 보자. 첫 번째 분포의 평균은 -0.1, 표준 편차는 0.12이다. 두 번째 분포의 평균은 0.06, 표준 편차는 0.03이다. 첫 번째 분포로부터 추출될 확률은 0.15이다\n",
    "\n",
    "**(a)** Lopez de Prado, Peijan과 Lopez de Foreman을 따라 혼합 수익률의 처음 4대의 모멘트를 유도하라"
   ],
   "metadata": {
    "collapsed": false
   }
  },
  {
   "cell_type": "code",
   "execution_count": 23,
   "outputs": [],
   "source": [
    "import numpy as np, scipy.stats as ss\n",
    "\n",
    "def binHR(sl, pt, freq, tSR):\n",
    "    a = (freq + tSR ** 2) * (pt - sl) ** 2\n",
    "    b = (2 * freq * sl - tSR ** 2 * (pt - sl)) * (pt - sl)\n",
    "    c = freq * sl ** 2\n",
    "    p = (-b + (b ** 2 - 4 * a * c) ** 0.5) / (2.0 * a)\n",
    "    return p\n",
    "\n",
    "def binFreq(sl, pt, p, tSR):\n",
    "    freq = (tSR * (pt - sl)) ** 2 * p * (1 - p) / ((pt - sl) * p + sl) ** 2\n",
    "    if not np.isclose(binSR(sl, pt, freq, p), tSR):\n",
    "        return\n",
    "    return freq\n",
    "\n",
    "def mixGaussians(mu1, mu2, sigma1, sigma2, prob1, nObs) :\n",
    "    ret1 = np.random.normal(mu1, sigma1, size = int(nObs * prob1))\n",
    "    ret2 = np.random.normal(mu2, sigma2, size = int(nObs) - ret1.shape[0])\n",
    "    ret = np.append(ret1, ret2, axis = 0)\n",
    "    np.random.shuffle(ret)\n",
    "    return ret\n",
    "\n",
    "def probFailure(ret, freq, tSR) :\n",
    "    rPos, rNeg = ret[ret>0].mean(), ret[ret<=0].mean()\n",
    "    p = ret[ret>0].shape[0] / float(ret.shape[0])\n",
    "    thresP = binHR(rNeg, rPos, freq, tSR)\n",
    "    risk = ss.norm.cdf(thresP, p, p * (1 - p))\n",
    "    return risk"
   ],
   "metadata": {
    "collapsed": false,
    "ExecuteTime": {
     "start_time": "2023-06-07T01:34:15.823310Z",
     "end_time": "2023-06-07T01:34:15.831188Z"
    }
   }
  },
  {
   "cell_type": "code",
   "execution_count": 38,
   "outputs": [],
   "source": [
    "from scipy.stats import norm, kurtosis\n",
    "from scipy.stats import skew\n",
    "\n",
    "def main() :\n",
    "    mu1, mu2, sigma1, sigma2, prob1, nObs = -0.1, 0.06, 0.12, 0.03, 0.15, 100000\n",
    "    tSR, freq = 2, 260\n",
    "    ret = mixGaussians(mu1, mu2, sigma1, sigma2, prob1, nObs)\n",
    "    mean, std, ske, kurt = np.mean(ret), np.std(ret), skew(ret), kurtosis(ret)\n",
    "    print(\"1st moments: {0}\\n2nd moments: {1}\\n3rd moments: {2}\\n4th moments: {3}\\n\".format(mean, std, ske, kurt))\n",
    "\n",
    "    probF = probFailure(ret, freq, tSR)\n",
    "    print('Prob Strategy will fail', probF)\n",
    "    return ret"
   ],
   "metadata": {
    "collapsed": false,
    "ExecuteTime": {
     "start_time": "2023-06-07T01:50:07.611874Z",
     "end_time": "2023-06-07T01:50:07.616085Z"
    }
   }
  },
  {
   "cell_type": "code",
   "execution_count": 39,
   "outputs": [
    {
     "name": "stdout",
     "output_type": "stream",
     "text": [
      "1st moments: 0.03604829010466006\n",
      "2nd moments: 0.07849512004625821\n",
      "3rd moments: -2.4602643501637895\n",
      "4th moments: 7.245893748237533\n",
      "\n",
      "Prob Strategy will fail 0.1229246605282342\n"
     ]
    }
   ],
   "source": [
    "ret = main()"
   ],
   "metadata": {
    "collapsed": false,
    "ExecuteTime": {
     "start_time": "2023-06-07T01:50:12.882325Z",
     "end_time": "2023-06-07T01:50:12.922026Z"
    }
   }
  },
  {
   "cell_type": "markdown",
   "source": [
    "**(b)** Annualized Sharpe Ratio는 무엇인가?"
   ],
   "metadata": {
    "collapsed": false
   }
  },
  {
   "cell_type": "code",
   "execution_count": 41,
   "outputs": [
    {
     "name": "stdout",
     "output_type": "stream",
     "text": [
      "The annualized SR is 1.59\n"
     ]
    }
   ],
   "source": [
    "sr = np.mean(ret) / np.std(ret)\n",
    "asr = np.sqrt(12) * sr\n",
    "print(\"The annualized SR is {:.2f}\".format(asr))"
   ],
   "metadata": {
    "collapsed": false,
    "ExecuteTime": {
     "start_time": "2023-06-07T01:50:26.846221Z",
     "end_time": "2023-06-07T01:50:26.854465Z"
    }
   }
  },
  {
   "cell_type": "markdown",
   "source": [
    "**(c)** 이 moment들을 사용하여 PSR[1]을 계산하라. 95%의 신뢰수준에서 이 전략을 폐기하겠는가?"
   ],
   "metadata": {
    "collapsed": false
   }
  },
  {
   "cell_type": "code",
   "execution_count": 44,
   "outputs": [
    {
     "name": "stdout",
     "output_type": "stream",
     "text": [
      "The PSR is 1.0\n"
     ]
    }
   ],
   "source": [
    "def PSR(sharpe, T, skew, kurtosis, target_sharpe = 0):\n",
    "    value = (\n",
    "        (sharpe - target_sharpe)\n",
    "        * np.sqrt(T - 1)\n",
    "        / np.sqrt(1.0 - skew * sharpe + sharpe ** 2 * (kurtosis - 1) / 4.0)\n",
    "    )\n",
    "    psr = ss.norm.cdf(value, 0, 1)\n",
    "    return psr\n",
    "\n",
    "ret = pd.Series(ret)\n",
    "psr = PSR(sr, len(ret), ret.skew(), ret.kurtosis())\n",
    "print('The PSR is {}'.format(psr))"
   ],
   "metadata": {
    "collapsed": false,
    "ExecuteTime": {
     "start_time": "2023-06-07T01:55:29.516485Z",
     "end_time": "2023-06-07T01:55:29.536403Z"
    }
   }
  },
  {
   "cell_type": "markdown",
   "source": [
    "전략을 폐기하지 않는다"
   ],
   "metadata": {
    "collapsed": false
   }
  },
  {
   "cell_type": "markdown",
   "source": [
    "#### Exercise 4\n",
    "snippet 15.5를 사용해 Exercise 3에 설명한 전략에 대해 $P[p<p_{\\theta^* = 1}]$을 계산하라. 유의 수준 0.05에서 이 전략을 폐기하겠는가? 이 결과가 $\\mathbf{PSR}[\\theta^*]$와 일치하는가?"
   ],
   "metadata": {
    "collapsed": false
   }
  },
  {
   "cell_type": "code",
   "execution_count": 45,
   "outputs": [
    {
     "name": "stdout",
     "output_type": "stream",
     "text": [
      "추정된 전략의 실패 확률은 41.76%이다\n"
     ]
    }
   ],
   "source": [
    "mu1, mu2, sigma1, sigma2, prob1, nObs = -0.1, 0.06, 0.12, 0.03, 0.15, 100000\n",
    "tSR, freq = asr, 12\n",
    "ret = mixGaussians(mu1, mu2, sigma1, sigma2, prob1, nObs)\n",
    "probF = probFailure(ret, freq, tSR)\n",
    "print(\"추정된 전략의 실패 확률은 {:.2%}이다\".format(probF))"
   ],
   "metadata": {
    "collapsed": false,
    "ExecuteTime": {
     "start_time": "2023-06-07T02:03:22.523589Z",
     "end_time": "2023-06-07T02:03:22.545425Z"
    }
   }
  },
  {
   "cell_type": "markdown",
   "source": [
    "코드 15.5를 사용하여 추정한 결과 전략의 실패 확률은 41.76%이다. 유의수준 0.05를 훨씬 초과하므로 폐기해야 한다. 이 결과는 $\\mathbf{PSR}[\\theta^*]$와 일치하지 않는다"
   ],
   "metadata": {
    "collapsed": false
   }
  },
  {
   "cell_type": "markdown",
   "source": [
    "#### Exercise 5\n",
    "\n",
    "일반적으로 $\\mathbf{PSR}[\\theta^*]$이나 $P[p<p_{\\theta^* = 1}]$중 어느 결과가 더 정확하다고 기대하는가? 이 두 기법은 어떻게 서로 상호 보완적인가?\n",
    "\n",
    "사정에 따라 다를 것이다. PSR은 정규 분포 반환을 선호하는 경향이 있는데, 결과적으로 '너무 좋아서 또는 너무 나빠서 진정한 수익이 되지 않음'을 거부한다. 따라서, 제공된 BenchMark를 기반으로 한 척도로 가우스 분포의 모양을 따른다.\n",
    "\n",
    "이에 반해서 Strategy risk metric은 의도된 전략이 직면할 수 있는 risk/return을 결정하는 주요 요인에 초점을 맞춘다 ( 위 연습문제에서 Precision 1%가 변화할 때 Sharpe Ratio가 얼마나 변화하였는지를 상기하라)\n",
    "\n",
    "수익률에 대한 분포는 대부분 비대칭이 어느정도 있고 편의가 있는 경향이 있다. 두 추정치에 대해서 분포를 그린다면 다음과 같다"
   ],
   "metadata": {
    "collapsed": false
   }
  },
  {
   "cell_type": "code",
   "execution_count": 60,
   "outputs": [
    {
     "data": {
      "text/plain": "<Figure size 1200x800 with 1 Axes>",
      "image/png": "[encoded data removed]"
     },
     "metadata": {},
     "output_type": "display_data"
    }
   ],
   "source": [
    "psr_favor = np.random.normal(0, 2, 10000)\n",
    "strat_risk_favor = np.random.normal(2,1.5,10000)\n",
    "df = pd.DataFrame({'PSR Favor': psr_favor, 'SRM Favor': strat_risk_favor})\n",
    "df.plot(kind = 'kde', figsize = (12,8), grid = True)\n",
    "plt.axvline(x = 0, ls = '--', c = 'r')\n",
    "plt.show()"
   ],
   "metadata": {
    "collapsed": false,
    "ExecuteTime": {
     "start_time": "2023-06-07T02:18:40.219878Z",
     "end_time": "2023-06-07T02:18:40.716841Z"
    }
   }
  },
  {
   "cell_type": "markdown",
   "source": [
    "이 두 분포 사이에는 중복되는 영역이 있으므로, 두 metric 모두 상호적인 영역이 존재한다. 이와 같이, 두 기법은 서로 상호 보완적이라고 할 수 있다"
   ],
   "metadata": {
    "collapsed": false
   }
  }
 ],
 "metadata": {
  "kernelspec": {
   "display_name": "Python 3",
   "language": "python",
   "name": "python3"
  },
  "language_info": {
   "codemirror_mode": {
    "name": "ipython",
    "version": 2
   },
   "file_extension": ".py",
   "mimetype": "text/x-python",
   "name": "python",
   "nbconvert_exporter": "python",
   "pygments_lexer": "ipython2",
   "version": "2.7.6"
  }
 },
 "nbformat": 4,
 "nbformat_minor": 0
}
