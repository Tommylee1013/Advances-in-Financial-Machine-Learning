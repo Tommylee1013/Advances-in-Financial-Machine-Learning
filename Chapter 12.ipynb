{
 "cells": [
  {
   "cell_type": "markdown",
   "source": [
    "### Chapter 12. Backtesting through Cross-Validation\n",
    "\n",
    "#### Exercise 1\n",
    "선물 계약에 활용한 모멘텀 전략을 개발한다고 가정해 보자. 예측은 $\\mathrm{AR}(1)$ process에 바탕을 두고 있다. 이 전략은 $\\mathrm{WF}$방법을 사용해 Back test했고, Sharpe Ratio는 1.5였다. 거꾸로 뒤집은 게열에 대해 Back Test를 반복한 결과 Sharpe Ratio는 -1.5였다. 두 번째 결과를 무시할 수 있는 수학적 근거는 무엇인가?\n",
    "\n",
    "거꾸로 뒤집은 계열에서는 이미 이전 사건에 대한 정보가 가격에 반영되었기 때문에 충분히 무시할 수 있다. 같은 이유로 bi-directional LSTM모형이 사용되어서는 안되는 이유이기도 하다"
   ],
   "metadata": {
    "collapsed": false
   }
  },
  {
   "cell_type": "markdown",
   "source": [
    "#### Exercise 2\n",
    "\n",
    "선물 계약에 대해 평균 회귀 전략을 개발했다. WF 백테스트 결과의 샤프 비율은 1.5였고, 준비 기간을 증가시킨 후에 얻은 샤프 비율은 0.7이었다. 더 높은 샤프 비율만 결과를 발표하고 더 짧은 준비 시간을 가진 전략이 더 현실적이라고 주장한다면 이는 선택 편향인가?\n",
    "\n",
    "WF 백테스트의 높은 분산은 잘못된 발견으로 이어지는데, 그 이유는 여기서 볼 수 있듯이 연구자들이 예상 가능한 Sharpe Ratio 중에서 최대치를 선택할 것이기 때문이다. 따라서, 이는 다분히 선택 편향이라고 볼 수 있다\n"
   ],
   "metadata": {
    "collapsed": false
   }
  },
  {
   "cell_type": "markdown",
   "source": [
    "#### Exericse 3\n",
    "\n",
    "전략이 WF 백테스트에서 1.5의 샤프 비율을 얻었지만, CV 백테스트의 샤프 비율은 0.7이었다. 더 높은 샤프 비율만을 발표하고 WF 백테스트는 역사적으로 정확한 반면 CV 백테스트는 시나리오 시뮬레이션이나 추론 연습이라고 주장한다면 이는 선택 편향인가?\n",
    "\n",
    "선택 편향이라고 생각한다. 그 이유는 위의 문제에서의 이유와 동일하다"
   ],
   "metadata": {
    "collapsed": false
   }
  },
  {
   "cell_type": "markdown",
   "source": [
    "#### Exercise 4\n",
    "\n",
    "전략에 따라 일정 시간 동안 100,000개의 예측을 생성했다. 1,000개의 경로를 생성해 샤프 비율의 CPCV 분포를 도출하고자 한다. 이를 성취할 수 있는 Parameter $(N,k)$의 조합은 무엇인가?"
   ],
   "metadata": {
    "collapsed": false
   }
  },
  {
   "cell_type": "code",
   "execution_count": 1,
   "metadata": {
    "collapsed": true,
    "ExecuteTime": {
     "start_time": "2023-06-06T23:10:01.049607Z",
     "end_time": "2023-06-06T23:10:01.052256Z"
    }
   },
   "outputs": [],
   "source": [
    "from scipy.special import comb"
   ]
  },
  {
   "cell_type": "code",
   "execution_count": 3,
   "outputs": [
    {
     "name": "stdout",
     "output_type": "stream",
     "text": [
      "1001.0\n"
     ]
    }
   ],
   "source": [
    "N = 15; k = 5\n",
    "print(k/N * comb(N, N-k))"
   ],
   "metadata": {
    "collapsed": false,
    "ExecuteTime": {
     "start_time": "2023-06-06T23:10:38.520017Z",
     "end_time": "2023-06-06T23:10:38.522923Z"
    }
   }
  },
  {
   "cell_type": "code",
   "execution_count": 4,
   "outputs": [
    {
     "name": "stdout",
     "output_type": "stream",
     "text": [
      "{1, 1}\n",
      "{1, 2}\n",
      "{1, 3}\n",
      "{1, 4}\n",
      "{1, 5}\n",
      "{2, 1}\n",
      "{2, 2}\n",
      "{2, 3}\n",
      "{2, 4}\n",
      "{2, 5}\n",
      "{3, 1}\n",
      "{3, 2}\n",
      "{3, 3}\n",
      "{3, 4}\n",
      "{3, 5}\n",
      "{4, 1}\n",
      "{4, 2}\n",
      "{4, 3}\n",
      "{4, 4}\n",
      "{4, 5}\n",
      "{5, 1}\n",
      "{5, 2}\n",
      "{5, 3}\n",
      "{5, 4}\n",
      "{5, 5}\n",
      "{6, 1}\n",
      "{6, 2}\n",
      "{6, 3}\n",
      "{6, 4}\n",
      "{6, 5}\n",
      "{7, 1}\n",
      "{7, 2}\n",
      "{7, 3}\n",
      "{7, 4}\n",
      "{7, 5}\n",
      "{8, 1}\n",
      "{8, 2}\n",
      "{8, 3}\n",
      "{8, 4}\n",
      "{8, 5}\n",
      "{9, 1}\n",
      "{9, 2}\n",
      "{9, 3}\n",
      "{9, 4}\n",
      "{9, 5}\n",
      "{10, 1}\n",
      "{10, 2}\n",
      "{10, 3}\n",
      "{10, 4}\n",
      "{10, 5}\n",
      "{11, 1}\n",
      "{11, 2}\n",
      "{11, 3}\n",
      "{11, 4}\n",
      "{11, 5}\n",
      "{12, 1}\n",
      "{12, 2}\n",
      "{12, 3}\n",
      "{12, 4}\n",
      "{12, 5}\n",
      "{13, 1}\n",
      "{13, 2}\n",
      "{13, 3}\n",
      "{13, 4}\n",
      "{13, 5}\n",
      "{14, 1}\n",
      "{14, 2}\n",
      "{14, 3}\n",
      "{14, 4}\n",
      "{14, 5}\n",
      "{15, 1}\n",
      "{15, 2}\n",
      "{15, 3}\n",
      "{15, 4}\n",
      "{15, 5}\n"
     ]
    }
   ],
   "source": [
    "for i in range(1,16) :\n",
    "    for j in range(1,6) : print('{%d, %d}' % (i, j))"
   ],
   "metadata": {
    "collapsed": false,
    "ExecuteTime": {
     "start_time": "2023-06-06T23:11:52.999767Z",
     "end_time": "2023-06-06T23:11:53.011757Z"
    }
   }
  },
  {
   "cell_type": "markdown",
   "source": [
    "#### Exercise 5\n",
    "\n",
    "WF 백테스트에서 샤프 비율 1.5를 성취하는 전략을 발견했다. 그 후 이런 결과를 정당화하는 이론을 설명하는 논문을 작성하고 학술지에 제출했다. 편집자로부터 한 심사위원이 N=100과 k=2로 CPCV 방법을 사용해 백테스트를 반복하고, 코드와 전체 데이터셋을 요청했다는 응답이 왔다. 당신은 이 지시를 따랐으며, 평균 SR은 -1이고 표준 편차는 0.5였다. 당신은 몹시 화가 나서 응답 대신 제출 철회를 선택했고, 더 높은 영향력을 가진 다른 학술지에 제출했다. 6개월 후 논문이 채택됐다. 당신은 만약 이것이 거짓 발견이었더라도 CPCV 테스트를 요청하지 않은 학술지의 잘못이라고 스스로를 달래고 있다. 당신은 \"이것이 비윤리적인 행동일 수는 없어. 논문은 받아들여 졌고, 다들 이렇게 해\"라고 위안한다. 과학적이든 윤리적이든 이런 행동을 정당화할 수 있는 논리는 무엇인가?"
   ],
   "metadata": {
    "collapsed": false
   }
  }
 ],
 "metadata": {
  "kernelspec": {
   "display_name": "Python 3",
   "language": "python",
   "name": "python3"
  },
  "language_info": {
   "codemirror_mode": {
    "name": "ipython",
    "version": 2
   },
   "file_extension": ".py",
   "mimetype": "text/x-python",
   "name": "python",
   "nbconvert_exporter": "python",
   "pygments_lexer": "ipython2",
   "version": "2.7.6"
  }
 },
 "nbformat": 4,
 "nbformat_minor": 0
}
