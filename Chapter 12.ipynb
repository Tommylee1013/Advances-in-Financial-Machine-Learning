{
 "cells": [
  {
   "cell_type": "markdown",
   "source": [
    "### Chapter 12. Backtesting through Cross-Validation\n",
    "\n",
    "#### Exercise 1.\n",
    "선물 계약에 활용한 모멘텀 전략을 개발한다고 가정해 보자. 예측은 $\\mathrm{AR}(1)$ process에 바탕을 두고 있다. 이 전략은 $\\mathrm{WF}$방법을 사용해 Back test했고, Sharpe Ratio는 1.5였다. 거꾸로 뒤집은 게열에 대해 Back Test를 반복한 결과 Sharpe Ratio는 -1.5였다. 두 번째 결과를 무시할 수 있는 수학적 근거는 무엇인가?"
   ],
   "metadata": {
    "collapsed": false
   }
  },
  {
   "cell_type": "code",
   "execution_count": null,
   "metadata": {
    "collapsed": true
   },
   "outputs": [],
   "source": []
  }
 ],
 "metadata": {
  "kernelspec": {
   "display_name": "Python 3",
   "language": "python",
   "name": "python3"
  },
  "language_info": {
   "codemirror_mode": {
    "name": "ipython",
    "version": 2
   },
   "file_extension": ".py",
   "mimetype": "text/x-python",
   "name": "python",
   "nbconvert_exporter": "python",
   "pygments_lexer": "ipython2",
   "version": "2.7.6"
  }
 },
 "nbformat": 4,
 "nbformat_minor": 0
}
