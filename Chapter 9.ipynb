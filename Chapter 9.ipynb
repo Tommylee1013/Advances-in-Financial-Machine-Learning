{
 "cells": [
  {
   "cell_type": "code",
   "execution_count": 2,
   "metadata": {
    "collapsed": true,
    "ExecuteTime": {
     "start_time": "2023-05-24T00:47:18.146191Z",
     "end_time": "2023-05-24T00:47:52.689418Z"
    }
   },
   "outputs": [],
   "source": [
    "import numpy as np, pandas as pd, matplotlib.pyplot as plt\n",
    "import seaborn as sns\n",
    "import FinancialMachineLearning as fml"
   ]
  },
  {
   "cell_type": "markdown",
   "source": [
    "### Chapter 9. Hyper-Parameter Tuning with Cross-Validation\n",
    "#### Exercise 1\n",
    "8장의 `getTestData` 함수를 사용해 10개의 특성을 가진 10,000개의 관측값을 생성하라. 이 중 5개는 정보성, 5개는 잡음이다"
   ],
   "metadata": {
    "collapsed": false
   }
  },
  {
   "cell_type": "code",
   "execution_count": 3,
   "outputs": [],
   "source": [
    "X, y = fml.getTestData(n_features = 10, n_informative = 5, n_redundant = 0, n_samples = 10000)"
   ],
   "metadata": {
    "collapsed": false,
    "ExecuteTime": {
     "start_time": "2023-05-24T00:49:16.098616Z",
     "end_time": "2023-05-24T00:49:17.479865Z"
    }
   }
  },
  {
   "cell_type": "markdown",
   "source": [
    "**(a)** `GridSearchCV`를 10겹 CV를 사용해 RBF 커널을 가지고 있는 SVC의 최적 Hyper Parameter C, gamma를 찾아라, 여기서 param_grid = {'C' : [1E-2, 1E-1, 1, 10, 100], 'gamma' : [1E-2, 1E-1, 1, 10, 100]}이고, scoring은 neg_log_loss이다."
   ],
   "metadata": {
    "collapsed": false
   }
  },
  {
   "cell_type": "code",
   "execution_count": null,
   "outputs": [],
   "source": [],
   "metadata": {
    "collapsed": false
   }
  }
 ],
 "metadata": {
  "kernelspec": {
   "display_name": "Python 3",
   "language": "python",
   "name": "python3"
  },
  "language_info": {
   "codemirror_mode": {
    "name": "ipython",
    "version": 2
   },
   "file_extension": ".py",
   "mimetype": "text/x-python",
   "name": "python",
   "nbconvert_exporter": "python",
   "pygments_lexer": "ipython2",
   "version": "2.7.6"
  }
 },
 "nbformat": 4,
 "nbformat_minor": 0
}
