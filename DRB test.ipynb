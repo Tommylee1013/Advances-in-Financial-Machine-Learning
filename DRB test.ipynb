{
 "cells": [
  {
   "cell_type": "code",
   "execution_count": 1,
   "outputs": [],
   "source": [
    "import FinancialMachineLearning as fml\n",
    "import pandas as pd\n",
    "import numpy as np\n",
    "import seaborn as sns\n",
    "import matplotlib.pyplot as plt"
   ],
   "metadata": {
    "collapsed": false,
    "ExecuteTime": {
     "end_time": "2023-05-26T09:08:29.487405Z",
     "start_time": "2023-05-26T09:08:28.123712Z"
    }
   }
  },
  {
   "cell_type": "code",
   "execution_count": 2,
   "outputs": [
    {
     "name": "stdout",
     "output_type": "stream",
     "text": [
      "84.49995\n",
      "[33.74995 33.74995 33.74995 ... 30.85005 30.80005 30.85005]\n",
      "[1.32428199 1.32428199 1.32428199 ... 1.21049559 1.20853369 1.21049559]\n"
     ]
    },
    {
     "data": {
      "text/plain": "                      price     bid     ask      size         v            dv\n2009-09-28 09:30:00   50.75   50.70   50.79     369.0     369.0  1.871599e+04\n2009-09-28 09:31:32   50.75   50.75   50.76     100.0     100.0  5.075000e+03\n2009-09-28 09:31:33   50.75   50.72   50.75     100.0     100.0  5.075000e+03\n2009-09-28 09:31:50   50.75   50.73   50.76     300.0     300.0  1.522500e+04\n2009-09-28 09:31:51   50.75   50.74   50.76     300.0     300.0  1.522500e+04\n...                     ...     ...     ...       ...       ...           ...\n2018-02-26 15:59:59  115.35  115.34  115.36     412.5     412.5  4.758188e+04\n2018-02-26 16:00:00  115.35  115.34  115.35    5362.0    5362.0  6.185067e+05\n2018-02-26 16:10:00  115.35  115.22  115.58       0.0       0.0  0.000000e+00\n2018-02-26 16:16:14  115.30  114.72  115.62  778677.0  778677.0  8.978146e+07\n2018-02-26 18:30:00  115.35  114.72  117.38       0.0       0.0  0.000000e+00\n\n[941297 rows x 6 columns]",
      "text/html": "<div>\n<style scoped>\n    .dataframe tbody tr th:only-of-type {\n        vertical-align: middle;\n    }\n\n    .dataframe tbody tr th {\n        vertical-align: top;\n    }\n\n    .dataframe thead th {\n        text-align: right;\n    }\n</style>\n<table border=\"1\" class=\"dataframe\">\n  <thead>\n    <tr style=\"text-align: right;\">\n      <th></th>\n      <th>price</th>\n      <th>bid</th>\n      <th>ask</th>\n      <th>size</th>\n      <th>v</th>\n      <th>dv</th>\n    </tr>\n  </thead>\n  <tbody>\n    <tr>\n      <th>2009-09-28 09:30:00</th>\n      <td>50.75</td>\n      <td>50.70</td>\n      <td>50.79</td>\n      <td>369.0</td>\n      <td>369.0</td>\n      <td>1.871599e+04</td>\n    </tr>\n    <tr>\n      <th>2009-09-28 09:31:32</th>\n      <td>50.75</td>\n      <td>50.75</td>\n      <td>50.76</td>\n      <td>100.0</td>\n      <td>100.0</td>\n      <td>5.075000e+03</td>\n    </tr>\n    <tr>\n      <th>2009-09-28 09:31:33</th>\n      <td>50.75</td>\n      <td>50.72</td>\n      <td>50.75</td>\n      <td>100.0</td>\n      <td>100.0</td>\n      <td>5.075000e+03</td>\n    </tr>\n    <tr>\n      <th>2009-09-28 09:31:50</th>\n      <td>50.75</td>\n      <td>50.73</td>\n      <td>50.76</td>\n      <td>300.0</td>\n      <td>300.0</td>\n      <td>1.522500e+04</td>\n    </tr>\n    <tr>\n      <th>2009-09-28 09:31:51</th>\n      <td>50.75</td>\n      <td>50.74</td>\n      <td>50.76</td>\n      <td>300.0</td>\n      <td>300.0</td>\n      <td>1.522500e+04</td>\n    </tr>\n    <tr>\n      <th>...</th>\n      <td>...</td>\n      <td>...</td>\n      <td>...</td>\n      <td>...</td>\n      <td>...</td>\n      <td>...</td>\n    </tr>\n    <tr>\n      <th>2018-02-26 15:59:59</th>\n      <td>115.35</td>\n      <td>115.34</td>\n      <td>115.36</td>\n      <td>412.5</td>\n      <td>412.5</td>\n      <td>4.758188e+04</td>\n    </tr>\n    <tr>\n      <th>2018-02-26 16:00:00</th>\n      <td>115.35</td>\n      <td>115.34</td>\n      <td>115.35</td>\n      <td>5362.0</td>\n      <td>5362.0</td>\n      <td>6.185067e+05</td>\n    </tr>\n    <tr>\n      <th>2018-02-26 16:10:00</th>\n      <td>115.35</td>\n      <td>115.22</td>\n      <td>115.58</td>\n      <td>0.0</td>\n      <td>0.0</td>\n      <td>0.000000e+00</td>\n    </tr>\n    <tr>\n      <th>2018-02-26 16:16:14</th>\n      <td>115.30</td>\n      <td>114.72</td>\n      <td>115.62</td>\n      <td>778677.0</td>\n      <td>778677.0</td>\n      <td>8.978146e+07</td>\n    </tr>\n    <tr>\n      <th>2018-02-26 18:30:00</th>\n      <td>115.35</td>\n      <td>114.72</td>\n      <td>117.38</td>\n      <td>0.0</td>\n      <td>0.0</td>\n      <td>0.000000e+00</td>\n    </tr>\n  </tbody>\n</table>\n<p>941297 rows × 6 columns</p>\n</div>"
     },
     "execution_count": 2,
     "metadata": {},
     "output_type": "execute_result"
    }
   ],
   "source": [
    "df = pd.read_parquet('./Data/IVE_dollarValue_resampled_1s.parquet')\n",
    "#df = fml.getDataFrame(df)\n",
    "mad = fml.madOutlier(df.price.values.reshape(-1, 1))\n",
    "df = df.loc[~mad]\n",
    "df"
   ],
   "metadata": {
    "collapsed": false,
    "ExecuteTime": {
     "end_time": "2023-05-26T09:08:33.714052Z",
     "start_time": "2023-05-26T09:08:32.042299Z"
    }
   }
  },
  {
   "cell_type": "markdown",
   "source": [
    "#### DRB Sampling"
   ],
   "metadata": {
    "collapsed": false
   }
  },
  {
   "cell_type": "code",
   "execution_count": 4,
   "outputs": [
    {
     "ename": "KeyError",
     "evalue": "'Column not found: value'",
     "output_type": "error",
     "traceback": [
      "\u001B[0;31m---------------------------------------------------------------------------\u001B[0m",
      "\u001B[0;31mKeyError\u001B[0m                                  Traceback (most recent call last)",
      "\u001B[0;32m/var/folders/_x/jd8cnzcs4v9dgfmy2l73m8b80000gn/T/ipykernel_66055/3457434836.py\u001B[0m in \u001B[0;36m<module>\u001B[0;34m\u001B[0m\n\u001B[0;32m----> 1\u001B[0;31m \u001B[0mfml\u001B[0m\u001B[0;34m.\u001B[0m\u001B[0mgetRunBars\u001B[0m\u001B[0;34m(\u001B[0m\u001B[0mdf\u001B[0m\u001B[0;34m,\u001B[0m \u001B[0;36m1000000\u001B[0m\u001B[0;34m,\u001B[0m \u001B[0;36m0.05\u001B[0m\u001B[0;34m,\u001B[0m \u001B[0;36m30000\u001B[0m\u001B[0;34m,\u001B[0m \u001B[0;36m50000\u001B[0m\u001B[0;34m,\u001B[0m \u001B[0mticker\u001B[0m \u001B[0;34m=\u001B[0m \u001B[0;34m'v'\u001B[0m\u001B[0;34m)\u001B[0m\u001B[0;34m\u001B[0m\u001B[0;34m\u001B[0m\u001B[0m\n\u001B[0m",
      "\u001B[0;32m~/Desktop/Pycharm/Financial_Machine_Learning/FinancialMachineLearning.py\u001B[0m in \u001B[0;36mgetRunBars\u001B[0;34m(tick, initial_expected_bar_size, initial_buy_prob, initial_buy_volume, initial_sell_volume, ticker, lambda_bar_size, lambda_buy_prob, lambda_buy_volume, lambda_sell_volume)\u001B[0m\n\u001B[1;32m    385\u001B[0m     \u001B[0mbars\u001B[0m \u001B[0;34m=\u001B[0m \u001B[0mgroupby\u001B[0m\u001B[0;34m[\u001B[0m\u001B[0;34m'price'\u001B[0m\u001B[0;34m]\u001B[0m\u001B[0;34m.\u001B[0m\u001B[0mohlc\u001B[0m\u001B[0;34m(\u001B[0m\u001B[0;34m)\u001B[0m\u001B[0;34m\u001B[0m\u001B[0;34m\u001B[0m\u001B[0m\n\u001B[1;32m    386\u001B[0m     \u001B[0mbars\u001B[0m\u001B[0;34m[\u001B[0m\u001B[0mticker\u001B[0m\u001B[0;34m]\u001B[0m \u001B[0;34m=\u001B[0m \u001B[0mgroupby\u001B[0m\u001B[0;34m[\u001B[0m\u001B[0mticker\u001B[0m\u001B[0;34m]\u001B[0m\u001B[0;34m.\u001B[0m\u001B[0msum\u001B[0m\u001B[0;34m(\u001B[0m\u001B[0;34m)\u001B[0m\u001B[0;34m\u001B[0m\u001B[0;34m\u001B[0m\u001B[0m\n\u001B[0;32m--> 387\u001B[0;31m     \u001B[0mbars\u001B[0m\u001B[0;34m[\u001B[0m\u001B[0;34m'value'\u001B[0m\u001B[0;34m]\u001B[0m \u001B[0;34m=\u001B[0m \u001B[0mgroupby\u001B[0m\u001B[0;34m[\u001B[0m\u001B[0;34m'value'\u001B[0m\u001B[0;34m]\u001B[0m\u001B[0;34m.\u001B[0m\u001B[0msum\u001B[0m\u001B[0;34m(\u001B[0m\u001B[0;34m)\u001B[0m\u001B[0;34m\u001B[0m\u001B[0;34m\u001B[0m\u001B[0m\n\u001B[0m\u001B[1;32m    388\u001B[0m     \u001B[0;31m#bars[['volume', 'value']] = groupby[['volume', 'value']].sum()\u001B[0m\u001B[0;34m\u001B[0m\u001B[0;34m\u001B[0m\u001B[0m\n\u001B[1;32m    389\u001B[0m     \u001B[0mbars\u001B[0m\u001B[0;34m[\u001B[0m\u001B[0;34m't'\u001B[0m\u001B[0;34m]\u001B[0m \u001B[0;34m=\u001B[0m \u001B[0mgroupby\u001B[0m\u001B[0;34m[\u001B[0m\u001B[0;34m't'\u001B[0m\u001B[0;34m]\u001B[0m\u001B[0;34m.\u001B[0m\u001B[0mfirst\u001B[0m\u001B[0;34m(\u001B[0m\u001B[0;34m)\u001B[0m\u001B[0;34m\u001B[0m\u001B[0;34m\u001B[0m\u001B[0m\n",
      "\u001B[0;32m~/opt/anaconda3/lib/python3.9/site-packages/pandas/core/groupby/generic.py\u001B[0m in \u001B[0;36m__getitem__\u001B[0;34m(self, key)\u001B[0m\n\u001B[1;32m   1336\u001B[0m                 \u001B[0mstacklevel\u001B[0m\u001B[0;34m=\u001B[0m\u001B[0mfind_stack_level\u001B[0m\u001B[0;34m(\u001B[0m\u001B[0;34m)\u001B[0m\u001B[0;34m,\u001B[0m\u001B[0;34m\u001B[0m\u001B[0;34m\u001B[0m\u001B[0m\n\u001B[1;32m   1337\u001B[0m             )\n\u001B[0;32m-> 1338\u001B[0;31m         \u001B[0;32mreturn\u001B[0m \u001B[0msuper\u001B[0m\u001B[0;34m(\u001B[0m\u001B[0;34m)\u001B[0m\u001B[0;34m.\u001B[0m\u001B[0m__getitem__\u001B[0m\u001B[0;34m(\u001B[0m\u001B[0mkey\u001B[0m\u001B[0;34m)\u001B[0m\u001B[0;34m\u001B[0m\u001B[0;34m\u001B[0m\u001B[0m\n\u001B[0m\u001B[1;32m   1339\u001B[0m \u001B[0;34m\u001B[0m\u001B[0m\n\u001B[1;32m   1340\u001B[0m     \u001B[0;32mdef\u001B[0m \u001B[0m_gotitem\u001B[0m\u001B[0;34m(\u001B[0m\u001B[0mself\u001B[0m\u001B[0;34m,\u001B[0m \u001B[0mkey\u001B[0m\u001B[0;34m,\u001B[0m \u001B[0mndim\u001B[0m\u001B[0;34m:\u001B[0m \u001B[0mint\u001B[0m\u001B[0;34m,\u001B[0m \u001B[0msubset\u001B[0m\u001B[0;34m=\u001B[0m\u001B[0;32mNone\u001B[0m\u001B[0;34m)\u001B[0m\u001B[0;34m:\u001B[0m\u001B[0;34m\u001B[0m\u001B[0;34m\u001B[0m\u001B[0m\n",
      "\u001B[0;32m~/opt/anaconda3/lib/python3.9/site-packages/pandas/core/base.py\u001B[0m in \u001B[0;36m__getitem__\u001B[0;34m(self, key)\u001B[0m\n\u001B[1;32m    248\u001B[0m         \u001B[0;32melse\u001B[0m\u001B[0;34m:\u001B[0m\u001B[0;34m\u001B[0m\u001B[0;34m\u001B[0m\u001B[0m\n\u001B[1;32m    249\u001B[0m             \u001B[0;32mif\u001B[0m \u001B[0mkey\u001B[0m \u001B[0;32mnot\u001B[0m \u001B[0;32min\u001B[0m \u001B[0mself\u001B[0m\u001B[0;34m.\u001B[0m\u001B[0mobj\u001B[0m\u001B[0;34m:\u001B[0m\u001B[0;34m\u001B[0m\u001B[0;34m\u001B[0m\u001B[0m\n\u001B[0;32m--> 250\u001B[0;31m                 \u001B[0;32mraise\u001B[0m \u001B[0mKeyError\u001B[0m\u001B[0;34m(\u001B[0m\u001B[0;34mf\"Column not found: {key}\"\u001B[0m\u001B[0;34m)\u001B[0m\u001B[0;34m\u001B[0m\u001B[0;34m\u001B[0m\u001B[0m\n\u001B[0m\u001B[1;32m    251\u001B[0m             \u001B[0msubset\u001B[0m \u001B[0;34m=\u001B[0m \u001B[0mself\u001B[0m\u001B[0;34m.\u001B[0m\u001B[0mobj\u001B[0m\u001B[0;34m[\u001B[0m\u001B[0mkey\u001B[0m\u001B[0;34m]\u001B[0m\u001B[0;34m\u001B[0m\u001B[0;34m\u001B[0m\u001B[0m\n\u001B[1;32m    252\u001B[0m             \u001B[0mndim\u001B[0m \u001B[0;34m=\u001B[0m \u001B[0msubset\u001B[0m\u001B[0;34m.\u001B[0m\u001B[0mndim\u001B[0m\u001B[0;34m\u001B[0m\u001B[0;34m\u001B[0m\u001B[0m\n",
      "\u001B[0;31mKeyError\u001B[0m: 'Column not found: value'"
     ]
    }
   ],
   "source": [],
   "metadata": {
    "collapsed": false,
    "ExecuteTime": {
     "end_time": "2023-05-26T09:10:17.150219Z",
     "start_time": "2023-05-26T09:10:12.618576Z"
    }
   }
  },
  {
   "cell_type": "code",
   "execution_count": null,
   "outputs": [],
   "source": [
    "dollar_M = 1000000\n",
    "dollar_df = fml.\n",
    "dollar_df = fml(df, 'dv', dollar_M)\n",
    "dollar_df = dollar_df.groupby(level = 0).first()\n",
    "dollar_df"
   ],
   "metadata": {
    "collapsed": false
   }
  }
 ],
 "metadata": {
  "kernelspec": {
   "display_name": "Python 3",
   "language": "python",
   "name": "python3"
  },
  "language_info": {
   "codemirror_mode": {
    "name": "ipython",
    "version": 2
   },
   "file_extension": ".py",
   "mimetype": "text/x-python",
   "name": "python",
   "nbconvert_exporter": "python",
   "pygments_lexer": "ipython2",
   "version": "2.7.6"
  }
 },
 "nbformat": 4,
 "nbformat_minor": 0
}
